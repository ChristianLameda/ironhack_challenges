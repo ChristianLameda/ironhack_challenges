{
 "cells": [
  {
   "cell_type": "markdown",
   "metadata": {},
   "source": [
    "# Deadly Visualizations!!!\n",
    "\n",
    "![Image](../images/viz_types_portada.png)"
   ]
  },
  {
   "cell_type": "markdown",
   "metadata": {},
   "source": [
    "## Setup\n",
    "\n",
    "First we need to create a basic setup which includes:\n",
    "\n",
    "- Importing the libraries.\n",
    "\n",
    "- Reading the dataset file (source [Instituto Nacional de Estadística](https://www.ine.es/ss/Satellite?L=es_ES&c=Page&cid=1259942408928&p=1259942408928&pagename=ProductosYServicios%2FPYSLayout)).\n",
    "\n",
    "- Create a couple of columns and tables for the analysis.\n",
    "\n",
    "__NOTE:__ some functions were already created in order to help you go through the challenge. However, feel free to perform any code you might need."
   ]
  },
  {
   "cell_type": "code",
   "execution_count": 1,
   "metadata": {},
   "outputs": [
    {
     "data": {
      "text/html": [
       "        <script type=\"text/javascript\">\n",
       "        window.PlotlyConfig = {MathJaxConfig: 'local'};\n",
       "        if (window.MathJax && window.MathJax.Hub && window.MathJax.Hub.Config) {window.MathJax.Hub.Config({SVG: {font: \"STIX-Web\"}});}\n",
       "        if (typeof require !== 'undefined') {\n",
       "        require.undef(\"plotly\");\n",
       "        requirejs.config({\n",
       "            paths: {\n",
       "                'plotly': ['https://cdn.plot.ly/plotly-2.20.0.min']\n",
       "            }\n",
       "        });\n",
       "        require(['plotly'], function(Plotly) {\n",
       "            window._Plotly = Plotly;\n",
       "        });\n",
       "        }\n",
       "        </script>\n",
       "        "
      ]
     },
     "metadata": {},
     "output_type": "display_data"
    }
   ],
   "source": [
    "# imports\n",
    "\n",
    "import sys\n",
    "import re\n",
    "sys.path.insert(0, \"../modules\")\n",
    "\n",
    "import numpy as np\n",
    "import pandas as pd\n",
    "\n",
    "import plotly.express as px\n",
    "import cufflinks as cf\n",
    "cf.go_offline()\n",
    "\n",
    "import module as mod     # functions are include in module.py"
   ]
  },
  {
   "cell_type": "code",
   "execution_count": 2,
   "metadata": {},
   "outputs": [
    {
     "name": "stdout",
     "output_type": "stream",
     "text": [
      "<class 'pandas.core.frame.DataFrame'>\n",
      "RangeIndex: 301158 entries, 0 to 301157\n",
      "Data columns (total 5 columns):\n",
      " #   Column           Non-Null Count   Dtype \n",
      "---  ------           --------------   ----- \n",
      " 0   Causa de muerte  301158 non-null  object\n",
      " 1   Sexo             301158 non-null  object\n",
      " 2   Edad             301158 non-null  object\n",
      " 3   Periodo          301158 non-null  int64 \n",
      " 4   Total            301158 non-null  int64 \n",
      "dtypes: int64(2), object(3)\n",
      "memory usage: 11.5+ MB\n"
     ]
    }
   ],
   "source": [
    "# read dataset\n",
    "\n",
    "deaths = pd.read_csv('../data/7947.csv', sep=';', thousands='.')\n",
    "\n",
    "deaths.info()"
   ]
  },
  {
   "cell_type": "code",
   "execution_count": 3,
   "metadata": {},
   "outputs": [
    {
     "name": "stdout",
     "output_type": "stream",
     "text": [
      "<class 'pandas.core.frame.DataFrame'>\n",
      "RangeIndex: 301158 entries, 0 to 301157\n",
      "Data columns (total 8 columns):\n",
      " #   Column           Non-Null Count   Dtype \n",
      "---  ------           --------------   ----- \n",
      " 0   Causa de muerte  301158 non-null  object\n",
      " 1   Sexo             301158 non-null  object\n",
      " 2   Edad             301158 non-null  object\n",
      " 3   Periodo          301158 non-null  int64 \n",
      " 4   Total            301158 non-null  int64 \n",
      " 5   cause_code       301158 non-null  object\n",
      " 6   cause_group      301158 non-null  object\n",
      " 7   cause_name       301158 non-null  object\n",
      "dtypes: int64(2), object(6)\n",
      "memory usage: 18.4+ MB\n"
     ]
    }
   ],
   "source": [
    "# add some columns...you'll need them later\n",
    "\n",
    "deaths['cause_code'] = deaths['Causa de muerte'].apply(mod.cause_code)\n",
    "deaths['cause_group'] = deaths['Causa de muerte'].apply(mod.cause_types)\n",
    "deaths['cause_name'] = deaths['Causa de muerte'].apply(mod.cause_name)\n",
    "\n",
    "deaths.info()"
   ]
  },
  {
   "cell_type": "code",
   "execution_count": 4,
   "metadata": {},
   "outputs": [
    {
     "data": {
      "text/html": [
       "<div>\n",
       "<style scoped>\n",
       "    .dataframe tbody tr th:only-of-type {\n",
       "        vertical-align: middle;\n",
       "    }\n",
       "\n",
       "    .dataframe tbody tr th {\n",
       "        vertical-align: top;\n",
       "    }\n",
       "\n",
       "    .dataframe thead th {\n",
       "        text-align: right;\n",
       "    }\n",
       "</style>\n",
       "<table border=\"1\" class=\"dataframe\">\n",
       "  <thead>\n",
       "    <tr style=\"text-align: right;\">\n",
       "      <th></th>\n",
       "      <th>categorical_variable</th>\n",
       "      <th>number_of_possible_values</th>\n",
       "      <th>values</th>\n",
       "    </tr>\n",
       "  </thead>\n",
       "  <tbody>\n",
       "    <tr>\n",
       "      <th>0</th>\n",
       "      <td>cause_code</td>\n",
       "      <td>117</td>\n",
       "      <td>[001-102, 001-008, 001, 002, 003, 004, 005, 00...</td>\n",
       "    </tr>\n",
       "    <tr>\n",
       "      <th>1</th>\n",
       "      <td>cause_name</td>\n",
       "      <td>117</td>\n",
       "      <td>[I-XXII.Todas las causas, I.Enfermedades infec...</td>\n",
       "    </tr>\n",
       "    <tr>\n",
       "      <th>2</th>\n",
       "      <td>Periodo</td>\n",
       "      <td>39</td>\n",
       "      <td>[2018, 2017, 2016, 2015, 2014, 2013, 2012, 201...</td>\n",
       "    </tr>\n",
       "    <tr>\n",
       "      <th>3</th>\n",
       "      <td>Edad</td>\n",
       "      <td>22</td>\n",
       "      <td>[Todas las edades, Menos de 1 año, De 1 a 4 añ...</td>\n",
       "    </tr>\n",
       "    <tr>\n",
       "      <th>4</th>\n",
       "      <td>Sexo</td>\n",
       "      <td>3</td>\n",
       "      <td>[Total, Hombres, Mujeres]</td>\n",
       "    </tr>\n",
       "    <tr>\n",
       "      <th>5</th>\n",
       "      <td>cause_group</td>\n",
       "      <td>2</td>\n",
       "      <td>[Multiple causes, Single cause]</td>\n",
       "    </tr>\n",
       "  </tbody>\n",
       "</table>\n",
       "</div>"
      ],
      "text/plain": [
       "  categorical_variable  number_of_possible_values  \\\n",
       "0           cause_code                        117   \n",
       "1           cause_name                        117   \n",
       "2              Periodo                         39   \n",
       "3                 Edad                         22   \n",
       "4                 Sexo                          3   \n",
       "5          cause_group                          2   \n",
       "\n",
       "                                              values  \n",
       "0  [001-102, 001-008, 001, 002, 003, 004, 005, 00...  \n",
       "1  [I-XXII.Todas las causas, I.Enfermedades infec...  \n",
       "2  [2018, 2017, 2016, 2015, 2014, 2013, 2012, 201...  \n",
       "3  [Todas las edades, Menos de 1 año, De 1 a 4 añ...  \n",
       "4                          [Total, Hombres, Mujeres]  \n",
       "5                    [Multiple causes, Single cause]  "
      ]
     },
     "execution_count": 4,
     "metadata": {},
     "output_type": "execute_result"
    }
   ],
   "source": [
    "# lets check the categorical variables\n",
    "\n",
    "var_list = ['Sexo', 'Edad', 'Periodo', 'cause_code', 'cause_name', 'cause_group']\n",
    "\n",
    "categories = mod.cat_var(deaths, var_list)\n",
    "categories"
   ]
  },
  {
   "cell_type": "code",
   "execution_count": 5,
   "metadata": {},
   "outputs": [
    {
     "data": {
      "text/html": [
       "<div>\n",
       "<style scoped>\n",
       "    .dataframe tbody tr th:only-of-type {\n",
       "        vertical-align: middle;\n",
       "    }\n",
       "\n",
       "    .dataframe tbody tr th {\n",
       "        vertical-align: top;\n",
       "    }\n",
       "\n",
       "    .dataframe thead th {\n",
       "        text-align: right;\n",
       "    }\n",
       "</style>\n",
       "<table border=\"1\" class=\"dataframe\">\n",
       "  <thead>\n",
       "    <tr style=\"text-align: right;\">\n",
       "      <th></th>\n",
       "      <th>cause_code</th>\n",
       "      <th>cause_name</th>\n",
       "    </tr>\n",
       "  </thead>\n",
       "  <tbody>\n",
       "    <tr>\n",
       "      <th>0</th>\n",
       "      <td>001</td>\n",
       "      <td>Enfermedades infecciosas intestinales</td>\n",
       "    </tr>\n",
       "    <tr>\n",
       "      <th>1</th>\n",
       "      <td>001-008</td>\n",
       "      <td>I.Enfermedades infecciosas y parasitarias</td>\n",
       "    </tr>\n",
       "    <tr>\n",
       "      <th>2</th>\n",
       "      <td>001-102</td>\n",
       "      <td>I-XXII.Todas las causas</td>\n",
       "    </tr>\n",
       "    <tr>\n",
       "      <th>3</th>\n",
       "      <td>002</td>\n",
       "      <td>Tuberculosis y sus efectos tardíos</td>\n",
       "    </tr>\n",
       "    <tr>\n",
       "      <th>4</th>\n",
       "      <td>003</td>\n",
       "      <td>Enfermedad meningocócica</td>\n",
       "    </tr>\n",
       "    <tr>\n",
       "      <th>...</th>\n",
       "      <td>...</td>\n",
       "      <td>...</td>\n",
       "    </tr>\n",
       "    <tr>\n",
       "      <th>112</th>\n",
       "      <td>098</td>\n",
       "      <td>Suicidio y lesiones autoinfligidas</td>\n",
       "    </tr>\n",
       "    <tr>\n",
       "      <th>113</th>\n",
       "      <td>099</td>\n",
       "      <td>Agresiones (homicidio)</td>\n",
       "    </tr>\n",
       "    <tr>\n",
       "      <th>114</th>\n",
       "      <td>100</td>\n",
       "      <td>Eventos de intención no determinada</td>\n",
       "    </tr>\n",
       "    <tr>\n",
       "      <th>115</th>\n",
       "      <td>101</td>\n",
       "      <td>Complicaciones de la atención médica y quirúrgica</td>\n",
       "    </tr>\n",
       "    <tr>\n",
       "      <th>116</th>\n",
       "      <td>102</td>\n",
       "      <td>Otras causas externas y sus efectos tardíos</td>\n",
       "    </tr>\n",
       "  </tbody>\n",
       "</table>\n",
       "<p>117 rows × 2 columns</p>\n",
       "</div>"
      ],
      "text/plain": [
       "    cause_code                                         cause_name\n",
       "0          001              Enfermedades infecciosas intestinales\n",
       "1      001-008          I.Enfermedades infecciosas y parasitarias\n",
       "2      001-102                            I-XXII.Todas las causas\n",
       "3          002                 Tuberculosis y sus efectos tardíos\n",
       "4          003                           Enfermedad meningocócica\n",
       "..         ...                                                ...\n",
       "112        098                 Suicidio y lesiones autoinfligidas\n",
       "113        099                             Agresiones (homicidio)\n",
       "114        100                Eventos de intención no determinada\n",
       "115        101  Complicaciones de la atención médica y quirúrgica\n",
       "116        102        Otras causas externas y sus efectos tardíos\n",
       "\n",
       "[117 rows x 2 columns]"
      ]
     },
     "execution_count": 5,
     "metadata": {},
     "output_type": "execute_result"
    }
   ],
   "source": [
    "# we need also to create a causes table for the analysis\n",
    "\n",
    "causes_table = deaths[['cause_code', 'cause_name']].drop_duplicates().sort_values(by='cause_code').reset_index(drop=True)\n",
    "\n",
    "causes_table"
   ]
  },
  {
   "cell_type": "code",
   "execution_count": 6,
   "metadata": {},
   "outputs": [
    {
     "data": {
      "text/plain": [
       "array(['001-102  I-XXII.Todas las causas',\n",
       "       '001-008  I.Enfermedades infecciosas y parasitarias',\n",
       "       '001  Enfermedades infecciosas intestinales',\n",
       "       '002  Tuberculosis y sus efectos tardíos',\n",
       "       '003  Enfermedad meningocócica', '004  Septicemia',\n",
       "       '005  Hepatitis vírica', '006  SIDA',\n",
       "       '007  VIH+ (portador, evidencias de laboratorio del VIH, ...)',\n",
       "       '008  Resto de enfermedades infecciosas y parasitarias y sus efectos tardíos',\n",
       "       '009-041  II.Tumores',\n",
       "       '009  Tumor maligno del labio, de la cavidad bucal y de la faringe',\n",
       "       '010  Tumor maligno del esófago',\n",
       "       '011  Tumor maligno del estómago', '012  Tumor maligno del colon',\n",
       "       '013  Tumor maligno del recto, de la porción rectosigmoide y del ano',\n",
       "       '014  Tumor maligno del hígado y vías biliares intrahepáticas',\n",
       "       '015  Tumor maligno del páncreas',\n",
       "       '016  Otros tumores malignos digestivos',\n",
       "       '017  Tumor maligno de la laringe',\n",
       "       '018  Tumor maligno de la tráquea, de los bronquios y del pulmón',\n",
       "       '019  Otros tumores malignos respiratorios e intratorácicos',\n",
       "       '020  Tumores malignos del hueso y de los cartílagos articulares',\n",
       "       '021  Melanoma maligno de la piel',\n",
       "       '022  Otros tumores malignos de la piel y de los tejidos blandos',\n",
       "       '023  Tumor maligno de la mama',\n",
       "       '024  Tumor maligno del cuello del útero',\n",
       "       '025  Tumor maligno de otras partes del útero',\n",
       "       '026  Tumor maligno del ovario',\n",
       "       '027  Tumores malignos de otros órganos genitales femeninos',\n",
       "       '028  Tumor maligno de la próstata',\n",
       "       '029  Tumores malignos de otros órganos genitales masculinos',\n",
       "       '030  Tumor maligno del riñón, excepto pelvis renal',\n",
       "       '031  Tumor maligno de la vejiga',\n",
       "       '032  Otros tumores malignos de las vías urinarias',\n",
       "       '033  Tumor maligno del encéfalo',\n",
       "       '034  Otros tumores malignos neurológicos y endocrinos',\n",
       "       '035  Tumor maligno de sitios mal definidos, secundarios y de sitios no especificados',\n",
       "       '036  Tumores malignos del tejido linfático, de los órganos hematopoyéticos y de tejidos afines, excepto leucemia',\n",
       "       '037  Leucemia', '038  Tumores in situ', '039  Tumores benignos',\n",
       "       '040  Síndrome mielodisplásico',\n",
       "       '041  Otros tumores de comportamiento incierto o desconocido',\n",
       "       '042-043  III.Enfermedades de la sangre y de los órganos hematopoyéticos, y ciertos trastornos que afectan al mecanismo de la inmunidad',\n",
       "       '042 Enfermedades de la sangre y de los órganos hematopoyéticos',\n",
       "       '043 Ciertos trastornos que afectan al mecanismo de la inmunidad',\n",
       "       '044-045  IV.Enfermedades endocrinas, nutricionales y metabólicas',\n",
       "       '044  Diabetes mellitus',\n",
       "       '045  Otras enfermedades endocrinas, nutricionales y metabólicas',\n",
       "       '046-049  V.Trastornos mentales y del comportamiento',\n",
       "       '046  Trastornos mentales orgánicos, senil y presenil',\n",
       "       '047  Trastornos mentales debidos al uso de alcohol',\n",
       "       '048  Trastornos mentales debidos al uso de drogas (drogodependencia, toxicomanía)',\n",
       "       '049  Otros trastornos mentales y del comportamiento',\n",
       "       '050-052  VI-VIII.Enfermedades del sistema nervioso y de los órganos de los sentidos',\n",
       "       '050  Meningitis (otras en 003)', '051  Enfermedad de Alzheimer',\n",
       "       '052  Otras enfermedades del sistema nervioso y de los órganos de los sentidos',\n",
       "       '053-061 IX.Enfermedades del sistema circulatorio',\n",
       "       '053  Enfermedades cardíacas reumáticas crónicas',\n",
       "       '054  Enfermedades hipertensivas',\n",
       "       '055  Infarto agudo de miocardio',\n",
       "       '056  Otras enfermedades isquémicas del corazón',\n",
       "       '057  Insuficiencia cardíaca',\n",
       "       '058 Otras enfermedades del corazón',\n",
       "       '059  Enfermedades cerebrovasculares', '060  Aterosclerosis',\n",
       "       '061  Otras enfermedades de los vasos sanguíneos',\n",
       "       '062-067  X.Enfermedades del sistema respiratorio',\n",
       "       '062  Influenza (gripe) (incluye gripe aviar y gripe A)',\n",
       "       '063  Neumonía',\n",
       "       '064  Enfermedades crónicas de las vías respiratorias inferiores (excepto asma)',\n",
       "       '065  Asma', '066  Insuficiencia respiratoria',\n",
       "       '067  Otras enfermedades del sistema respiratorio',\n",
       "       '068-072  XI.Enfermedades del sistema digestivo',\n",
       "       '068  Úlcera de estómago, duodeno y yeyuno',\n",
       "       '069  Enteritis y colitis no infecciosas',\n",
       "       '070  Enfermedad vascular intestinal',\n",
       "       '071  Cirrosis y otras enfermedades crónicas del hígado',\n",
       "       '072  Otras enfermedades del sistema digestivo',\n",
       "       '073  XII.Enfermedades de la piel y del tejido subcutáneo',\n",
       "       '074-076  XIII.Enfermedades del sistema osteomuscular y del tejido conjuntivo',\n",
       "       '074  Artritis reumatoide y osteoartrosis',\n",
       "       '075  Osteoporosis y fractura patológica',\n",
       "       '076  Otras enfermedades del sistema osteomuscular y del tejido conjuntivo',\n",
       "       '077-080  XIV.Enfermedades del sistema genitourinario',\n",
       "       '077  Enfermedades del riñón y del uréter',\n",
       "       '078  Enfermedades de los órganos genitales masculinos',\n",
       "       '079  Enfermedades de los órganos genitales femeninos y trastornos de la mama',\n",
       "       '080  Otras enfermedades del sistema genitourinario',\n",
       "       '081  XV.Embarazo, parto y puerperio',\n",
       "       '082  XVI.Afecciones originadas en el periodo perinatal',\n",
       "       '083-085  XVII.Malformaciones congénitas, deformidades y anomalías cromosómicas',\n",
       "       '083  Malformaciones congénitas del sistema nervioso',\n",
       "       '084  Malformaciones congénitas del sistema circulatorio',\n",
       "       '085  Otras malformaciones congénitas, deformidades y anomalías cromosómicas',\n",
       "       '086-089  XVIII.Síntomas, signos y hallazgos anormales clínicos y de laboratorio, no clasificados en otra parte',\n",
       "       '086 Paro cardíaco, muerte sin asistencia y otra causa desconocida de mortalidad',\n",
       "       '087  Senilidad', '088 Muerte súbita infantil',\n",
       "       '089  Resto de síntomas, signos y hallazgos anormales clínicos y de laboratorio, no clasificados en otra parte',\n",
       "       '090-102  XX.Causas externas de mortalidad',\n",
       "       '090  Accidentes de tráfico',\n",
       "       '091  Otros accidentes de transporte', '092  Caídas accidentales',\n",
       "       '093  Ahogamiento, sumersión y sofocación accidentales',\n",
       "       '094  Accidentes por fuego, humo y sustancias calientes',\n",
       "       '095  Envenenamiento accidental por psicofármacos y drogas de abuso',\n",
       "       '096  Otros envenenamientos accidentales', '097  Otros accidentes',\n",
       "       '098  Suicidio y lesiones autoinfligidas',\n",
       "       '099  Agresiones (homicidio)',\n",
       "       '100  Eventos de intención no determinada',\n",
       "       '101  Complicaciones de la atención médica y quirúrgica',\n",
       "       '102  Otras causas externas y sus efectos tardíos'], dtype=object)"
      ]
     },
     "execution_count": 6,
     "metadata": {},
     "output_type": "execute_result"
    }
   ],
   "source": [
    "# And some space for free-style Pandas!!! (e.g.: df['column_name'].unique())\n",
    "\n",
    "deaths['Causa de muerte'].unique()\n",
    "#deaths['Sexo'].unique()\n",
    "#deaths['Edad'].unique()\n",
    "#deaths['Periodo'].unique()\n",
    "#deaths['Total'].unique()"
   ]
  },
  {
   "cell_type": "code",
   "execution_count": 7,
   "metadata": {},
   "outputs": [
    {
     "data": {
      "text/plain": [
       "array(['001-102  I-XXII.Todas las causas',\n",
       "       '001-008  I.Enfermedades infecciosas y parasitarias',\n",
       "       '001  Enfermedades infecciosas intestinales',\n",
       "       '002  Tuberculosis y sus efectos tardíos',\n",
       "       '003  Enfermedad meningocócica', '004  Septicemia',\n",
       "       '005  Hepatitis vírica', '006  SIDA',\n",
       "       '007  VIH+ (portador, evidencias de laboratorio del VIH, ...)',\n",
       "       '008  Resto de enfermedades infecciosas y parasitarias y sus efectos tardíos',\n",
       "       '009-041  II.Tumores',\n",
       "       '009  Tumor maligno del labio, de la cavidad bucal y de la faringe',\n",
       "       '010  Tumor maligno del esófago',\n",
       "       '011  Tumor maligno del estómago', '012  Tumor maligno del colon',\n",
       "       '013  Tumor maligno del recto, de la porción rectosigmoide y del ano',\n",
       "       '014  Tumor maligno del hígado y vías biliares intrahepáticas',\n",
       "       '015  Tumor maligno del páncreas',\n",
       "       '016  Otros tumores malignos digestivos',\n",
       "       '017  Tumor maligno de la laringe',\n",
       "       '018  Tumor maligno de la tráquea, de los bronquios y del pulmón',\n",
       "       '019  Otros tumores malignos respiratorios e intratorácicos',\n",
       "       '020  Tumores malignos del hueso y de los cartílagos articulares',\n",
       "       '021  Melanoma maligno de la piel',\n",
       "       '022  Otros tumores malignos de la piel y de los tejidos blandos',\n",
       "       '023  Tumor maligno de la mama',\n",
       "       '024  Tumor maligno del cuello del útero',\n",
       "       '025  Tumor maligno de otras partes del útero',\n",
       "       '026  Tumor maligno del ovario',\n",
       "       '027  Tumores malignos de otros órganos genitales femeninos',\n",
       "       '028  Tumor maligno de la próstata',\n",
       "       '029  Tumores malignos de otros órganos genitales masculinos',\n",
       "       '030  Tumor maligno del riñón, excepto pelvis renal',\n",
       "       '031  Tumor maligno de la vejiga',\n",
       "       '032  Otros tumores malignos de las vías urinarias',\n",
       "       '033  Tumor maligno del encéfalo',\n",
       "       '034  Otros tumores malignos neurológicos y endocrinos',\n",
       "       '035  Tumor maligno de sitios mal definidos, secundarios y de sitios no especificados',\n",
       "       '036  Tumores malignos del tejido linfático, de los órganos hematopoyéticos y de tejidos afines, excepto leucemia',\n",
       "       '037  Leucemia', '038  Tumores in situ', '039  Tumores benignos',\n",
       "       '040  Síndrome mielodisplásico',\n",
       "       '041  Otros tumores de comportamiento incierto o desconocido',\n",
       "       '042-043  III.Enfermedades de la sangre y de los órganos hematopoyéticos, y ciertos trastornos que afectan al mecanismo de la inmunidad',\n",
       "       '042 Enfermedades de la sangre y de los órganos hematopoyéticos',\n",
       "       '043 Ciertos trastornos que afectan al mecanismo de la inmunidad',\n",
       "       '044-045  IV.Enfermedades endocrinas, nutricionales y metabólicas',\n",
       "       '044  Diabetes mellitus',\n",
       "       '045  Otras enfermedades endocrinas, nutricionales y metabólicas',\n",
       "       '046-049  V.Trastornos mentales y del comportamiento',\n",
       "       '046  Trastornos mentales orgánicos, senil y presenil',\n",
       "       '047  Trastornos mentales debidos al uso de alcohol',\n",
       "       '048  Trastornos mentales debidos al uso de drogas (drogodependencia, toxicomanía)',\n",
       "       '049  Otros trastornos mentales y del comportamiento',\n",
       "       '050-052  VI-VIII.Enfermedades del sistema nervioso y de los órganos de los sentidos',\n",
       "       '050  Meningitis (otras en 003)', '051  Enfermedad de Alzheimer',\n",
       "       '052  Otras enfermedades del sistema nervioso y de los órganos de los sentidos',\n",
       "       '053-061 IX.Enfermedades del sistema circulatorio',\n",
       "       '053  Enfermedades cardíacas reumáticas crónicas',\n",
       "       '054  Enfermedades hipertensivas',\n",
       "       '055  Infarto agudo de miocardio',\n",
       "       '056  Otras enfermedades isquémicas del corazón',\n",
       "       '057  Insuficiencia cardíaca',\n",
       "       '058 Otras enfermedades del corazón',\n",
       "       '059  Enfermedades cerebrovasculares', '060  Aterosclerosis',\n",
       "       '061  Otras enfermedades de los vasos sanguíneos',\n",
       "       '062-067  X.Enfermedades del sistema respiratorio',\n",
       "       '062  Influenza (gripe) (incluye gripe aviar y gripe A)',\n",
       "       '063  Neumonía',\n",
       "       '064  Enfermedades crónicas de las vías respiratorias inferiores (excepto asma)',\n",
       "       '065  Asma', '066  Insuficiencia respiratoria',\n",
       "       '067  Otras enfermedades del sistema respiratorio',\n",
       "       '068-072  XI.Enfermedades del sistema digestivo',\n",
       "       '068  Úlcera de estómago, duodeno y yeyuno',\n",
       "       '069  Enteritis y colitis no infecciosas',\n",
       "       '070  Enfermedad vascular intestinal',\n",
       "       '071  Cirrosis y otras enfermedades crónicas del hígado',\n",
       "       '072  Otras enfermedades del sistema digestivo',\n",
       "       '073  XII.Enfermedades de la piel y del tejido subcutáneo',\n",
       "       '074-076  XIII.Enfermedades del sistema osteomuscular y del tejido conjuntivo',\n",
       "       '074  Artritis reumatoide y osteoartrosis',\n",
       "       '075  Osteoporosis y fractura patológica',\n",
       "       '076  Otras enfermedades del sistema osteomuscular y del tejido conjuntivo',\n",
       "       '077-080  XIV.Enfermedades del sistema genitourinario',\n",
       "       '077  Enfermedades del riñón y del uréter',\n",
       "       '078  Enfermedades de los órganos genitales masculinos',\n",
       "       '079  Enfermedades de los órganos genitales femeninos y trastornos de la mama',\n",
       "       '080  Otras enfermedades del sistema genitourinario',\n",
       "       '081  XV.Embarazo, parto y puerperio',\n",
       "       '082  XVI.Afecciones originadas en el periodo perinatal',\n",
       "       '083-085  XVII.Malformaciones congénitas, deformidades y anomalías cromosómicas',\n",
       "       '083  Malformaciones congénitas del sistema nervioso',\n",
       "       '084  Malformaciones congénitas del sistema circulatorio',\n",
       "       '085  Otras malformaciones congénitas, deformidades y anomalías cromosómicas',\n",
       "       '086-089  XVIII.Síntomas, signos y hallazgos anormales clínicos y de laboratorio, no clasificados en otra parte',\n",
       "       '086 Paro cardíaco, muerte sin asistencia y otra causa desconocida de mortalidad',\n",
       "       '087  Senilidad', '088 Muerte súbita infantil',\n",
       "       '089  Resto de síntomas, signos y hallazgos anormales clínicos y de laboratorio, no clasificados en otra parte',\n",
       "       '090-102  XX.Causas externas de mortalidad',\n",
       "       '090  Accidentes de tráfico',\n",
       "       '091  Otros accidentes de transporte', '092  Caídas accidentales',\n",
       "       '093  Ahogamiento, sumersión y sofocación accidentales',\n",
       "       '094  Accidentes por fuego, humo y sustancias calientes',\n",
       "       '095  Envenenamiento accidental por psicofármacos y drogas de abuso',\n",
       "       '096  Otros envenenamientos accidentales', '097  Otros accidentes',\n",
       "       '098  Suicidio y lesiones autoinfligidas',\n",
       "       '099  Agresiones (homicidio)',\n",
       "       '100  Eventos de intención no determinada',\n",
       "       '101  Complicaciones de la atención médica y quirúrgica',\n",
       "       '102  Otras causas externas y sus efectos tardíos'], dtype=object)"
      ]
     },
     "execution_count": 7,
     "metadata": {},
     "output_type": "execute_result"
    }
   ],
   "source": [
    "deaths['Causa de muerte'].unique()"
   ]
  },
  {
   "cell_type": "markdown",
   "metadata": {},
   "source": [
    "## Lets make some transformations\n",
    "\n",
    "Eventhough the dataset is pretty clean, the information is completely denormalized as you could see. For that matter a collection of methods (functions) are available in order to generate the tables you might need:\n",
    "\n",
    "- `row_filter(df, cat_var, cat_values)` => Filter rows by any value or group of values in a categorical variable.\n",
    "\n",
    "- `nrow_filter(df, cat_var, cat_values)` => The same but backwards. \n",
    "\n",
    "- `groupby_sum(df, group_vars, agg_var='Total', sort_var='Total')` => Add deaths by a certain variable.\n",
    "\n",
    "- `pivot_table(df, col, x_axis, value='Total')`=> Make some pivot tables, you might need them...\n",
    "\n",
    "__NOTE:__ be aware that the filtering methods can perform a filter at a time. Feel free to perform the filter you need in any way you want or feel confortable with."
   ]
  },
  {
   "cell_type": "code",
   "execution_count": 8,
   "metadata": {},
   "outputs": [
    {
     "data": {
      "text/html": [
       "<div>\n",
       "<style scoped>\n",
       "    .dataframe tbody tr th:only-of-type {\n",
       "        vertical-align: middle;\n",
       "    }\n",
       "\n",
       "    .dataframe tbody tr th {\n",
       "        vertical-align: top;\n",
       "    }\n",
       "\n",
       "    .dataframe thead th {\n",
       "        text-align: right;\n",
       "    }\n",
       "</style>\n",
       "<table border=\"1\" class=\"dataframe\">\n",
       "  <thead>\n",
       "    <tr style=\"text-align: right;\">\n",
       "      <th></th>\n",
       "      <th>Sexo</th>\n",
       "      <th>Edad</th>\n",
       "      <th>Periodo</th>\n",
       "      <th>Total</th>\n",
       "      <th>cause_name</th>\n",
       "    </tr>\n",
       "  </thead>\n",
       "  <tbody>\n",
       "    <tr>\n",
       "      <th>0</th>\n",
       "      <td>Hombres</td>\n",
       "      <td>De 50 a 54 años</td>\n",
       "      <td>2014</td>\n",
       "      <td>344</td>\n",
       "      <td>Suicidio y lesiones autoinfligidas</td>\n",
       "    </tr>\n",
       "    <tr>\n",
       "      <th>1</th>\n",
       "      <td>Hombres</td>\n",
       "      <td>De 50 a 54 años</td>\n",
       "      <td>2013</td>\n",
       "      <td>340</td>\n",
       "      <td>Suicidio y lesiones autoinfligidas</td>\n",
       "    </tr>\n",
       "    <tr>\n",
       "      <th>2</th>\n",
       "      <td>Hombres</td>\n",
       "      <td>De 45 a 49 años</td>\n",
       "      <td>2014</td>\n",
       "      <td>337</td>\n",
       "      <td>Suicidio y lesiones autoinfligidas</td>\n",
       "    </tr>\n",
       "    <tr>\n",
       "      <th>3</th>\n",
       "      <td>Hombres</td>\n",
       "      <td>De 45 a 49 años</td>\n",
       "      <td>2013</td>\n",
       "      <td>319</td>\n",
       "      <td>Suicidio y lesiones autoinfligidas</td>\n",
       "    </tr>\n",
       "    <tr>\n",
       "      <th>4</th>\n",
       "      <td>Hombres</td>\n",
       "      <td>De 50 a 54 años</td>\n",
       "      <td>2017</td>\n",
       "      <td>305</td>\n",
       "      <td>Suicidio y lesiones autoinfligidas</td>\n",
       "    </tr>\n",
       "    <tr>\n",
       "      <th>...</th>\n",
       "      <td>...</td>\n",
       "      <td>...</td>\n",
       "      <td>...</td>\n",
       "      <td>...</td>\n",
       "      <td>...</td>\n",
       "    </tr>\n",
       "    <tr>\n",
       "      <th>1397</th>\n",
       "      <td>Mujeres</td>\n",
       "      <td>De 10 a 14 años</td>\n",
       "      <td>1980</td>\n",
       "      <td>1</td>\n",
       "      <td>Suicidio y lesiones autoinfligidas</td>\n",
       "    </tr>\n",
       "    <tr>\n",
       "      <th>1398</th>\n",
       "      <td>Mujeres</td>\n",
       "      <td>De 90 a 94 años</td>\n",
       "      <td>1980</td>\n",
       "      <td>1</td>\n",
       "      <td>Suicidio y lesiones autoinfligidas</td>\n",
       "    </tr>\n",
       "    <tr>\n",
       "      <th>1399</th>\n",
       "      <td>Hombres</td>\n",
       "      <td>95 y más años</td>\n",
       "      <td>1986</td>\n",
       "      <td>1</td>\n",
       "      <td>Suicidio y lesiones autoinfligidas</td>\n",
       "    </tr>\n",
       "    <tr>\n",
       "      <th>1400</th>\n",
       "      <td>Mujeres</td>\n",
       "      <td>95 y más años</td>\n",
       "      <td>1988</td>\n",
       "      <td>1</td>\n",
       "      <td>Suicidio y lesiones autoinfligidas</td>\n",
       "    </tr>\n",
       "    <tr>\n",
       "      <th>1401</th>\n",
       "      <td>Mujeres</td>\n",
       "      <td>95 y más años</td>\n",
       "      <td>1981</td>\n",
       "      <td>1</td>\n",
       "      <td>Suicidio y lesiones autoinfligidas</td>\n",
       "    </tr>\n",
       "  </tbody>\n",
       "</table>\n",
       "<p>1402 rows × 5 columns</p>\n",
       "</div>"
      ],
      "text/plain": [
       "         Sexo               Edad  Periodo  Total  \\\n",
       "0     Hombres    De 50 a 54 años     2014    344   \n",
       "1     Hombres    De 50 a 54 años     2013    340   \n",
       "2     Hombres    De 45 a 49 años     2014    337   \n",
       "3     Hombres    De 45 a 49 años     2013    319   \n",
       "4     Hombres    De 50 a 54 años     2017    305   \n",
       "...       ...                ...      ...    ...   \n",
       "1397  Mujeres  De 10 a 14 años       1980      1   \n",
       "1398  Mujeres  De 90 a 94 años       1980      1   \n",
       "1399  Hombres      95 y más años     1986      1   \n",
       "1400  Mujeres      95 y más años     1988      1   \n",
       "1401  Mujeres      95 y más años     1981      1   \n",
       "\n",
       "                              cause_name  \n",
       "0     Suicidio y lesiones autoinfligidas  \n",
       "1     Suicidio y lesiones autoinfligidas  \n",
       "2     Suicidio y lesiones autoinfligidas  \n",
       "3     Suicidio y lesiones autoinfligidas  \n",
       "4     Suicidio y lesiones autoinfligidas  \n",
       "...                                  ...  \n",
       "1397  Suicidio y lesiones autoinfligidas  \n",
       "1398  Suicidio y lesiones autoinfligidas  \n",
       "1399  Suicidio y lesiones autoinfligidas  \n",
       "1400  Suicidio y lesiones autoinfligidas  \n",
       "1401  Suicidio y lesiones autoinfligidas  \n",
       "\n",
       "[1402 rows x 5 columns]"
      ]
     },
     "execution_count": 8,
     "metadata": {},
     "output_type": "execute_result"
    }
   ],
   "source": [
    "# Example 1\n",
    "\n",
    "deaths = deaths.drop(['Causa de muerte'], axis=1)\n",
    "deaths = mod.row_filter(deaths, 'cause_code', ['098'])\n",
    "deaths = deaths.drop(['cause_code','cause_group'], axis=1)\n",
    "deaths = mod.nrow_filter(deaths, 'Sexo', ['Total'])\n",
    "deaths = mod.nrow_filter(deaths, 'Edad', ['Todas las edades'])\n",
    "deaths = mod.nrow_filter(deaths, 'Total', [0])\n",
    "\n",
    "deaths"
   ]
  },
  {
   "cell_type": "code",
   "execution_count": 9,
   "metadata": {},
   "outputs": [
    {
     "data": {
      "text/html": [
       "<div>\n",
       "<style scoped>\n",
       "    .dataframe tbody tr th:only-of-type {\n",
       "        vertical-align: middle;\n",
       "    }\n",
       "\n",
       "    .dataframe tbody tr th {\n",
       "        vertical-align: top;\n",
       "    }\n",
       "\n",
       "    .dataframe thead th {\n",
       "        text-align: right;\n",
       "    }\n",
       "</style>\n",
       "<table border=\"1\" class=\"dataframe\">\n",
       "  <thead>\n",
       "    <tr style=\"text-align: right;\">\n",
       "      <th></th>\n",
       "      <th>Periodo</th>\n",
       "      <th>Total</th>\n",
       "    </tr>\n",
       "  </thead>\n",
       "  <tbody>\n",
       "    <tr>\n",
       "      <th>0</th>\n",
       "      <td>1980</td>\n",
       "      <td>1652</td>\n",
       "    </tr>\n",
       "    <tr>\n",
       "      <th>1</th>\n",
       "      <td>1981</td>\n",
       "      <td>1718</td>\n",
       "    </tr>\n",
       "    <tr>\n",
       "      <th>2</th>\n",
       "      <td>1982</td>\n",
       "      <td>1851</td>\n",
       "    </tr>\n",
       "    <tr>\n",
       "      <th>3</th>\n",
       "      <td>1983</td>\n",
       "      <td>2181</td>\n",
       "    </tr>\n",
       "    <tr>\n",
       "      <th>4</th>\n",
       "      <td>1984</td>\n",
       "      <td>2493</td>\n",
       "    </tr>\n",
       "    <tr>\n",
       "      <th>5</th>\n",
       "      <td>1985</td>\n",
       "      <td>2514</td>\n",
       "    </tr>\n",
       "    <tr>\n",
       "      <th>6</th>\n",
       "      <td>1986</td>\n",
       "      <td>2755</td>\n",
       "    </tr>\n",
       "    <tr>\n",
       "      <th>7</th>\n",
       "      <td>1987</td>\n",
       "      <td>2804</td>\n",
       "    </tr>\n",
       "    <tr>\n",
       "      <th>8</th>\n",
       "      <td>1988</td>\n",
       "      <td>2960</td>\n",
       "    </tr>\n",
       "    <tr>\n",
       "      <th>9</th>\n",
       "      <td>1989</td>\n",
       "      <td>2987</td>\n",
       "    </tr>\n",
       "    <tr>\n",
       "      <th>10</th>\n",
       "      <td>1990</td>\n",
       "      <td>2939</td>\n",
       "    </tr>\n",
       "    <tr>\n",
       "      <th>11</th>\n",
       "      <td>1991</td>\n",
       "      <td>2916</td>\n",
       "    </tr>\n",
       "    <tr>\n",
       "      <th>12</th>\n",
       "      <td>1992</td>\n",
       "      <td>2786</td>\n",
       "    </tr>\n",
       "    <tr>\n",
       "      <th>13</th>\n",
       "      <td>1993</td>\n",
       "      <td>3037</td>\n",
       "    </tr>\n",
       "    <tr>\n",
       "      <th>14</th>\n",
       "      <td>1994</td>\n",
       "      <td>3171</td>\n",
       "    </tr>\n",
       "    <tr>\n",
       "      <th>15</th>\n",
       "      <td>1995</td>\n",
       "      <td>3157</td>\n",
       "    </tr>\n",
       "    <tr>\n",
       "      <th>16</th>\n",
       "      <td>1996</td>\n",
       "      <td>3320</td>\n",
       "    </tr>\n",
       "    <tr>\n",
       "      <th>17</th>\n",
       "      <td>1997</td>\n",
       "      <td>3373</td>\n",
       "    </tr>\n",
       "    <tr>\n",
       "      <th>18</th>\n",
       "      <td>1998</td>\n",
       "      <td>3261</td>\n",
       "    </tr>\n",
       "    <tr>\n",
       "      <th>19</th>\n",
       "      <td>1999</td>\n",
       "      <td>3218</td>\n",
       "    </tr>\n",
       "    <tr>\n",
       "      <th>20</th>\n",
       "      <td>2000</td>\n",
       "      <td>3393</td>\n",
       "    </tr>\n",
       "    <tr>\n",
       "      <th>21</th>\n",
       "      <td>2001</td>\n",
       "      <td>3189</td>\n",
       "    </tr>\n",
       "    <tr>\n",
       "      <th>22</th>\n",
       "      <td>2002</td>\n",
       "      <td>3371</td>\n",
       "    </tr>\n",
       "    <tr>\n",
       "      <th>23</th>\n",
       "      <td>2003</td>\n",
       "      <td>3478</td>\n",
       "    </tr>\n",
       "    <tr>\n",
       "      <th>24</th>\n",
       "      <td>2004</td>\n",
       "      <td>3507</td>\n",
       "    </tr>\n",
       "    <tr>\n",
       "      <th>25</th>\n",
       "      <td>2005</td>\n",
       "      <td>3399</td>\n",
       "    </tr>\n",
       "    <tr>\n",
       "      <th>26</th>\n",
       "      <td>2006</td>\n",
       "      <td>3246</td>\n",
       "    </tr>\n",
       "    <tr>\n",
       "      <th>27</th>\n",
       "      <td>2007</td>\n",
       "      <td>3263</td>\n",
       "    </tr>\n",
       "    <tr>\n",
       "      <th>28</th>\n",
       "      <td>2008</td>\n",
       "      <td>3457</td>\n",
       "    </tr>\n",
       "    <tr>\n",
       "      <th>29</th>\n",
       "      <td>2009</td>\n",
       "      <td>3429</td>\n",
       "    </tr>\n",
       "    <tr>\n",
       "      <th>30</th>\n",
       "      <td>2010</td>\n",
       "      <td>3158</td>\n",
       "    </tr>\n",
       "    <tr>\n",
       "      <th>31</th>\n",
       "      <td>2011</td>\n",
       "      <td>3180</td>\n",
       "    </tr>\n",
       "    <tr>\n",
       "      <th>32</th>\n",
       "      <td>2012</td>\n",
       "      <td>3539</td>\n",
       "    </tr>\n",
       "    <tr>\n",
       "      <th>33</th>\n",
       "      <td>2013</td>\n",
       "      <td>3870</td>\n",
       "    </tr>\n",
       "    <tr>\n",
       "      <th>34</th>\n",
       "      <td>2014</td>\n",
       "      <td>3910</td>\n",
       "    </tr>\n",
       "    <tr>\n",
       "      <th>35</th>\n",
       "      <td>2015</td>\n",
       "      <td>3602</td>\n",
       "    </tr>\n",
       "    <tr>\n",
       "      <th>36</th>\n",
       "      <td>2016</td>\n",
       "      <td>3569</td>\n",
       "    </tr>\n",
       "    <tr>\n",
       "      <th>37</th>\n",
       "      <td>2017</td>\n",
       "      <td>3679</td>\n",
       "    </tr>\n",
       "    <tr>\n",
       "      <th>38</th>\n",
       "      <td>2018</td>\n",
       "      <td>3539</td>\n",
       "    </tr>\n",
       "  </tbody>\n",
       "</table>\n",
       "</div>"
      ],
      "text/plain": [
       "    Periodo  Total\n",
       "0      1980   1652\n",
       "1      1981   1718\n",
       "2      1982   1851\n",
       "3      1983   2181\n",
       "4      1984   2493\n",
       "5      1985   2514\n",
       "6      1986   2755\n",
       "7      1987   2804\n",
       "8      1988   2960\n",
       "9      1989   2987\n",
       "10     1990   2939\n",
       "11     1991   2916\n",
       "12     1992   2786\n",
       "13     1993   3037\n",
       "14     1994   3171\n",
       "15     1995   3157\n",
       "16     1996   3320\n",
       "17     1997   3373\n",
       "18     1998   3261\n",
       "19     1999   3218\n",
       "20     2000   3393\n",
       "21     2001   3189\n",
       "22     2002   3371\n",
       "23     2003   3478\n",
       "24     2004   3507\n",
       "25     2005   3399\n",
       "26     2006   3246\n",
       "27     2007   3263\n",
       "28     2008   3457\n",
       "29     2009   3429\n",
       "30     2010   3158\n",
       "31     2011   3180\n",
       "32     2012   3539\n",
       "33     2013   3870\n",
       "34     2014   3910\n",
       "35     2015   3602\n",
       "36     2016   3569\n",
       "37     2017   3679\n",
       "38     2018   3539"
      ]
     },
     "execution_count": 9,
     "metadata": {},
     "output_type": "execute_result"
    }
   ],
   "source": [
    "deaths_year = deaths.groupby('Periodo')['Total'].sum().reset_index()\n",
    "deaths_year"
   ]
  },
  {
   "cell_type": "code",
   "execution_count": 30,
   "metadata": {},
   "outputs": [
    {
     "data": {
      "text/html": [
       "<div>\n",
       "<style scoped>\n",
       "    .dataframe tbody tr th:only-of-type {\n",
       "        vertical-align: middle;\n",
       "    }\n",
       "\n",
       "    .dataframe tbody tr th {\n",
       "        vertical-align: top;\n",
       "    }\n",
       "\n",
       "    .dataframe thead th {\n",
       "        text-align: right;\n",
       "    }\n",
       "</style>\n",
       "<table border=\"1\" class=\"dataframe\">\n",
       "  <thead>\n",
       "    <tr style=\"text-align: right;\">\n",
       "      <th></th>\n",
       "      <th>Periodo</th>\n",
       "      <th>Sexo</th>\n",
       "      <th>Total</th>\n",
       "    </tr>\n",
       "  </thead>\n",
       "  <tbody>\n",
       "    <tr>\n",
       "      <th>0</th>\n",
       "      <td>1980</td>\n",
       "      <td>Hombres</td>\n",
       "      <td>1237</td>\n",
       "    </tr>\n",
       "    <tr>\n",
       "      <th>1</th>\n",
       "      <td>1980</td>\n",
       "      <td>Mujeres</td>\n",
       "      <td>415</td>\n",
       "    </tr>\n",
       "    <tr>\n",
       "      <th>2</th>\n",
       "      <td>1981</td>\n",
       "      <td>Hombres</td>\n",
       "      <td>1268</td>\n",
       "    </tr>\n",
       "    <tr>\n",
       "      <th>3</th>\n",
       "      <td>1981</td>\n",
       "      <td>Mujeres</td>\n",
       "      <td>450</td>\n",
       "    </tr>\n",
       "    <tr>\n",
       "      <th>4</th>\n",
       "      <td>1982</td>\n",
       "      <td>Hombres</td>\n",
       "      <td>1336</td>\n",
       "    </tr>\n",
       "    <tr>\n",
       "      <th>...</th>\n",
       "      <td>...</td>\n",
       "      <td>...</td>\n",
       "      <td>...</td>\n",
       "    </tr>\n",
       "    <tr>\n",
       "      <th>73</th>\n",
       "      <td>2016</td>\n",
       "      <td>Mujeres</td>\n",
       "      <td>907</td>\n",
       "    </tr>\n",
       "    <tr>\n",
       "      <th>74</th>\n",
       "      <td>2017</td>\n",
       "      <td>Hombres</td>\n",
       "      <td>2718</td>\n",
       "    </tr>\n",
       "    <tr>\n",
       "      <th>75</th>\n",
       "      <td>2017</td>\n",
       "      <td>Mujeres</td>\n",
       "      <td>961</td>\n",
       "    </tr>\n",
       "    <tr>\n",
       "      <th>76</th>\n",
       "      <td>2018</td>\n",
       "      <td>Hombres</td>\n",
       "      <td>2619</td>\n",
       "    </tr>\n",
       "    <tr>\n",
       "      <th>77</th>\n",
       "      <td>2018</td>\n",
       "      <td>Mujeres</td>\n",
       "      <td>920</td>\n",
       "    </tr>\n",
       "  </tbody>\n",
       "</table>\n",
       "<p>78 rows × 3 columns</p>\n",
       "</div>"
      ],
      "text/plain": [
       "    Periodo     Sexo  Total\n",
       "0      1980  Hombres   1237\n",
       "1      1980  Mujeres    415\n",
       "2      1981  Hombres   1268\n",
       "3      1981  Mujeres    450\n",
       "4      1982  Hombres   1336\n",
       "..      ...      ...    ...\n",
       "73     2016  Mujeres    907\n",
       "74     2017  Hombres   2718\n",
       "75     2017  Mujeres    961\n",
       "76     2018  Hombres   2619\n",
       "77     2018  Mujeres    920\n",
       "\n",
       "[78 rows x 3 columns]"
      ]
     },
     "execution_count": 30,
     "metadata": {},
     "output_type": "execute_result"
    }
   ],
   "source": [
    "deaths_year_sex = deaths.groupby(['Periodo', 'Sexo'])['Total'].sum().reset_index()\n",
    "deaths_year_sex"
   ]
  },
  {
   "cell_type": "code",
   "execution_count": 42,
   "metadata": {},
   "outputs": [
    {
     "data": {
      "text/html": [
       "<div>\n",
       "<style scoped>\n",
       "    .dataframe tbody tr th:only-of-type {\n",
       "        vertical-align: middle;\n",
       "    }\n",
       "\n",
       "    .dataframe tbody tr th {\n",
       "        vertical-align: top;\n",
       "    }\n",
       "\n",
       "    .dataframe thead th {\n",
       "        text-align: right;\n",
       "    }\n",
       "</style>\n",
       "<table border=\"1\" class=\"dataframe\">\n",
       "  <thead>\n",
       "    <tr style=\"text-align: right;\">\n",
       "      <th></th>\n",
       "      <th>Edad</th>\n",
       "      <th>Total</th>\n",
       "    </tr>\n",
       "  </thead>\n",
       "  <tbody>\n",
       "    <tr>\n",
       "      <th>9</th>\n",
       "      <td>De 5 a 9 años</td>\n",
       "      <td>11</td>\n",
       "    </tr>\n",
       "    <tr>\n",
       "      <th>0</th>\n",
       "      <td>95 y más años</td>\n",
       "      <td>282</td>\n",
       "    </tr>\n",
       "    <tr>\n",
       "      <th>1</th>\n",
       "      <td>De 10 a 14 años</td>\n",
       "      <td>449</td>\n",
       "    </tr>\n",
       "    <tr>\n",
       "      <th>18</th>\n",
       "      <td>De 90 a 94 años</td>\n",
       "      <td>1440</td>\n",
       "    </tr>\n",
       "    <tr>\n",
       "      <th>2</th>\n",
       "      <td>De 15 a 19 años</td>\n",
       "      <td>2878</td>\n",
       "    </tr>\n",
       "    <tr>\n",
       "      <th>17</th>\n",
       "      <td>De 85 a 89 años</td>\n",
       "      <td>4340</td>\n",
       "    </tr>\n",
       "    <tr>\n",
       "      <th>3</th>\n",
       "      <td>De 20 a 24 años</td>\n",
       "      <td>6131</td>\n",
       "    </tr>\n",
       "    <tr>\n",
       "      <th>16</th>\n",
       "      <td>De 80 a 84 años</td>\n",
       "      <td>7325</td>\n",
       "    </tr>\n",
       "    <tr>\n",
       "      <th>4</th>\n",
       "      <td>De 25 a 29 años</td>\n",
       "      <td>7335</td>\n",
       "    </tr>\n",
       "    <tr>\n",
       "      <th>5</th>\n",
       "      <td>De 30 a 34 años</td>\n",
       "      <td>8003</td>\n",
       "    </tr>\n",
       "    <tr>\n",
       "      <th>6</th>\n",
       "      <td>De 35 a 39 años</td>\n",
       "      <td>8695</td>\n",
       "    </tr>\n",
       "    <tr>\n",
       "      <th>13</th>\n",
       "      <td>De 65 a 69 años</td>\n",
       "      <td>8847</td>\n",
       "    </tr>\n",
       "    <tr>\n",
       "      <th>15</th>\n",
       "      <td>De 75 a 79 años</td>\n",
       "      <td>8943</td>\n",
       "    </tr>\n",
       "    <tr>\n",
       "      <th>12</th>\n",
       "      <td>De 60 a 64 años</td>\n",
       "      <td>9053</td>\n",
       "    </tr>\n",
       "    <tr>\n",
       "      <th>14</th>\n",
       "      <td>De 70 a 74 años</td>\n",
       "      <td>9094</td>\n",
       "    </tr>\n",
       "    <tr>\n",
       "      <th>7</th>\n",
       "      <td>De 40 a 44 años</td>\n",
       "      <td>9102</td>\n",
       "    </tr>\n",
       "    <tr>\n",
       "      <th>8</th>\n",
       "      <td>De 45 a 49 años</td>\n",
       "      <td>9448</td>\n",
       "    </tr>\n",
       "    <tr>\n",
       "      <th>11</th>\n",
       "      <td>De 55 a 59 años</td>\n",
       "      <td>9555</td>\n",
       "    </tr>\n",
       "    <tr>\n",
       "      <th>10</th>\n",
       "      <td>De 50 a 54 años</td>\n",
       "      <td>9940</td>\n",
       "    </tr>\n",
       "  </tbody>\n",
       "</table>\n",
       "</div>"
      ],
      "text/plain": [
       "                 Edad  Total\n",
       "9       De 5 a 9 años     11\n",
       "0       95 y más años    282\n",
       "1   De 10 a 14 años      449\n",
       "18  De 90 a 94 años     1440\n",
       "2   De 15 a 19 años     2878\n",
       "17  De 85 a 89 años     4340\n",
       "3     De 20 a 24 años   6131\n",
       "16  De 80 a 84 años     7325\n",
       "4     De 25 a 29 años   7335\n",
       "5     De 30 a 34 años   8003\n",
       "6     De 35 a 39 años   8695\n",
       "13    De 65 a 69 años   8847\n",
       "15  De 75 a 79 años     8943\n",
       "12    De 60 a 64 años   9053\n",
       "14  De 70 a 74 años     9094\n",
       "7     De 40 a 44 años   9102\n",
       "8     De 45 a 49 años   9448\n",
       "11    De 55 a 59 años   9555\n",
       "10    De 50 a 54 años   9940"
      ]
     },
     "execution_count": 42,
     "metadata": {},
     "output_type": "execute_result"
    }
   ],
   "source": [
    "deaths_cause = deaths.groupby(['Edad'])['Total'].sum().reset_index().sort_values(by='Total')\n",
    "deaths_cause"
   ]
  },
  {
   "cell_type": "code",
   "execution_count": 49,
   "metadata": {},
   "outputs": [
    {
     "data": {
      "text/html": [
       "<div>\n",
       "<style scoped>\n",
       "    .dataframe tbody tr th:only-of-type {\n",
       "        vertical-align: middle;\n",
       "    }\n",
       "\n",
       "    .dataframe tbody tr th {\n",
       "        vertical-align: top;\n",
       "    }\n",
       "\n",
       "    .dataframe thead th {\n",
       "        text-align: right;\n",
       "    }\n",
       "</style>\n",
       "<table border=\"1\" class=\"dataframe\">\n",
       "  <thead>\n",
       "    <tr style=\"text-align: right;\">\n",
       "      <th></th>\n",
       "      <th>Sexo</th>\n",
       "      <th>Total</th>\n",
       "    </tr>\n",
       "  </thead>\n",
       "  <tbody>\n",
       "    <tr>\n",
       "      <th>1</th>\n",
       "      <td>Mujeres</td>\n",
       "      <td>30075</td>\n",
       "    </tr>\n",
       "    <tr>\n",
       "      <th>0</th>\n",
       "      <td>Hombres</td>\n",
       "      <td>90796</td>\n",
       "    </tr>\n",
       "  </tbody>\n",
       "</table>\n",
       "</div>"
      ],
      "text/plain": [
       "      Sexo  Total\n",
       "1  Mujeres  30075\n",
       "0  Hombres  90796"
      ]
     },
     "execution_count": 49,
     "metadata": {},
     "output_type": "execute_result"
    }
   ],
   "source": [
    "deaths_sex = deaths.groupby('Sexo')['Total'].sum().reset_index().sort_values(by='Total')\n",
    "deaths_sex"
   ]
  },
  {
   "cell_type": "markdown",
   "metadata": {},
   "source": [
    "## ...and finally, show me some insights with Plotly!!!"
   ]
  },
  {
   "cell_type": "code",
   "execution_count": 35,
   "metadata": {},
   "outputs": [
    {
     "data": {
      "application/vnd.plotly.v1+json": {
       "config": {
        "plotlyServerURL": "https://plot.ly"
       },
       "data": [
        {
         "hovertemplate": "Periodo=%{x}<br>Total=%{y}<extra></extra>",
         "legendgroup": "",
         "line": {
          "color": "#636efa",
          "dash": "solid"
         },
         "marker": {
          "symbol": "circle"
         },
         "mode": "lines",
         "name": "",
         "orientation": "v",
         "showlegend": false,
         "type": "scatter",
         "x": [
          1980,
          1981,
          1982,
          1983,
          1984,
          1985,
          1986,
          1987,
          1988,
          1989,
          1990,
          1991,
          1992,
          1993,
          1994,
          1995,
          1996,
          1997,
          1998,
          1999,
          2000,
          2001,
          2002,
          2003,
          2004,
          2005,
          2006,
          2007,
          2008,
          2009,
          2010,
          2011,
          2012,
          2013,
          2014,
          2015,
          2016,
          2017,
          2018
         ],
         "xaxis": "x",
         "y": [
          1652,
          1718,
          1851,
          2181,
          2493,
          2514,
          2755,
          2804,
          2960,
          2987,
          2939,
          2916,
          2786,
          3037,
          3171,
          3157,
          3320,
          3373,
          3261,
          3218,
          3393,
          3189,
          3371,
          3478,
          3507,
          3399,
          3246,
          3263,
          3457,
          3429,
          3158,
          3180,
          3539,
          3870,
          3910,
          3602,
          3569,
          3679,
          3539
         ],
         "yaxis": "y"
        }
       ],
       "layout": {
        "legend": {
         "tracegroupgap": 0
        },
        "margin": {
         "t": 60
        },
        "template": {
         "data": {
          "bar": [
           {
            "error_x": {
             "color": "#2a3f5f"
            },
            "error_y": {
             "color": "#2a3f5f"
            },
            "marker": {
             "line": {
              "color": "#E5ECF6",
              "width": 0.5
             },
             "pattern": {
              "fillmode": "overlay",
              "size": 10,
              "solidity": 0.2
             }
            },
            "type": "bar"
           }
          ],
          "barpolar": [
           {
            "marker": {
             "line": {
              "color": "#E5ECF6",
              "width": 0.5
             },
             "pattern": {
              "fillmode": "overlay",
              "size": 10,
              "solidity": 0.2
             }
            },
            "type": "barpolar"
           }
          ],
          "carpet": [
           {
            "aaxis": {
             "endlinecolor": "#2a3f5f",
             "gridcolor": "white",
             "linecolor": "white",
             "minorgridcolor": "white",
             "startlinecolor": "#2a3f5f"
            },
            "baxis": {
             "endlinecolor": "#2a3f5f",
             "gridcolor": "white",
             "linecolor": "white",
             "minorgridcolor": "white",
             "startlinecolor": "#2a3f5f"
            },
            "type": "carpet"
           }
          ],
          "choropleth": [
           {
            "colorbar": {
             "outlinewidth": 0,
             "ticks": ""
            },
            "type": "choropleth"
           }
          ],
          "contour": [
           {
            "colorbar": {
             "outlinewidth": 0,
             "ticks": ""
            },
            "colorscale": [
             [
              0,
              "#0d0887"
             ],
             [
              0.1111111111111111,
              "#46039f"
             ],
             [
              0.2222222222222222,
              "#7201a8"
             ],
             [
              0.3333333333333333,
              "#9c179e"
             ],
             [
              0.4444444444444444,
              "#bd3786"
             ],
             [
              0.5555555555555556,
              "#d8576b"
             ],
             [
              0.6666666666666666,
              "#ed7953"
             ],
             [
              0.7777777777777778,
              "#fb9f3a"
             ],
             [
              0.8888888888888888,
              "#fdca26"
             ],
             [
              1,
              "#f0f921"
             ]
            ],
            "type": "contour"
           }
          ],
          "contourcarpet": [
           {
            "colorbar": {
             "outlinewidth": 0,
             "ticks": ""
            },
            "type": "contourcarpet"
           }
          ],
          "heatmap": [
           {
            "colorbar": {
             "outlinewidth": 0,
             "ticks": ""
            },
            "colorscale": [
             [
              0,
              "#0d0887"
             ],
             [
              0.1111111111111111,
              "#46039f"
             ],
             [
              0.2222222222222222,
              "#7201a8"
             ],
             [
              0.3333333333333333,
              "#9c179e"
             ],
             [
              0.4444444444444444,
              "#bd3786"
             ],
             [
              0.5555555555555556,
              "#d8576b"
             ],
             [
              0.6666666666666666,
              "#ed7953"
             ],
             [
              0.7777777777777778,
              "#fb9f3a"
             ],
             [
              0.8888888888888888,
              "#fdca26"
             ],
             [
              1,
              "#f0f921"
             ]
            ],
            "type": "heatmap"
           }
          ],
          "heatmapgl": [
           {
            "colorbar": {
             "outlinewidth": 0,
             "ticks": ""
            },
            "colorscale": [
             [
              0,
              "#0d0887"
             ],
             [
              0.1111111111111111,
              "#46039f"
             ],
             [
              0.2222222222222222,
              "#7201a8"
             ],
             [
              0.3333333333333333,
              "#9c179e"
             ],
             [
              0.4444444444444444,
              "#bd3786"
             ],
             [
              0.5555555555555556,
              "#d8576b"
             ],
             [
              0.6666666666666666,
              "#ed7953"
             ],
             [
              0.7777777777777778,
              "#fb9f3a"
             ],
             [
              0.8888888888888888,
              "#fdca26"
             ],
             [
              1,
              "#f0f921"
             ]
            ],
            "type": "heatmapgl"
           }
          ],
          "histogram": [
           {
            "marker": {
             "pattern": {
              "fillmode": "overlay",
              "size": 10,
              "solidity": 0.2
             }
            },
            "type": "histogram"
           }
          ],
          "histogram2d": [
           {
            "colorbar": {
             "outlinewidth": 0,
             "ticks": ""
            },
            "colorscale": [
             [
              0,
              "#0d0887"
             ],
             [
              0.1111111111111111,
              "#46039f"
             ],
             [
              0.2222222222222222,
              "#7201a8"
             ],
             [
              0.3333333333333333,
              "#9c179e"
             ],
             [
              0.4444444444444444,
              "#bd3786"
             ],
             [
              0.5555555555555556,
              "#d8576b"
             ],
             [
              0.6666666666666666,
              "#ed7953"
             ],
             [
              0.7777777777777778,
              "#fb9f3a"
             ],
             [
              0.8888888888888888,
              "#fdca26"
             ],
             [
              1,
              "#f0f921"
             ]
            ],
            "type": "histogram2d"
           }
          ],
          "histogram2dcontour": [
           {
            "colorbar": {
             "outlinewidth": 0,
             "ticks": ""
            },
            "colorscale": [
             [
              0,
              "#0d0887"
             ],
             [
              0.1111111111111111,
              "#46039f"
             ],
             [
              0.2222222222222222,
              "#7201a8"
             ],
             [
              0.3333333333333333,
              "#9c179e"
             ],
             [
              0.4444444444444444,
              "#bd3786"
             ],
             [
              0.5555555555555556,
              "#d8576b"
             ],
             [
              0.6666666666666666,
              "#ed7953"
             ],
             [
              0.7777777777777778,
              "#fb9f3a"
             ],
             [
              0.8888888888888888,
              "#fdca26"
             ],
             [
              1,
              "#f0f921"
             ]
            ],
            "type": "histogram2dcontour"
           }
          ],
          "mesh3d": [
           {
            "colorbar": {
             "outlinewidth": 0,
             "ticks": ""
            },
            "type": "mesh3d"
           }
          ],
          "parcoords": [
           {
            "line": {
             "colorbar": {
              "outlinewidth": 0,
              "ticks": ""
             }
            },
            "type": "parcoords"
           }
          ],
          "pie": [
           {
            "automargin": true,
            "type": "pie"
           }
          ],
          "scatter": [
           {
            "fillpattern": {
             "fillmode": "overlay",
             "size": 10,
             "solidity": 0.2
            },
            "type": "scatter"
           }
          ],
          "scatter3d": [
           {
            "line": {
             "colorbar": {
              "outlinewidth": 0,
              "ticks": ""
             }
            },
            "marker": {
             "colorbar": {
              "outlinewidth": 0,
              "ticks": ""
             }
            },
            "type": "scatter3d"
           }
          ],
          "scattercarpet": [
           {
            "marker": {
             "colorbar": {
              "outlinewidth": 0,
              "ticks": ""
             }
            },
            "type": "scattercarpet"
           }
          ],
          "scattergeo": [
           {
            "marker": {
             "colorbar": {
              "outlinewidth": 0,
              "ticks": ""
             }
            },
            "type": "scattergeo"
           }
          ],
          "scattergl": [
           {
            "marker": {
             "colorbar": {
              "outlinewidth": 0,
              "ticks": ""
             }
            },
            "type": "scattergl"
           }
          ],
          "scattermapbox": [
           {
            "marker": {
             "colorbar": {
              "outlinewidth": 0,
              "ticks": ""
             }
            },
            "type": "scattermapbox"
           }
          ],
          "scatterpolar": [
           {
            "marker": {
             "colorbar": {
              "outlinewidth": 0,
              "ticks": ""
             }
            },
            "type": "scatterpolar"
           }
          ],
          "scatterpolargl": [
           {
            "marker": {
             "colorbar": {
              "outlinewidth": 0,
              "ticks": ""
             }
            },
            "type": "scatterpolargl"
           }
          ],
          "scatterternary": [
           {
            "marker": {
             "colorbar": {
              "outlinewidth": 0,
              "ticks": ""
             }
            },
            "type": "scatterternary"
           }
          ],
          "surface": [
           {
            "colorbar": {
             "outlinewidth": 0,
             "ticks": ""
            },
            "colorscale": [
             [
              0,
              "#0d0887"
             ],
             [
              0.1111111111111111,
              "#46039f"
             ],
             [
              0.2222222222222222,
              "#7201a8"
             ],
             [
              0.3333333333333333,
              "#9c179e"
             ],
             [
              0.4444444444444444,
              "#bd3786"
             ],
             [
              0.5555555555555556,
              "#d8576b"
             ],
             [
              0.6666666666666666,
              "#ed7953"
             ],
             [
              0.7777777777777778,
              "#fb9f3a"
             ],
             [
              0.8888888888888888,
              "#fdca26"
             ],
             [
              1,
              "#f0f921"
             ]
            ],
            "type": "surface"
           }
          ],
          "table": [
           {
            "cells": {
             "fill": {
              "color": "#EBF0F8"
             },
             "line": {
              "color": "white"
             }
            },
            "header": {
             "fill": {
              "color": "#C8D4E3"
             },
             "line": {
              "color": "white"
             }
            },
            "type": "table"
           }
          ]
         },
         "layout": {
          "annotationdefaults": {
           "arrowcolor": "#2a3f5f",
           "arrowhead": 0,
           "arrowwidth": 1
          },
          "autotypenumbers": "strict",
          "coloraxis": {
           "colorbar": {
            "outlinewidth": 0,
            "ticks": ""
           }
          },
          "colorscale": {
           "diverging": [
            [
             0,
             "#8e0152"
            ],
            [
             0.1,
             "#c51b7d"
            ],
            [
             0.2,
             "#de77ae"
            ],
            [
             0.3,
             "#f1b6da"
            ],
            [
             0.4,
             "#fde0ef"
            ],
            [
             0.5,
             "#f7f7f7"
            ],
            [
             0.6,
             "#e6f5d0"
            ],
            [
             0.7,
             "#b8e186"
            ],
            [
             0.8,
             "#7fbc41"
            ],
            [
             0.9,
             "#4d9221"
            ],
            [
             1,
             "#276419"
            ]
           ],
           "sequential": [
            [
             0,
             "#0d0887"
            ],
            [
             0.1111111111111111,
             "#46039f"
            ],
            [
             0.2222222222222222,
             "#7201a8"
            ],
            [
             0.3333333333333333,
             "#9c179e"
            ],
            [
             0.4444444444444444,
             "#bd3786"
            ],
            [
             0.5555555555555556,
             "#d8576b"
            ],
            [
             0.6666666666666666,
             "#ed7953"
            ],
            [
             0.7777777777777778,
             "#fb9f3a"
            ],
            [
             0.8888888888888888,
             "#fdca26"
            ],
            [
             1,
             "#f0f921"
            ]
           ],
           "sequentialminus": [
            [
             0,
             "#0d0887"
            ],
            [
             0.1111111111111111,
             "#46039f"
            ],
            [
             0.2222222222222222,
             "#7201a8"
            ],
            [
             0.3333333333333333,
             "#9c179e"
            ],
            [
             0.4444444444444444,
             "#bd3786"
            ],
            [
             0.5555555555555556,
             "#d8576b"
            ],
            [
             0.6666666666666666,
             "#ed7953"
            ],
            [
             0.7777777777777778,
             "#fb9f3a"
            ],
            [
             0.8888888888888888,
             "#fdca26"
            ],
            [
             1,
             "#f0f921"
            ]
           ]
          },
          "colorway": [
           "#636efa",
           "#EF553B",
           "#00cc96",
           "#ab63fa",
           "#FFA15A",
           "#19d3f3",
           "#FF6692",
           "#B6E880",
           "#FF97FF",
           "#FECB52"
          ],
          "font": {
           "color": "#2a3f5f"
          },
          "geo": {
           "bgcolor": "white",
           "lakecolor": "white",
           "landcolor": "#E5ECF6",
           "showlakes": true,
           "showland": true,
           "subunitcolor": "white"
          },
          "hoverlabel": {
           "align": "left"
          },
          "hovermode": "closest",
          "mapbox": {
           "style": "light"
          },
          "paper_bgcolor": "white",
          "plot_bgcolor": "#E5ECF6",
          "polar": {
           "angularaxis": {
            "gridcolor": "white",
            "linecolor": "white",
            "ticks": ""
           },
           "bgcolor": "#E5ECF6",
           "radialaxis": {
            "gridcolor": "white",
            "linecolor": "white",
            "ticks": ""
           }
          },
          "scene": {
           "xaxis": {
            "backgroundcolor": "#E5ECF6",
            "gridcolor": "white",
            "gridwidth": 2,
            "linecolor": "white",
            "showbackground": true,
            "ticks": "",
            "zerolinecolor": "white"
           },
           "yaxis": {
            "backgroundcolor": "#E5ECF6",
            "gridcolor": "white",
            "gridwidth": 2,
            "linecolor": "white",
            "showbackground": true,
            "ticks": "",
            "zerolinecolor": "white"
           },
           "zaxis": {
            "backgroundcolor": "#E5ECF6",
            "gridcolor": "white",
            "gridwidth": 2,
            "linecolor": "white",
            "showbackground": true,
            "ticks": "",
            "zerolinecolor": "white"
           }
          },
          "shapedefaults": {
           "line": {
            "color": "#2a3f5f"
           }
          },
          "ternary": {
           "aaxis": {
            "gridcolor": "white",
            "linecolor": "white",
            "ticks": ""
           },
           "baxis": {
            "gridcolor": "white",
            "linecolor": "white",
            "ticks": ""
           },
           "bgcolor": "#E5ECF6",
           "caxis": {
            "gridcolor": "white",
            "linecolor": "white",
            "ticks": ""
           }
          },
          "title": {
           "x": 0.05
          },
          "xaxis": {
           "automargin": true,
           "gridcolor": "white",
           "linecolor": "white",
           "ticks": "",
           "title": {
            "standoff": 15
           },
           "zerolinecolor": "white",
           "zerolinewidth": 2
          },
          "yaxis": {
           "automargin": true,
           "gridcolor": "white",
           "linecolor": "white",
           "ticks": "",
           "title": {
            "standoff": 15
           },
           "zerolinecolor": "white",
           "zerolinewidth": 2
          }
         }
        },
        "xaxis": {
         "anchor": "y",
         "domain": [
          0,
          1
         ],
         "title": {
          "text": "Periodo"
         }
        },
        "yaxis": {
         "anchor": "x",
         "domain": [
          0,
          1
         ],
         "title": {
          "text": "Total"
         }
        }
       }
      },
      "text/html": [
       "<div>                            <div id=\"6c307a1d-f038-4e69-908f-d18cf6db61da\" class=\"plotly-graph-div\" style=\"height:525px; width:100%;\"></div>            <script type=\"text/javascript\">                require([\"plotly\"], function(Plotly) {                    window.PLOTLYENV=window.PLOTLYENV || {};                                    if (document.getElementById(\"6c307a1d-f038-4e69-908f-d18cf6db61da\")) {                    Plotly.newPlot(                        \"6c307a1d-f038-4e69-908f-d18cf6db61da\",                        [{\"hovertemplate\":\"Periodo=%{x}<br>Total=%{y}<extra></extra>\",\"legendgroup\":\"\",\"line\":{\"color\":\"#636efa\",\"dash\":\"solid\"},\"marker\":{\"symbol\":\"circle\"},\"mode\":\"lines\",\"name\":\"\",\"orientation\":\"v\",\"showlegend\":false,\"x\":[1980,1981,1982,1983,1984,1985,1986,1987,1988,1989,1990,1991,1992,1993,1994,1995,1996,1997,1998,1999,2000,2001,2002,2003,2004,2005,2006,2007,2008,2009,2010,2011,2012,2013,2014,2015,2016,2017,2018],\"xaxis\":\"x\",\"y\":[1652,1718,1851,2181,2493,2514,2755,2804,2960,2987,2939,2916,2786,3037,3171,3157,3320,3373,3261,3218,3393,3189,3371,3478,3507,3399,3246,3263,3457,3429,3158,3180,3539,3870,3910,3602,3569,3679,3539],\"yaxis\":\"y\",\"type\":\"scatter\"}],                        {\"template\":{\"data\":{\"histogram2dcontour\":[{\"type\":\"histogram2dcontour\",\"colorbar\":{\"outlinewidth\":0,\"ticks\":\"\"},\"colorscale\":[[0.0,\"#0d0887\"],[0.1111111111111111,\"#46039f\"],[0.2222222222222222,\"#7201a8\"],[0.3333333333333333,\"#9c179e\"],[0.4444444444444444,\"#bd3786\"],[0.5555555555555556,\"#d8576b\"],[0.6666666666666666,\"#ed7953\"],[0.7777777777777778,\"#fb9f3a\"],[0.8888888888888888,\"#fdca26\"],[1.0,\"#f0f921\"]]}],\"choropleth\":[{\"type\":\"choropleth\",\"colorbar\":{\"outlinewidth\":0,\"ticks\":\"\"}}],\"histogram2d\":[{\"type\":\"histogram2d\",\"colorbar\":{\"outlinewidth\":0,\"ticks\":\"\"},\"colorscale\":[[0.0,\"#0d0887\"],[0.1111111111111111,\"#46039f\"],[0.2222222222222222,\"#7201a8\"],[0.3333333333333333,\"#9c179e\"],[0.4444444444444444,\"#bd3786\"],[0.5555555555555556,\"#d8576b\"],[0.6666666666666666,\"#ed7953\"],[0.7777777777777778,\"#fb9f3a\"],[0.8888888888888888,\"#fdca26\"],[1.0,\"#f0f921\"]]}],\"heatmap\":[{\"type\":\"heatmap\",\"colorbar\":{\"outlinewidth\":0,\"ticks\":\"\"},\"colorscale\":[[0.0,\"#0d0887\"],[0.1111111111111111,\"#46039f\"],[0.2222222222222222,\"#7201a8\"],[0.3333333333333333,\"#9c179e\"],[0.4444444444444444,\"#bd3786\"],[0.5555555555555556,\"#d8576b\"],[0.6666666666666666,\"#ed7953\"],[0.7777777777777778,\"#fb9f3a\"],[0.8888888888888888,\"#fdca26\"],[1.0,\"#f0f921\"]]}],\"heatmapgl\":[{\"type\":\"heatmapgl\",\"colorbar\":{\"outlinewidth\":0,\"ticks\":\"\"},\"colorscale\":[[0.0,\"#0d0887\"],[0.1111111111111111,\"#46039f\"],[0.2222222222222222,\"#7201a8\"],[0.3333333333333333,\"#9c179e\"],[0.4444444444444444,\"#bd3786\"],[0.5555555555555556,\"#d8576b\"],[0.6666666666666666,\"#ed7953\"],[0.7777777777777778,\"#fb9f3a\"],[0.8888888888888888,\"#fdca26\"],[1.0,\"#f0f921\"]]}],\"contourcarpet\":[{\"type\":\"contourcarpet\",\"colorbar\":{\"outlinewidth\":0,\"ticks\":\"\"}}],\"contour\":[{\"type\":\"contour\",\"colorbar\":{\"outlinewidth\":0,\"ticks\":\"\"},\"colorscale\":[[0.0,\"#0d0887\"],[0.1111111111111111,\"#46039f\"],[0.2222222222222222,\"#7201a8\"],[0.3333333333333333,\"#9c179e\"],[0.4444444444444444,\"#bd3786\"],[0.5555555555555556,\"#d8576b\"],[0.6666666666666666,\"#ed7953\"],[0.7777777777777778,\"#fb9f3a\"],[0.8888888888888888,\"#fdca26\"],[1.0,\"#f0f921\"]]}],\"surface\":[{\"type\":\"surface\",\"colorbar\":{\"outlinewidth\":0,\"ticks\":\"\"},\"colorscale\":[[0.0,\"#0d0887\"],[0.1111111111111111,\"#46039f\"],[0.2222222222222222,\"#7201a8\"],[0.3333333333333333,\"#9c179e\"],[0.4444444444444444,\"#bd3786\"],[0.5555555555555556,\"#d8576b\"],[0.6666666666666666,\"#ed7953\"],[0.7777777777777778,\"#fb9f3a\"],[0.8888888888888888,\"#fdca26\"],[1.0,\"#f0f921\"]]}],\"mesh3d\":[{\"type\":\"mesh3d\",\"colorbar\":{\"outlinewidth\":0,\"ticks\":\"\"}}],\"scatter\":[{\"fillpattern\":{\"fillmode\":\"overlay\",\"size\":10,\"solidity\":0.2},\"type\":\"scatter\"}],\"parcoords\":[{\"type\":\"parcoords\",\"line\":{\"colorbar\":{\"outlinewidth\":0,\"ticks\":\"\"}}}],\"scatterpolargl\":[{\"type\":\"scatterpolargl\",\"marker\":{\"colorbar\":{\"outlinewidth\":0,\"ticks\":\"\"}}}],\"bar\":[{\"error_x\":{\"color\":\"#2a3f5f\"},\"error_y\":{\"color\":\"#2a3f5f\"},\"marker\":{\"line\":{\"color\":\"#E5ECF6\",\"width\":0.5},\"pattern\":{\"fillmode\":\"overlay\",\"size\":10,\"solidity\":0.2}},\"type\":\"bar\"}],\"scattergeo\":[{\"type\":\"scattergeo\",\"marker\":{\"colorbar\":{\"outlinewidth\":0,\"ticks\":\"\"}}}],\"scatterpolar\":[{\"type\":\"scatterpolar\",\"marker\":{\"colorbar\":{\"outlinewidth\":0,\"ticks\":\"\"}}}],\"histogram\":[{\"marker\":{\"pattern\":{\"fillmode\":\"overlay\",\"size\":10,\"solidity\":0.2}},\"type\":\"histogram\"}],\"scattergl\":[{\"type\":\"scattergl\",\"marker\":{\"colorbar\":{\"outlinewidth\":0,\"ticks\":\"\"}}}],\"scatter3d\":[{\"type\":\"scatter3d\",\"line\":{\"colorbar\":{\"outlinewidth\":0,\"ticks\":\"\"}},\"marker\":{\"colorbar\":{\"outlinewidth\":0,\"ticks\":\"\"}}}],\"scattermapbox\":[{\"type\":\"scattermapbox\",\"marker\":{\"colorbar\":{\"outlinewidth\":0,\"ticks\":\"\"}}}],\"scatterternary\":[{\"type\":\"scatterternary\",\"marker\":{\"colorbar\":{\"outlinewidth\":0,\"ticks\":\"\"}}}],\"scattercarpet\":[{\"type\":\"scattercarpet\",\"marker\":{\"colorbar\":{\"outlinewidth\":0,\"ticks\":\"\"}}}],\"carpet\":[{\"aaxis\":{\"endlinecolor\":\"#2a3f5f\",\"gridcolor\":\"white\",\"linecolor\":\"white\",\"minorgridcolor\":\"white\",\"startlinecolor\":\"#2a3f5f\"},\"baxis\":{\"endlinecolor\":\"#2a3f5f\",\"gridcolor\":\"white\",\"linecolor\":\"white\",\"minorgridcolor\":\"white\",\"startlinecolor\":\"#2a3f5f\"},\"type\":\"carpet\"}],\"table\":[{\"cells\":{\"fill\":{\"color\":\"#EBF0F8\"},\"line\":{\"color\":\"white\"}},\"header\":{\"fill\":{\"color\":\"#C8D4E3\"},\"line\":{\"color\":\"white\"}},\"type\":\"table\"}],\"barpolar\":[{\"marker\":{\"line\":{\"color\":\"#E5ECF6\",\"width\":0.5},\"pattern\":{\"fillmode\":\"overlay\",\"size\":10,\"solidity\":0.2}},\"type\":\"barpolar\"}],\"pie\":[{\"automargin\":true,\"type\":\"pie\"}]},\"layout\":{\"autotypenumbers\":\"strict\",\"colorway\":[\"#636efa\",\"#EF553B\",\"#00cc96\",\"#ab63fa\",\"#FFA15A\",\"#19d3f3\",\"#FF6692\",\"#B6E880\",\"#FF97FF\",\"#FECB52\"],\"font\":{\"color\":\"#2a3f5f\"},\"hovermode\":\"closest\",\"hoverlabel\":{\"align\":\"left\"},\"paper_bgcolor\":\"white\",\"plot_bgcolor\":\"#E5ECF6\",\"polar\":{\"bgcolor\":\"#E5ECF6\",\"angularaxis\":{\"gridcolor\":\"white\",\"linecolor\":\"white\",\"ticks\":\"\"},\"radialaxis\":{\"gridcolor\":\"white\",\"linecolor\":\"white\",\"ticks\":\"\"}},\"ternary\":{\"bgcolor\":\"#E5ECF6\",\"aaxis\":{\"gridcolor\":\"white\",\"linecolor\":\"white\",\"ticks\":\"\"},\"baxis\":{\"gridcolor\":\"white\",\"linecolor\":\"white\",\"ticks\":\"\"},\"caxis\":{\"gridcolor\":\"white\",\"linecolor\":\"white\",\"ticks\":\"\"}},\"coloraxis\":{\"colorbar\":{\"outlinewidth\":0,\"ticks\":\"\"}},\"colorscale\":{\"sequential\":[[0.0,\"#0d0887\"],[0.1111111111111111,\"#46039f\"],[0.2222222222222222,\"#7201a8\"],[0.3333333333333333,\"#9c179e\"],[0.4444444444444444,\"#bd3786\"],[0.5555555555555556,\"#d8576b\"],[0.6666666666666666,\"#ed7953\"],[0.7777777777777778,\"#fb9f3a\"],[0.8888888888888888,\"#fdca26\"],[1.0,\"#f0f921\"]],\"sequentialminus\":[[0.0,\"#0d0887\"],[0.1111111111111111,\"#46039f\"],[0.2222222222222222,\"#7201a8\"],[0.3333333333333333,\"#9c179e\"],[0.4444444444444444,\"#bd3786\"],[0.5555555555555556,\"#d8576b\"],[0.6666666666666666,\"#ed7953\"],[0.7777777777777778,\"#fb9f3a\"],[0.8888888888888888,\"#fdca26\"],[1.0,\"#f0f921\"]],\"diverging\":[[0,\"#8e0152\"],[0.1,\"#c51b7d\"],[0.2,\"#de77ae\"],[0.3,\"#f1b6da\"],[0.4,\"#fde0ef\"],[0.5,\"#f7f7f7\"],[0.6,\"#e6f5d0\"],[0.7,\"#b8e186\"],[0.8,\"#7fbc41\"],[0.9,\"#4d9221\"],[1,\"#276419\"]]},\"xaxis\":{\"gridcolor\":\"white\",\"linecolor\":\"white\",\"ticks\":\"\",\"title\":{\"standoff\":15},\"zerolinecolor\":\"white\",\"automargin\":true,\"zerolinewidth\":2},\"yaxis\":{\"gridcolor\":\"white\",\"linecolor\":\"white\",\"ticks\":\"\",\"title\":{\"standoff\":15},\"zerolinecolor\":\"white\",\"automargin\":true,\"zerolinewidth\":2},\"scene\":{\"xaxis\":{\"backgroundcolor\":\"#E5ECF6\",\"gridcolor\":\"white\",\"linecolor\":\"white\",\"showbackground\":true,\"ticks\":\"\",\"zerolinecolor\":\"white\",\"gridwidth\":2},\"yaxis\":{\"backgroundcolor\":\"#E5ECF6\",\"gridcolor\":\"white\",\"linecolor\":\"white\",\"showbackground\":true,\"ticks\":\"\",\"zerolinecolor\":\"white\",\"gridwidth\":2},\"zaxis\":{\"backgroundcolor\":\"#E5ECF6\",\"gridcolor\":\"white\",\"linecolor\":\"white\",\"showbackground\":true,\"ticks\":\"\",\"zerolinecolor\":\"white\",\"gridwidth\":2}},\"shapedefaults\":{\"line\":{\"color\":\"#2a3f5f\"}},\"annotationdefaults\":{\"arrowcolor\":\"#2a3f5f\",\"arrowhead\":0,\"arrowwidth\":1},\"geo\":{\"bgcolor\":\"white\",\"landcolor\":\"#E5ECF6\",\"subunitcolor\":\"white\",\"showland\":true,\"showlakes\":true,\"lakecolor\":\"white\"},\"title\":{\"x\":0.05},\"mapbox\":{\"style\":\"light\"}}},\"xaxis\":{\"anchor\":\"y\",\"domain\":[0.0,1.0],\"title\":{\"text\":\"Periodo\"}},\"yaxis\":{\"anchor\":\"x\",\"domain\":[0.0,1.0],\"title\":{\"text\":\"Total\"}},\"legend\":{\"tracegroupgap\":0},\"margin\":{\"t\":60}},                        {\"responsive\": true}                    ).then(function(){\n",
       "                            \n",
       "var gd = document.getElementById('6c307a1d-f038-4e69-908f-d18cf6db61da');\n",
       "var x = new MutationObserver(function (mutations, observer) {{\n",
       "        var display = window.getComputedStyle(gd).display;\n",
       "        if (!display || display === 'none') {{\n",
       "            console.log([gd, 'removed!']);\n",
       "            Plotly.purge(gd);\n",
       "            observer.disconnect();\n",
       "        }}\n",
       "}});\n",
       "\n",
       "// Listen for the removal of the full notebook cells\n",
       "var notebookContainer = gd.closest('#notebook-container');\n",
       "if (notebookContainer) {{\n",
       "    x.observe(notebookContainer, {childList: true});\n",
       "}}\n",
       "\n",
       "// Listen for the clearing of the current output cell\n",
       "var outputEl = gd.closest('.output');\n",
       "if (outputEl) {{\n",
       "    x.observe(outputEl, {childList: true});\n",
       "}}\n",
       "\n",
       "                        })                };                });            </script>        </div>"
      ]
     },
     "metadata": {},
     "output_type": "display_data"
    }
   ],
   "source": [
    "fig1 = px.line(deaths_year, x=\"Periodo\", y=\"Total\")\n",
    "fig1.show()"
   ]
  },
  {
   "cell_type": "code",
   "execution_count": 51,
   "metadata": {},
   "outputs": [
    {
     "data": {
      "application/vnd.plotly.v1+json": {
       "config": {
        "plotlyServerURL": "https://plot.ly"
       },
       "data": [
        {
         "alignmentgroup": "True",
         "hovertemplate": "Total=%{x}<br>Sexo=%{y}<extra></extra>",
         "legendgroup": "",
         "marker": {
          "color": "#636efa",
          "pattern": {
           "shape": ""
          }
         },
         "name": "",
         "offsetgroup": "",
         "orientation": "h",
         "showlegend": false,
         "textposition": "auto",
         "type": "bar",
         "x": [
          30075,
          90796
         ],
         "xaxis": "x",
         "y": [
          "Mujeres",
          "Hombres"
         ],
         "yaxis": "y"
        }
       ],
       "layout": {
        "barmode": "relative",
        "legend": {
         "tracegroupgap": 0
        },
        "template": {
         "data": {
          "bar": [
           {
            "error_x": {
             "color": "#2a3f5f"
            },
            "error_y": {
             "color": "#2a3f5f"
            },
            "marker": {
             "line": {
              "color": "#E5ECF6",
              "width": 0.5
             },
             "pattern": {
              "fillmode": "overlay",
              "size": 10,
              "solidity": 0.2
             }
            },
            "type": "bar"
           }
          ],
          "barpolar": [
           {
            "marker": {
             "line": {
              "color": "#E5ECF6",
              "width": 0.5
             },
             "pattern": {
              "fillmode": "overlay",
              "size": 10,
              "solidity": 0.2
             }
            },
            "type": "barpolar"
           }
          ],
          "carpet": [
           {
            "aaxis": {
             "endlinecolor": "#2a3f5f",
             "gridcolor": "white",
             "linecolor": "white",
             "minorgridcolor": "white",
             "startlinecolor": "#2a3f5f"
            },
            "baxis": {
             "endlinecolor": "#2a3f5f",
             "gridcolor": "white",
             "linecolor": "white",
             "minorgridcolor": "white",
             "startlinecolor": "#2a3f5f"
            },
            "type": "carpet"
           }
          ],
          "choropleth": [
           {
            "colorbar": {
             "outlinewidth": 0,
             "ticks": ""
            },
            "type": "choropleth"
           }
          ],
          "contour": [
           {
            "colorbar": {
             "outlinewidth": 0,
             "ticks": ""
            },
            "colorscale": [
             [
              0,
              "#0d0887"
             ],
             [
              0.1111111111111111,
              "#46039f"
             ],
             [
              0.2222222222222222,
              "#7201a8"
             ],
             [
              0.3333333333333333,
              "#9c179e"
             ],
             [
              0.4444444444444444,
              "#bd3786"
             ],
             [
              0.5555555555555556,
              "#d8576b"
             ],
             [
              0.6666666666666666,
              "#ed7953"
             ],
             [
              0.7777777777777778,
              "#fb9f3a"
             ],
             [
              0.8888888888888888,
              "#fdca26"
             ],
             [
              1,
              "#f0f921"
             ]
            ],
            "type": "contour"
           }
          ],
          "contourcarpet": [
           {
            "colorbar": {
             "outlinewidth": 0,
             "ticks": ""
            },
            "type": "contourcarpet"
           }
          ],
          "heatmap": [
           {
            "colorbar": {
             "outlinewidth": 0,
             "ticks": ""
            },
            "colorscale": [
             [
              0,
              "#0d0887"
             ],
             [
              0.1111111111111111,
              "#46039f"
             ],
             [
              0.2222222222222222,
              "#7201a8"
             ],
             [
              0.3333333333333333,
              "#9c179e"
             ],
             [
              0.4444444444444444,
              "#bd3786"
             ],
             [
              0.5555555555555556,
              "#d8576b"
             ],
             [
              0.6666666666666666,
              "#ed7953"
             ],
             [
              0.7777777777777778,
              "#fb9f3a"
             ],
             [
              0.8888888888888888,
              "#fdca26"
             ],
             [
              1,
              "#f0f921"
             ]
            ],
            "type": "heatmap"
           }
          ],
          "heatmapgl": [
           {
            "colorbar": {
             "outlinewidth": 0,
             "ticks": ""
            },
            "colorscale": [
             [
              0,
              "#0d0887"
             ],
             [
              0.1111111111111111,
              "#46039f"
             ],
             [
              0.2222222222222222,
              "#7201a8"
             ],
             [
              0.3333333333333333,
              "#9c179e"
             ],
             [
              0.4444444444444444,
              "#bd3786"
             ],
             [
              0.5555555555555556,
              "#d8576b"
             ],
             [
              0.6666666666666666,
              "#ed7953"
             ],
             [
              0.7777777777777778,
              "#fb9f3a"
             ],
             [
              0.8888888888888888,
              "#fdca26"
             ],
             [
              1,
              "#f0f921"
             ]
            ],
            "type": "heatmapgl"
           }
          ],
          "histogram": [
           {
            "marker": {
             "pattern": {
              "fillmode": "overlay",
              "size": 10,
              "solidity": 0.2
             }
            },
            "type": "histogram"
           }
          ],
          "histogram2d": [
           {
            "colorbar": {
             "outlinewidth": 0,
             "ticks": ""
            },
            "colorscale": [
             [
              0,
              "#0d0887"
             ],
             [
              0.1111111111111111,
              "#46039f"
             ],
             [
              0.2222222222222222,
              "#7201a8"
             ],
             [
              0.3333333333333333,
              "#9c179e"
             ],
             [
              0.4444444444444444,
              "#bd3786"
             ],
             [
              0.5555555555555556,
              "#d8576b"
             ],
             [
              0.6666666666666666,
              "#ed7953"
             ],
             [
              0.7777777777777778,
              "#fb9f3a"
             ],
             [
              0.8888888888888888,
              "#fdca26"
             ],
             [
              1,
              "#f0f921"
             ]
            ],
            "type": "histogram2d"
           }
          ],
          "histogram2dcontour": [
           {
            "colorbar": {
             "outlinewidth": 0,
             "ticks": ""
            },
            "colorscale": [
             [
              0,
              "#0d0887"
             ],
             [
              0.1111111111111111,
              "#46039f"
             ],
             [
              0.2222222222222222,
              "#7201a8"
             ],
             [
              0.3333333333333333,
              "#9c179e"
             ],
             [
              0.4444444444444444,
              "#bd3786"
             ],
             [
              0.5555555555555556,
              "#d8576b"
             ],
             [
              0.6666666666666666,
              "#ed7953"
             ],
             [
              0.7777777777777778,
              "#fb9f3a"
             ],
             [
              0.8888888888888888,
              "#fdca26"
             ],
             [
              1,
              "#f0f921"
             ]
            ],
            "type": "histogram2dcontour"
           }
          ],
          "mesh3d": [
           {
            "colorbar": {
             "outlinewidth": 0,
             "ticks": ""
            },
            "type": "mesh3d"
           }
          ],
          "parcoords": [
           {
            "line": {
             "colorbar": {
              "outlinewidth": 0,
              "ticks": ""
             }
            },
            "type": "parcoords"
           }
          ],
          "pie": [
           {
            "automargin": true,
            "type": "pie"
           }
          ],
          "scatter": [
           {
            "fillpattern": {
             "fillmode": "overlay",
             "size": 10,
             "solidity": 0.2
            },
            "type": "scatter"
           }
          ],
          "scatter3d": [
           {
            "line": {
             "colorbar": {
              "outlinewidth": 0,
              "ticks": ""
             }
            },
            "marker": {
             "colorbar": {
              "outlinewidth": 0,
              "ticks": ""
             }
            },
            "type": "scatter3d"
           }
          ],
          "scattercarpet": [
           {
            "marker": {
             "colorbar": {
              "outlinewidth": 0,
              "ticks": ""
             }
            },
            "type": "scattercarpet"
           }
          ],
          "scattergeo": [
           {
            "marker": {
             "colorbar": {
              "outlinewidth": 0,
              "ticks": ""
             }
            },
            "type": "scattergeo"
           }
          ],
          "scattergl": [
           {
            "marker": {
             "colorbar": {
              "outlinewidth": 0,
              "ticks": ""
             }
            },
            "type": "scattergl"
           }
          ],
          "scattermapbox": [
           {
            "marker": {
             "colorbar": {
              "outlinewidth": 0,
              "ticks": ""
             }
            },
            "type": "scattermapbox"
           }
          ],
          "scatterpolar": [
           {
            "marker": {
             "colorbar": {
              "outlinewidth": 0,
              "ticks": ""
             }
            },
            "type": "scatterpolar"
           }
          ],
          "scatterpolargl": [
           {
            "marker": {
             "colorbar": {
              "outlinewidth": 0,
              "ticks": ""
             }
            },
            "type": "scatterpolargl"
           }
          ],
          "scatterternary": [
           {
            "marker": {
             "colorbar": {
              "outlinewidth": 0,
              "ticks": ""
             }
            },
            "type": "scatterternary"
           }
          ],
          "surface": [
           {
            "colorbar": {
             "outlinewidth": 0,
             "ticks": ""
            },
            "colorscale": [
             [
              0,
              "#0d0887"
             ],
             [
              0.1111111111111111,
              "#46039f"
             ],
             [
              0.2222222222222222,
              "#7201a8"
             ],
             [
              0.3333333333333333,
              "#9c179e"
             ],
             [
              0.4444444444444444,
              "#bd3786"
             ],
             [
              0.5555555555555556,
              "#d8576b"
             ],
             [
              0.6666666666666666,
              "#ed7953"
             ],
             [
              0.7777777777777778,
              "#fb9f3a"
             ],
             [
              0.8888888888888888,
              "#fdca26"
             ],
             [
              1,
              "#f0f921"
             ]
            ],
            "type": "surface"
           }
          ],
          "table": [
           {
            "cells": {
             "fill": {
              "color": "#EBF0F8"
             },
             "line": {
              "color": "white"
             }
            },
            "header": {
             "fill": {
              "color": "#C8D4E3"
             },
             "line": {
              "color": "white"
             }
            },
            "type": "table"
           }
          ]
         },
         "layout": {
          "annotationdefaults": {
           "arrowcolor": "#2a3f5f",
           "arrowhead": 0,
           "arrowwidth": 1
          },
          "autotypenumbers": "strict",
          "coloraxis": {
           "colorbar": {
            "outlinewidth": 0,
            "ticks": ""
           }
          },
          "colorscale": {
           "diverging": [
            [
             0,
             "#8e0152"
            ],
            [
             0.1,
             "#c51b7d"
            ],
            [
             0.2,
             "#de77ae"
            ],
            [
             0.3,
             "#f1b6da"
            ],
            [
             0.4,
             "#fde0ef"
            ],
            [
             0.5,
             "#f7f7f7"
            ],
            [
             0.6,
             "#e6f5d0"
            ],
            [
             0.7,
             "#b8e186"
            ],
            [
             0.8,
             "#7fbc41"
            ],
            [
             0.9,
             "#4d9221"
            ],
            [
             1,
             "#276419"
            ]
           ],
           "sequential": [
            [
             0,
             "#0d0887"
            ],
            [
             0.1111111111111111,
             "#46039f"
            ],
            [
             0.2222222222222222,
             "#7201a8"
            ],
            [
             0.3333333333333333,
             "#9c179e"
            ],
            [
             0.4444444444444444,
             "#bd3786"
            ],
            [
             0.5555555555555556,
             "#d8576b"
            ],
            [
             0.6666666666666666,
             "#ed7953"
            ],
            [
             0.7777777777777778,
             "#fb9f3a"
            ],
            [
             0.8888888888888888,
             "#fdca26"
            ],
            [
             1,
             "#f0f921"
            ]
           ],
           "sequentialminus": [
            [
             0,
             "#0d0887"
            ],
            [
             0.1111111111111111,
             "#46039f"
            ],
            [
             0.2222222222222222,
             "#7201a8"
            ],
            [
             0.3333333333333333,
             "#9c179e"
            ],
            [
             0.4444444444444444,
             "#bd3786"
            ],
            [
             0.5555555555555556,
             "#d8576b"
            ],
            [
             0.6666666666666666,
             "#ed7953"
            ],
            [
             0.7777777777777778,
             "#fb9f3a"
            ],
            [
             0.8888888888888888,
             "#fdca26"
            ],
            [
             1,
             "#f0f921"
            ]
           ]
          },
          "colorway": [
           "#636efa",
           "#EF553B",
           "#00cc96",
           "#ab63fa",
           "#FFA15A",
           "#19d3f3",
           "#FF6692",
           "#B6E880",
           "#FF97FF",
           "#FECB52"
          ],
          "font": {
           "color": "#2a3f5f"
          },
          "geo": {
           "bgcolor": "white",
           "lakecolor": "white",
           "landcolor": "#E5ECF6",
           "showlakes": true,
           "showland": true,
           "subunitcolor": "white"
          },
          "hoverlabel": {
           "align": "left"
          },
          "hovermode": "closest",
          "mapbox": {
           "style": "light"
          },
          "paper_bgcolor": "white",
          "plot_bgcolor": "#E5ECF6",
          "polar": {
           "angularaxis": {
            "gridcolor": "white",
            "linecolor": "white",
            "ticks": ""
           },
           "bgcolor": "#E5ECF6",
           "radialaxis": {
            "gridcolor": "white",
            "linecolor": "white",
            "ticks": ""
           }
          },
          "scene": {
           "xaxis": {
            "backgroundcolor": "#E5ECF6",
            "gridcolor": "white",
            "gridwidth": 2,
            "linecolor": "white",
            "showbackground": true,
            "ticks": "",
            "zerolinecolor": "white"
           },
           "yaxis": {
            "backgroundcolor": "#E5ECF6",
            "gridcolor": "white",
            "gridwidth": 2,
            "linecolor": "white",
            "showbackground": true,
            "ticks": "",
            "zerolinecolor": "white"
           },
           "zaxis": {
            "backgroundcolor": "#E5ECF6",
            "gridcolor": "white",
            "gridwidth": 2,
            "linecolor": "white",
            "showbackground": true,
            "ticks": "",
            "zerolinecolor": "white"
           }
          },
          "shapedefaults": {
           "line": {
            "color": "#2a3f5f"
           }
          },
          "ternary": {
           "aaxis": {
            "gridcolor": "white",
            "linecolor": "white",
            "ticks": ""
           },
           "baxis": {
            "gridcolor": "white",
            "linecolor": "white",
            "ticks": ""
           },
           "bgcolor": "#E5ECF6",
           "caxis": {
            "gridcolor": "white",
            "linecolor": "white",
            "ticks": ""
           }
          },
          "title": {
           "x": 0.05
          },
          "xaxis": {
           "automargin": true,
           "gridcolor": "white",
           "linecolor": "white",
           "ticks": "",
           "title": {
            "standoff": 15
           },
           "zerolinecolor": "white",
           "zerolinewidth": 2
          },
          "yaxis": {
           "automargin": true,
           "gridcolor": "white",
           "linecolor": "white",
           "ticks": "",
           "title": {
            "standoff": 15
           },
           "zerolinecolor": "white",
           "zerolinewidth": 2
          }
         }
        },
        "title": {
         "text": "Total de Muertes por Sexo"
        },
        "xaxis": {
         "anchor": "y",
         "domain": [
          0,
          1
         ],
         "title": {
          "text": "Total"
         }
        },
        "yaxis": {
         "anchor": "x",
         "domain": [
          0,
          1
         ],
         "title": {
          "text": "Sexo"
         }
        }
       }
      },
      "text/html": [
       "<div>                            <div id=\"5cab2221-df10-459f-b099-479db269dede\" class=\"plotly-graph-div\" style=\"height:525px; width:100%;\"></div>            <script type=\"text/javascript\">                require([\"plotly\"], function(Plotly) {                    window.PLOTLYENV=window.PLOTLYENV || {};                                    if (document.getElementById(\"5cab2221-df10-459f-b099-479db269dede\")) {                    Plotly.newPlot(                        \"5cab2221-df10-459f-b099-479db269dede\",                        [{\"alignmentgroup\":\"True\",\"hovertemplate\":\"Total=%{x}<br>Sexo=%{y}<extra></extra>\",\"legendgroup\":\"\",\"marker\":{\"color\":\"#636efa\",\"pattern\":{\"shape\":\"\"}},\"name\":\"\",\"offsetgroup\":\"\",\"orientation\":\"h\",\"showlegend\":false,\"textposition\":\"auto\",\"x\":[30075,90796],\"xaxis\":\"x\",\"y\":[\"Mujeres\",\"Hombres\"],\"yaxis\":\"y\",\"type\":\"bar\"}],                        {\"template\":{\"data\":{\"histogram2dcontour\":[{\"type\":\"histogram2dcontour\",\"colorbar\":{\"outlinewidth\":0,\"ticks\":\"\"},\"colorscale\":[[0.0,\"#0d0887\"],[0.1111111111111111,\"#46039f\"],[0.2222222222222222,\"#7201a8\"],[0.3333333333333333,\"#9c179e\"],[0.4444444444444444,\"#bd3786\"],[0.5555555555555556,\"#d8576b\"],[0.6666666666666666,\"#ed7953\"],[0.7777777777777778,\"#fb9f3a\"],[0.8888888888888888,\"#fdca26\"],[1.0,\"#f0f921\"]]}],\"choropleth\":[{\"type\":\"choropleth\",\"colorbar\":{\"outlinewidth\":0,\"ticks\":\"\"}}],\"histogram2d\":[{\"type\":\"histogram2d\",\"colorbar\":{\"outlinewidth\":0,\"ticks\":\"\"},\"colorscale\":[[0.0,\"#0d0887\"],[0.1111111111111111,\"#46039f\"],[0.2222222222222222,\"#7201a8\"],[0.3333333333333333,\"#9c179e\"],[0.4444444444444444,\"#bd3786\"],[0.5555555555555556,\"#d8576b\"],[0.6666666666666666,\"#ed7953\"],[0.7777777777777778,\"#fb9f3a\"],[0.8888888888888888,\"#fdca26\"],[1.0,\"#f0f921\"]]}],\"heatmap\":[{\"type\":\"heatmap\",\"colorbar\":{\"outlinewidth\":0,\"ticks\":\"\"},\"colorscale\":[[0.0,\"#0d0887\"],[0.1111111111111111,\"#46039f\"],[0.2222222222222222,\"#7201a8\"],[0.3333333333333333,\"#9c179e\"],[0.4444444444444444,\"#bd3786\"],[0.5555555555555556,\"#d8576b\"],[0.6666666666666666,\"#ed7953\"],[0.7777777777777778,\"#fb9f3a\"],[0.8888888888888888,\"#fdca26\"],[1.0,\"#f0f921\"]]}],\"heatmapgl\":[{\"type\":\"heatmapgl\",\"colorbar\":{\"outlinewidth\":0,\"ticks\":\"\"},\"colorscale\":[[0.0,\"#0d0887\"],[0.1111111111111111,\"#46039f\"],[0.2222222222222222,\"#7201a8\"],[0.3333333333333333,\"#9c179e\"],[0.4444444444444444,\"#bd3786\"],[0.5555555555555556,\"#d8576b\"],[0.6666666666666666,\"#ed7953\"],[0.7777777777777778,\"#fb9f3a\"],[0.8888888888888888,\"#fdca26\"],[1.0,\"#f0f921\"]]}],\"contourcarpet\":[{\"type\":\"contourcarpet\",\"colorbar\":{\"outlinewidth\":0,\"ticks\":\"\"}}],\"contour\":[{\"type\":\"contour\",\"colorbar\":{\"outlinewidth\":0,\"ticks\":\"\"},\"colorscale\":[[0.0,\"#0d0887\"],[0.1111111111111111,\"#46039f\"],[0.2222222222222222,\"#7201a8\"],[0.3333333333333333,\"#9c179e\"],[0.4444444444444444,\"#bd3786\"],[0.5555555555555556,\"#d8576b\"],[0.6666666666666666,\"#ed7953\"],[0.7777777777777778,\"#fb9f3a\"],[0.8888888888888888,\"#fdca26\"],[1.0,\"#f0f921\"]]}],\"surface\":[{\"type\":\"surface\",\"colorbar\":{\"outlinewidth\":0,\"ticks\":\"\"},\"colorscale\":[[0.0,\"#0d0887\"],[0.1111111111111111,\"#46039f\"],[0.2222222222222222,\"#7201a8\"],[0.3333333333333333,\"#9c179e\"],[0.4444444444444444,\"#bd3786\"],[0.5555555555555556,\"#d8576b\"],[0.6666666666666666,\"#ed7953\"],[0.7777777777777778,\"#fb9f3a\"],[0.8888888888888888,\"#fdca26\"],[1.0,\"#f0f921\"]]}],\"mesh3d\":[{\"type\":\"mesh3d\",\"colorbar\":{\"outlinewidth\":0,\"ticks\":\"\"}}],\"scatter\":[{\"fillpattern\":{\"fillmode\":\"overlay\",\"size\":10,\"solidity\":0.2},\"type\":\"scatter\"}],\"parcoords\":[{\"type\":\"parcoords\",\"line\":{\"colorbar\":{\"outlinewidth\":0,\"ticks\":\"\"}}}],\"scatterpolargl\":[{\"type\":\"scatterpolargl\",\"marker\":{\"colorbar\":{\"outlinewidth\":0,\"ticks\":\"\"}}}],\"bar\":[{\"error_x\":{\"color\":\"#2a3f5f\"},\"error_y\":{\"color\":\"#2a3f5f\"},\"marker\":{\"line\":{\"color\":\"#E5ECF6\",\"width\":0.5},\"pattern\":{\"fillmode\":\"overlay\",\"size\":10,\"solidity\":0.2}},\"type\":\"bar\"}],\"scattergeo\":[{\"type\":\"scattergeo\",\"marker\":{\"colorbar\":{\"outlinewidth\":0,\"ticks\":\"\"}}}],\"scatterpolar\":[{\"type\":\"scatterpolar\",\"marker\":{\"colorbar\":{\"outlinewidth\":0,\"ticks\":\"\"}}}],\"histogram\":[{\"marker\":{\"pattern\":{\"fillmode\":\"overlay\",\"size\":10,\"solidity\":0.2}},\"type\":\"histogram\"}],\"scattergl\":[{\"type\":\"scattergl\",\"marker\":{\"colorbar\":{\"outlinewidth\":0,\"ticks\":\"\"}}}],\"scatter3d\":[{\"type\":\"scatter3d\",\"line\":{\"colorbar\":{\"outlinewidth\":0,\"ticks\":\"\"}},\"marker\":{\"colorbar\":{\"outlinewidth\":0,\"ticks\":\"\"}}}],\"scattermapbox\":[{\"type\":\"scattermapbox\",\"marker\":{\"colorbar\":{\"outlinewidth\":0,\"ticks\":\"\"}}}],\"scatterternary\":[{\"type\":\"scatterternary\",\"marker\":{\"colorbar\":{\"outlinewidth\":0,\"ticks\":\"\"}}}],\"scattercarpet\":[{\"type\":\"scattercarpet\",\"marker\":{\"colorbar\":{\"outlinewidth\":0,\"ticks\":\"\"}}}],\"carpet\":[{\"aaxis\":{\"endlinecolor\":\"#2a3f5f\",\"gridcolor\":\"white\",\"linecolor\":\"white\",\"minorgridcolor\":\"white\",\"startlinecolor\":\"#2a3f5f\"},\"baxis\":{\"endlinecolor\":\"#2a3f5f\",\"gridcolor\":\"white\",\"linecolor\":\"white\",\"minorgridcolor\":\"white\",\"startlinecolor\":\"#2a3f5f\"},\"type\":\"carpet\"}],\"table\":[{\"cells\":{\"fill\":{\"color\":\"#EBF0F8\"},\"line\":{\"color\":\"white\"}},\"header\":{\"fill\":{\"color\":\"#C8D4E3\"},\"line\":{\"color\":\"white\"}},\"type\":\"table\"}],\"barpolar\":[{\"marker\":{\"line\":{\"color\":\"#E5ECF6\",\"width\":0.5},\"pattern\":{\"fillmode\":\"overlay\",\"size\":10,\"solidity\":0.2}},\"type\":\"barpolar\"}],\"pie\":[{\"automargin\":true,\"type\":\"pie\"}]},\"layout\":{\"autotypenumbers\":\"strict\",\"colorway\":[\"#636efa\",\"#EF553B\",\"#00cc96\",\"#ab63fa\",\"#FFA15A\",\"#19d3f3\",\"#FF6692\",\"#B6E880\",\"#FF97FF\",\"#FECB52\"],\"font\":{\"color\":\"#2a3f5f\"},\"hovermode\":\"closest\",\"hoverlabel\":{\"align\":\"left\"},\"paper_bgcolor\":\"white\",\"plot_bgcolor\":\"#E5ECF6\",\"polar\":{\"bgcolor\":\"#E5ECF6\",\"angularaxis\":{\"gridcolor\":\"white\",\"linecolor\":\"white\",\"ticks\":\"\"},\"radialaxis\":{\"gridcolor\":\"white\",\"linecolor\":\"white\",\"ticks\":\"\"}},\"ternary\":{\"bgcolor\":\"#E5ECF6\",\"aaxis\":{\"gridcolor\":\"white\",\"linecolor\":\"white\",\"ticks\":\"\"},\"baxis\":{\"gridcolor\":\"white\",\"linecolor\":\"white\",\"ticks\":\"\"},\"caxis\":{\"gridcolor\":\"white\",\"linecolor\":\"white\",\"ticks\":\"\"}},\"coloraxis\":{\"colorbar\":{\"outlinewidth\":0,\"ticks\":\"\"}},\"colorscale\":{\"sequential\":[[0.0,\"#0d0887\"],[0.1111111111111111,\"#46039f\"],[0.2222222222222222,\"#7201a8\"],[0.3333333333333333,\"#9c179e\"],[0.4444444444444444,\"#bd3786\"],[0.5555555555555556,\"#d8576b\"],[0.6666666666666666,\"#ed7953\"],[0.7777777777777778,\"#fb9f3a\"],[0.8888888888888888,\"#fdca26\"],[1.0,\"#f0f921\"]],\"sequentialminus\":[[0.0,\"#0d0887\"],[0.1111111111111111,\"#46039f\"],[0.2222222222222222,\"#7201a8\"],[0.3333333333333333,\"#9c179e\"],[0.4444444444444444,\"#bd3786\"],[0.5555555555555556,\"#d8576b\"],[0.6666666666666666,\"#ed7953\"],[0.7777777777777778,\"#fb9f3a\"],[0.8888888888888888,\"#fdca26\"],[1.0,\"#f0f921\"]],\"diverging\":[[0,\"#8e0152\"],[0.1,\"#c51b7d\"],[0.2,\"#de77ae\"],[0.3,\"#f1b6da\"],[0.4,\"#fde0ef\"],[0.5,\"#f7f7f7\"],[0.6,\"#e6f5d0\"],[0.7,\"#b8e186\"],[0.8,\"#7fbc41\"],[0.9,\"#4d9221\"],[1,\"#276419\"]]},\"xaxis\":{\"gridcolor\":\"white\",\"linecolor\":\"white\",\"ticks\":\"\",\"title\":{\"standoff\":15},\"zerolinecolor\":\"white\",\"automargin\":true,\"zerolinewidth\":2},\"yaxis\":{\"gridcolor\":\"white\",\"linecolor\":\"white\",\"ticks\":\"\",\"title\":{\"standoff\":15},\"zerolinecolor\":\"white\",\"automargin\":true,\"zerolinewidth\":2},\"scene\":{\"xaxis\":{\"backgroundcolor\":\"#E5ECF6\",\"gridcolor\":\"white\",\"linecolor\":\"white\",\"showbackground\":true,\"ticks\":\"\",\"zerolinecolor\":\"white\",\"gridwidth\":2},\"yaxis\":{\"backgroundcolor\":\"#E5ECF6\",\"gridcolor\":\"white\",\"linecolor\":\"white\",\"showbackground\":true,\"ticks\":\"\",\"zerolinecolor\":\"white\",\"gridwidth\":2},\"zaxis\":{\"backgroundcolor\":\"#E5ECF6\",\"gridcolor\":\"white\",\"linecolor\":\"white\",\"showbackground\":true,\"ticks\":\"\",\"zerolinecolor\":\"white\",\"gridwidth\":2}},\"shapedefaults\":{\"line\":{\"color\":\"#2a3f5f\"}},\"annotationdefaults\":{\"arrowcolor\":\"#2a3f5f\",\"arrowhead\":0,\"arrowwidth\":1},\"geo\":{\"bgcolor\":\"white\",\"landcolor\":\"#E5ECF6\",\"subunitcolor\":\"white\",\"showland\":true,\"showlakes\":true,\"lakecolor\":\"white\"},\"title\":{\"x\":0.05},\"mapbox\":{\"style\":\"light\"}}},\"xaxis\":{\"anchor\":\"y\",\"domain\":[0.0,1.0],\"title\":{\"text\":\"Total\"}},\"yaxis\":{\"anchor\":\"x\",\"domain\":[0.0,1.0],\"title\":{\"text\":\"Sexo\"}},\"legend\":{\"tracegroupgap\":0},\"title\":{\"text\":\"Total de Muertes por Sexo\"},\"barmode\":\"relative\"},                        {\"responsive\": true}                    ).then(function(){\n",
       "                            \n",
       "var gd = document.getElementById('5cab2221-df10-459f-b099-479db269dede');\n",
       "var x = new MutationObserver(function (mutations, observer) {{\n",
       "        var display = window.getComputedStyle(gd).display;\n",
       "        if (!display || display === 'none') {{\n",
       "            console.log([gd, 'removed!']);\n",
       "            Plotly.purge(gd);\n",
       "            observer.disconnect();\n",
       "        }}\n",
       "}});\n",
       "\n",
       "// Listen for the removal of the full notebook cells\n",
       "var notebookContainer = gd.closest('#notebook-container');\n",
       "if (notebookContainer) {{\n",
       "    x.observe(notebookContainer, {childList: true});\n",
       "}}\n",
       "\n",
       "// Listen for the clearing of the current output cell\n",
       "var outputEl = gd.closest('.output');\n",
       "if (outputEl) {{\n",
       "    x.observe(outputEl, {childList: true});\n",
       "}}\n",
       "\n",
       "                        })                };                });            </script>        </div>"
      ]
     },
     "metadata": {},
     "output_type": "display_data"
    }
   ],
   "source": [
    "fig5 = px.bar(deaths_sex, x='Total', y='Sexo', orientation='h', title='Total de Muertes por Sexo')\n",
    "fig5.show()"
   ]
  },
  {
   "cell_type": "code",
   "execution_count": 36,
   "metadata": {},
   "outputs": [
    {
     "data": {
      "application/vnd.plotly.v1+json": {
       "config": {
        "plotlyServerURL": "https://plot.ly"
       },
       "data": [
        {
         "alignmentgroup": "True",
         "hovertemplate": "Sexo=Hombres<br>Edad=%{x}<br>Total=%{y}<extra></extra>",
         "legendgroup": "Hombres",
         "marker": {
          "color": "#636efa",
          "pattern": {
           "shape": ""
          }
         },
         "name": "Hombres",
         "offsetgroup": "Hombres",
         "orientation": "v",
         "showlegend": true,
         "textposition": "auto",
         "type": "bar",
         "x": [
          "De 50 a 54 años",
          "De 50 a 54 años",
          "De 45 a 49 años",
          "De 45 a 49 años",
          "De 50 a 54 años",
          "De 45 a 49 años",
          "De 40 a 44 años",
          "De 45 a 49 años",
          "De 50 a 54 años",
          "De 40 a 44 años",
          "De 30 a 34 años",
          "De 50 a 54 años",
          "De 50 a 54 años",
          "De 45 a 49 años",
          "De 55 a 59 años",
          "De 40 a 44 años",
          "De 40 a 44 años",
          "De 45 a 49 años",
          "De 40 a 44 años",
          "De 45 a 49 años",
          "De 45 a 49 años",
          "De 40 a 44 años",
          "De 40 a 44 años",
          "De 40 a 44 años",
          "De 55 a 59 años",
          "De 55 a 59 años",
          "De 40 a 44 años",
          "De 50 a 54 años",
          "De 40 a 44 años",
          "De 35 a 39 años",
          "De 40 a 44 años",
          "De 50 a 54 años",
          "De 35 a 39 años",
          "De 55 a 59 años",
          "De 40 a 44 años",
          "De 25 a 29 años",
          "De 45 a 49 años",
          "De 45 a 49 años",
          "De 55 a 59 años",
          "De 40 a 44 años",
          "De 55 a 59 años",
          "De 50 a 54 años",
          "De 25 a 29 años",
          "De 35 a 39 años",
          "De 40 a 44 años",
          "De 35 a 39 años",
          "De 45 a 49 años",
          "De 35 a 39 años",
          "De 35 a 39 años",
          "De 55 a 59 años",
          "De 35 a 39 años",
          "De 25 a 29 años",
          "De 35 a 39 años",
          "De 50 a 54 años",
          "De 35 a 39 años",
          "De 70 a 74 años  ",
          "De 30 a 34 años",
          "De 35 a 39 años",
          "De 30 a 34 años",
          "De 35 a 39 años",
          "De 30 a 34 años",
          "De 75 a 79 años  ",
          "De 40 a 44 años",
          "De 45 a 49 años",
          "De 25 a 29 años",
          "De 30 a 34 años",
          "De 45 a 49 años",
          "De 50 a 54 años",
          "De 75 a 79 años  ",
          "De 75 a 79 años  ",
          "De 75 a 79 años  ",
          "De 55 a 59 años",
          "De 75 a 79 años  ",
          "De 35 a 39 años",
          "De 70 a 74 años  ",
          "De 35 a 39 años",
          "De 35 a 39 años",
          "De 30 a 34 años",
          "De 35 a 39 años",
          "De 75 a 79 años  ",
          "De 35 a 39 años",
          "De 30 a 34 años",
          "De 25 a 29 años",
          "De 30 a 34 años",
          "De 45 a 49 años",
          "De 75 a 79 años  ",
          "De 35 a 39 años",
          "De 70 a 74 años  ",
          "De 60 a 64 años",
          "De 80 a 84 años  ",
          "De 70 a 74 años  ",
          "De 65 a 69 años",
          "De 70 a 74 años  ",
          "De 70 a 74 años  ",
          "De 80 a 84 años  ",
          "De 80 a 84 años  ",
          "De 20 a 24 años",
          "De 35 a 39 años",
          "De 30 a 34 años",
          "De 30 a 34 años",
          "De 80 a 84 años  ",
          "De 65 a 69 años",
          "De 25 a 29 años",
          "De 70 a 74 años  ",
          "De 75 a 79 años  ",
          "De 35 a 39 años",
          "De 50 a 54 años",
          "De 65 a 69 años",
          "De 55 a 59 años",
          "De 30 a 34 años",
          "De 55 a 59 años",
          "De 65 a 69 años",
          "De 25 a 29 años",
          "De 30 a 34 años",
          "De 55 a 59 años",
          "De 30 a 34 años",
          "De 40 a 44 años",
          "De 65 a 69 años",
          "De 70 a 74 años  ",
          "De 75 a 79 años  ",
          "De 20 a 24 años",
          "De 55 a 59 años",
          "De 60 a 64 años",
          "De 75 a 79 años  ",
          "De 25 a 29 años",
          "De 70 a 74 años  ",
          "De 50 a 54 años",
          "De 75 a 79 años  ",
          "De 60 a 64 años",
          "De 25 a 29 años",
          "De 40 a 44 años",
          "De 40 a 44 años",
          "De 35 a 39 años",
          "De 75 a 79 años  ",
          "De 60 a 64 años",
          "De 60 a 64 años",
          "De 70 a 74 años  ",
          "De 75 a 79 años  ",
          "De 60 a 64 años",
          "De 65 a 69 años",
          "De 60 a 64 años",
          "De 65 a 69 años",
          "De 55 a 59 años",
          "De 50 a 54 años",
          "De 20 a 24 años",
          "De 20 a 24 años",
          "De 30 a 34 años",
          "De 75 a 79 años  ",
          "De 75 a 79 años  ",
          "De 60 a 64 años",
          "De 65 a 69 años",
          "De 25 a 29 años",
          "De 70 a 74 años  ",
          "De 60 a 64 años",
          "De 50 a 54 años",
          "De 45 a 49 años",
          "De 25 a 29 años",
          "De 60 a 64 años",
          "De 80 a 84 años  ",
          "De 70 a 74 años  ",
          "De 45 a 49 años",
          "De 20 a 24 años",
          "De 25 a 29 años",
          "De 25 a 29 años",
          "De 60 a 64 años",
          "De 20 a 24 años",
          "De 65 a 69 años",
          "De 60 a 64 años",
          "De 70 a 74 años  ",
          "De 50 a 54 años",
          "De 55 a 59 años",
          "De 80 a 84 años  ",
          "De 60 a 64 años",
          "De 55 a 59 años",
          "De 35 a 39 años",
          "De 35 a 39 años",
          "De 75 a 79 años  ",
          "De 65 a 69 años",
          "De 55 a 59 años",
          "De 65 a 69 años",
          "De 65 a 69 años",
          "De 80 a 84 años  ",
          "De 55 a 59 años",
          "De 60 a 64 años",
          "De 70 a 74 años  ",
          "De 80 a 84 años  ",
          "De 25 a 29 años",
          "De 25 a 29 años",
          "De 30 a 34 años",
          "De 30 a 34 años",
          "De 80 a 84 años  ",
          "De 60 a 64 años",
          "De 75 a 79 años  ",
          "De 75 a 79 años  ",
          "De 75 a 79 años  ",
          "De 75 a 79 años  ",
          "De 45 a 49 años",
          "De 25 a 29 años",
          "De 20 a 24 años",
          "De 60 a 64 años",
          "De 60 a 64 años",
          "De 30 a 34 años",
          "De 40 a 44 años",
          "De 35 a 39 años",
          "De 30 a 34 años",
          "De 30 a 34 años",
          "De 65 a 69 años",
          "De 60 a 64 años",
          "De 65 a 69 años",
          "De 55 a 59 años",
          "De 20 a 24 años",
          "De 70 a 74 años  ",
          "De 55 a 59 años",
          "De 60 a 64 años",
          "De 60 a 64 años",
          "De 75 a 79 años  ",
          "De 55 a 59 años",
          "De 45 a 49 años",
          "De 80 a 84 años  ",
          "De 30 a 34 años",
          "De 65 a 69 años",
          "De 50 a 54 años",
          "De 70 a 74 años  ",
          "De 55 a 59 años",
          "De 55 a 59 años",
          "De 60 a 64 años",
          "De 25 a 29 años",
          "De 70 a 74 años  ",
          "De 25 a 29 años",
          "De 60 a 64 años",
          "De 50 a 54 años",
          "De 80 a 84 años  ",
          "De 65 a 69 años",
          "De 55 a 59 años",
          "De 45 a 49 años",
          "De 50 a 54 años",
          "De 40 a 44 años",
          "De 35 a 39 años",
          "De 60 a 64 años",
          "De 50 a 54 años",
          "De 80 a 84 años  ",
          "De 60 a 64 años",
          "De 50 a 54 años",
          "De 65 a 69 años",
          "De 35 a 39 años",
          "De 70 a 74 años  ",
          "De 65 a 69 años",
          "De 65 a 69 años",
          "De 30 a 34 años",
          "De 30 a 34 años",
          "De 75 a 79 años  ",
          "De 55 a 59 años",
          "De 80 a 84 años  ",
          "De 50 a 54 años",
          "De 25 a 29 años",
          "De 45 a 49 años",
          "De 65 a 69 años",
          "De 45 a 49 años",
          "De 55 a 59 años",
          "De 55 a 59 años",
          "De 60 a 64 años",
          "De 70 a 74 años  ",
          "De 55 a 59 años",
          "De 75 a 79 años  ",
          "De 55 a 59 años",
          "De 65 a 69 años",
          "De 65 a 69 años",
          "De 40 a 44 años",
          "De 75 a 79 años  ",
          "De 60 a 64 años",
          "De 65 a 69 años",
          "De 25 a 29 años",
          "De 45 a 49 años",
          "De 70 a 74 años  ",
          "De 50 a 54 años",
          "De 65 a 69 años",
          "De 30 a 34 años",
          "De 50 a 54 años",
          "De 70 a 74 años  ",
          "De 20 a 24 años",
          "De 20 a 24 años",
          "De 20 a 24 años",
          "De 80 a 84 años  ",
          "De 70 a 74 años  ",
          "De 50 a 54 años",
          "De 50 a 54 años",
          "De 50 a 54 años",
          "De 80 a 84 años  ",
          "De 45 a 49 años",
          "De 20 a 24 años",
          "De 55 a 59 años",
          "De 55 a 59 años",
          "De 40 a 44 años",
          "De 80 a 84 años  ",
          "De 65 a 69 años",
          "De 25 a 29 años",
          "De 75 a 79 años  ",
          "De 70 a 74 años  ",
          "De 75 a 79 años  ",
          "De 70 a 74 años  ",
          "De 50 a 54 años",
          "De 30 a 34 años",
          "De 60 a 64 años",
          "De 70 a 74 años  ",
          "De 65 a 69 años",
          "De 70 a 74 años  ",
          "De 20 a 24 años",
          "De 75 a 79 años  ",
          "De 60 a 64 años",
          "De 50 a 54 años",
          "De 80 a 84 años  ",
          "De 75 a 79 años  ",
          "De 85 a 89 años  ",
          "De 40 a 44 años",
          "De 50 a 54 años",
          "De 50 a 54 años",
          "De 45 a 49 años",
          "De 20 a 24 años",
          "De 25 a 29 años",
          "De 20 a 24 años",
          "De 75 a 79 años  ",
          "De 55 a 59 años",
          "De 45 a 49 años",
          "De 60 a 64 años",
          "De 80 a 84 años  ",
          "De 25 a 29 años",
          "De 70 a 74 años  ",
          "De 45 a 49 años",
          "De 55 a 59 años",
          "De 65 a 69 años",
          "De 40 a 44 años",
          "De 80 a 84 años  ",
          "De 65 a 69 años",
          "De 70 a 74 años  ",
          "De 50 a 54 años",
          "De 55 a 59 años",
          "De 60 a 64 años",
          "De 65 a 69 años",
          "De 70 a 74 años  ",
          "De 60 a 64 años",
          "De 60 a 64 años",
          "De 60 a 64 años",
          "De 75 a 79 años  ",
          "De 20 a 24 años",
          "De 45 a 49 años",
          "De 70 a 74 años  ",
          "De 30 a 34 años",
          "De 20 a 24 años",
          "De 30 a 34 años",
          "De 70 a 74 años  ",
          "De 70 a 74 años  ",
          "De 85 a 89 años  ",
          "De 45 a 49 años",
          "De 30 a 34 años",
          "De 25 a 29 años",
          "De 80 a 84 años  ",
          "De 60 a 64 años",
          "De 60 a 64 años",
          "De 80 a 84 años  ",
          "De 75 a 79 años  ",
          "De 70 a 74 años  ",
          "De 80 a 84 años  ",
          "De 30 a 34 años",
          "De 40 a 44 años",
          "De 20 a 24 años",
          "De 80 a 84 años  ",
          "De 65 a 69 años",
          "De 65 a 69 años",
          "De 70 a 74 años  ",
          "De 40 a 44 años",
          "De 70 a 74 años  ",
          "De 20 a 24 años",
          "De 75 a 79 años  ",
          "De 65 a 69 años",
          "De 55 a 59 años",
          "De 80 a 84 años  ",
          "De 50 a 54 años",
          "De 35 a 39 años",
          "De 85 a 89 años  ",
          "De 65 a 69 años",
          "De 75 a 79 años  ",
          "De 45 a 49 años",
          "De 35 a 39 años",
          "De 30 a 34 años",
          "De 55 a 59 años",
          "De 45 a 49 años",
          "De 75 a 79 años  ",
          "De 60 a 64 años",
          "De 75 a 79 años  ",
          "De 30 a 34 años",
          "De 50 a 54 años",
          "De 85 a 89 años  ",
          "De 55 a 59 años",
          "De 40 a 44 años",
          "De 50 a 54 años",
          "De 50 a 54 años",
          "De 55 a 59 años",
          "De 75 a 79 años  ",
          "De 80 a 84 años  ",
          "De 80 a 84 años  ",
          "De 30 a 34 años",
          "De 60 a 64 años",
          "De 45 a 49 años",
          "De 55 a 59 años",
          "De 35 a 39 años",
          "De 80 a 84 años  ",
          "De 40 a 44 años",
          "De 25 a 29 años",
          "De 25 a 29 años",
          "De 30 a 34 años",
          "De 20 a 24 años",
          "De 80 a 84 años  ",
          "De 85 a 89 años  ",
          "De 45 a 49 años",
          "De 70 a 74 años  ",
          "De 80 a 84 años  ",
          "De 35 a 39 años",
          "De 45 a 49 años",
          "De 30 a 34 años",
          "De 50 a 54 años",
          "De 25 a 29 años",
          "De 35 a 39 años",
          "De 20 a 24 años",
          "De 80 a 84 años  ",
          "De 80 a 84 años  ",
          "De 45 a 49 años",
          "De 20 a 24 años",
          "De 45 a 49 años",
          "De 35 a 39 años",
          "De 20 a 24 años",
          "De 50 a 54 años",
          "De 55 a 59 años",
          "De 65 a 69 años",
          "De 80 a 84 años  ",
          "De 40 a 44 años",
          "De 50 a 54 años",
          "De 80 a 84 años  ",
          "De 20 a 24 años",
          "De 85 a 89 años  ",
          "De 70 a 74 años  ",
          "De 40 a 44 años",
          "De 40 a 44 años",
          "De 25 a 29 años",
          "De 85 a 89 años  ",
          "De 65 a 69 años",
          "De 25 a 29 años",
          "De 85 a 89 años  ",
          "De 20 a 24 años",
          "De 35 a 39 años",
          "De 40 a 44 años",
          "De 20 a 24 años",
          "De 85 a 89 años  ",
          "De 85 a 89 años  ",
          "De 65 a 69 años",
          "De 25 a 29 años",
          "De 45 a 49 años",
          "De 85 a 89 años  ",
          "De 25 a 29 años",
          "De 70 a 74 años  ",
          "De 35 a 39 años",
          "De 40 a 44 años",
          "De 85 a 89 años  ",
          "De 60 a 64 años",
          "De 65 a 69 años",
          "De 40 a 44 años",
          "De 35 a 39 años",
          "De 85 a 89 años  ",
          "De 75 a 79 años  ",
          "De 45 a 49 años",
          "De 15 a 19 años  ",
          "De 45 a 49 años",
          "De 45 a 49 años",
          "De 40 a 44 años",
          "De 15 a 19 años  ",
          "De 20 a 24 años",
          "De 80 a 84 años  ",
          "De 20 a 24 años",
          "De 25 a 29 años",
          "De 85 a 89 años  ",
          "De 25 a 29 años",
          "De 85 a 89 años  ",
          "De 25 a 29 años",
          "De 30 a 34 años",
          "De 20 a 24 años",
          "De 25 a 29 años",
          "De 20 a 24 años",
          "De 85 a 89 años  ",
          "De 60 a 64 años",
          "De 35 a 39 años",
          "De 20 a 24 años",
          "De 85 a 89 años  ",
          "De 30 a 34 años",
          "De 85 a 89 años  ",
          "De 75 a 79 años  ",
          "De 85 a 89 años  ",
          "De 80 a 84 años  ",
          "De 35 a 39 años",
          "De 30 a 34 años",
          "De 85 a 89 años  ",
          "De 85 a 89 años  ",
          "De 85 a 89 años  ",
          "De 70 a 74 años  ",
          "De 80 a 84 años  ",
          "De 85 a 89 años  ",
          "De 20 a 24 años",
          "De 20 a 24 años",
          "De 85 a 89 años  ",
          "De 25 a 29 años",
          "De 15 a 19 años  ",
          "De 15 a 19 años  ",
          "De 30 a 34 años",
          "De 40 a 44 años",
          "De 15 a 19 años  ",
          "De 15 a 19 años  ",
          "De 15 a 19 años  ",
          "De 15 a 19 años  ",
          "De 85 a 89 años  ",
          "De 25 a 29 años",
          "De 15 a 19 años  ",
          "De 35 a 39 años",
          "De 20 a 24 años",
          "De 15 a 19 años  ",
          "De 40 a 44 años",
          "De 30 a 34 años",
          "De 75 a 79 años  ",
          "De 35 a 39 años",
          "De 25 a 29 años",
          "De 65 a 69 años",
          "De 25 a 29 años",
          "De 85 a 89 años  ",
          "De 15 a 19 años  ",
          "De 15 a 19 años  ",
          "De 65 a 69 años",
          "De 15 a 19 años  ",
          "De 20 a 24 años",
          "De 15 a 19 años  ",
          "De 20 a 24 años",
          "De 20 a 24 años",
          "De 15 a 19 años  ",
          "De 85 a 89 años  ",
          "De 40 a 44 años",
          "De 35 a 39 años",
          "De 20 a 24 años",
          "De 30 a 34 años",
          "De 85 a 89 años  ",
          "De 40 a 44 años",
          "De 15 a 19 años  ",
          "De 85 a 89 años  ",
          "De 80 a 84 años  ",
          "De 20 a 24 años",
          "De 90 a 94 años  ",
          "De 15 a 19 años  ",
          "De 90 a 94 años  ",
          "De 90 a 94 años  ",
          "De 15 a 19 años  ",
          "De 85 a 89 años  ",
          "De 80 a 84 años  ",
          "De 15 a 19 años  ",
          "De 15 a 19 años  ",
          "De 15 a 19 años  ",
          "De 15 a 19 años  ",
          "De 85 a 89 años  ",
          "De 90 a 94 años  ",
          "De 80 a 84 años  ",
          "De 90 a 94 años  ",
          "De 85 a 89 años  ",
          "De 15 a 19 años  ",
          "De 15 a 19 años  ",
          "De 85 a 89 años  ",
          "De 90 a 94 años  ",
          "De 90 a 94 años  ",
          "De 15 a 19 años  ",
          "De 85 a 89 años  ",
          "De 15 a 19 años  ",
          "De 90 a 94 años  ",
          "De 15 a 19 años  ",
          "De 15 a 19 años  ",
          "De 90 a 94 años  ",
          "De 15 a 19 años  ",
          "De 15 a 19 años  ",
          "De 15 a 19 años  ",
          "De 15 a 19 años  ",
          "De 15 a 19 años  ",
          "De 90 a 94 años  ",
          "De 90 a 94 años  ",
          "De 15 a 19 años  ",
          "De 90 a 94 años  ",
          "De 90 a 94 años  ",
          "De 90 a 94 años  ",
          "De 15 a 19 años  ",
          "De 90 a 94 años  ",
          "De 15 a 19 años  ",
          "De 90 a 94 años  ",
          "De 90 a 94 años  ",
          "De 90 a 94 años  ",
          "De 90 a 94 años  ",
          "De 15 a 19 años  ",
          "De 90 a 94 años  ",
          "De 85 a 89 años  ",
          "De 85 a 89 años  ",
          "De 85 a 89 años  ",
          "De 90 a 94 años  ",
          "De 90 a 94 años  ",
          "De 90 a 94 años  ",
          "De 90 a 94 años  ",
          "De 90 a 94 años  ",
          "De 15 a 19 años  ",
          "De 15 a 19 años  ",
          "De 90 a 94 años  ",
          "De 85 a 89 años  ",
          "De 10 a 14 años  ",
          "De 10 a 14 años  ",
          "De 90 a 94 años  ",
          "De 10 a 14 años  ",
          "De 10 a 14 años  ",
          "De 90 a 94 años  ",
          "De 10 a 14 años  ",
          "De 85 a 89 años  ",
          "De 10 a 14 años  ",
          "De 10 a 14 años  ",
          "De 10 a 14 años  ",
          "De 10 a 14 años  ",
          "De 90 a 94 años  ",
          "De 90 a 94 años  ",
          "De 90 a 94 años  ",
          "De 90 a 94 años  ",
          "95 y más años",
          "95 y más años",
          "95 y más años",
          "De 10 a 14 años  ",
          "95 y más años",
          "De 10 a 14 años  ",
          "De 10 a 14 años  ",
          "De 10 a 14 años  ",
          "95 y más años",
          "De 90 a 94 años  ",
          "De 90 a 94 años  ",
          "De 10 a 14 años  ",
          "95 y más años",
          "95 y más años",
          "95 y más años",
          "De 90 a 94 años  ",
          "95 y más años",
          "De 10 a 14 años  ",
          "De 10 a 14 años  ",
          "95 y más años",
          "De 90 a 94 años  ",
          "De 90 a 94 años  ",
          "De 10 a 14 años  ",
          "De 10 a 14 años  ",
          "95 y más años",
          "95 y más años",
          "De 90 a 94 años  ",
          "De 10 a 14 años  ",
          "De 10 a 14 años  ",
          "De 10 a 14 años  ",
          "De 10 a 14 años  ",
          "95 y más años",
          "95 y más años",
          "De 10 a 14 años  ",
          "95 y más años",
          "De 10 a 14 años  ",
          "De 90 a 94 años  ",
          "De 10 a 14 años  ",
          "De 10 a 14 años  ",
          "De 10 a 14 años  ",
          "95 y más años",
          "95 y más años",
          "95 y más años",
          "95 y más años",
          "De 10 a 14 años  ",
          "95 y más años",
          "95 y más años",
          "De 10 a 14 años  ",
          "De 10 a 14 años  ",
          "De 10 a 14 años  ",
          "De 10 a 14 años  ",
          "95 y más años",
          "95 y más años",
          "95 y más años",
          "De 10 a 14 años  ",
          "95 y más años",
          "95 y más años",
          "95 y más años",
          "95 y más años",
          "95 y más años",
          "95 y más años",
          "De 10 a 14 años  ",
          "De 10 a 14 años  ",
          "95 y más años",
          "De 10 a 14 años  ",
          "De 10 a 14 años  ",
          "De 10 a 14 años  ",
          "95 y más años",
          "95 y más años",
          "95 y más años",
          "De 5 a 9 años",
          "95 y más años",
          "De 5 a 9 años",
          "De 5 a 9 años",
          "De 5 a 9 años",
          "95 y más años",
          "De 5 a 9 años",
          "De 5 a 9 años",
          "De 5 a 9 años",
          "De 5 a 9 años",
          "De 10 a 14 años  ",
          "95 y más años"
         ],
         "xaxis": "x",
         "y": [
          344,
          340,
          337,
          319,
          305,
          298,
          293,
          291,
          288,
          285,
          282,
          280,
          279,
          276,
          275,
          275,
          274,
          269,
          268,
          266,
          264,
          262,
          262,
          259,
          254,
          251,
          249,
          247,
          246,
          246,
          244,
          243,
          243,
          242,
          242,
          241,
          239,
          238,
          237,
          236,
          236,
          234,
          234,
          230,
          230,
          229,
          229,
          228,
          228,
          228,
          226,
          225,
          225,
          225,
          224,
          223,
          223,
          221,
          221,
          221,
          221,
          221,
          219,
          219,
          219,
          218,
          217,
          216,
          216,
          215,
          214,
          214,
          213,
          213,
          212,
          211,
          210,
          210,
          210,
          209,
          209,
          209,
          209,
          209,
          208,
          207,
          206,
          206,
          205,
          205,
          205,
          205,
          205,
          204,
          204,
          203,
          203,
          203,
          202,
          202,
          201,
          201,
          200,
          200,
          200,
          200,
          199,
          199,
          199,
          199,
          199,
          198,
          198,
          198,
          198,
          197,
          197,
          197,
          197,
          197,
          197,
          196,
          196,
          196,
          196,
          195,
          195,
          194,
          194,
          193,
          193,
          193,
          192,
          192,
          192,
          191,
          191,
          191,
          190,
          189,
          189,
          188,
          188,
          188,
          187,
          187,
          187,
          187,
          187,
          187,
          187,
          186,
          186,
          186,
          185,
          185,
          185,
          185,
          184,
          184,
          184,
          183,
          183,
          183,
          183,
          183,
          183,
          182,
          182,
          182,
          182,
          181,
          181,
          181,
          181,
          181,
          181,
          180,
          180,
          180,
          180,
          180,
          179,
          179,
          179,
          179,
          179,
          179,
          179,
          179,
          179,
          179,
          178,
          178,
          177,
          177,
          177,
          177,
          176,
          176,
          176,
          176,
          176,
          176,
          175,
          175,
          175,
          175,
          175,
          175,
          175,
          174,
          174,
          174,
          174,
          173,
          173,
          173,
          172,
          172,
          172,
          172,
          172,
          171,
          171,
          171,
          170,
          170,
          170,
          170,
          170,
          170,
          170,
          170,
          169,
          169,
          169,
          168,
          168,
          168,
          167,
          167,
          167,
          167,
          167,
          166,
          166,
          166,
          166,
          165,
          165,
          165,
          165,
          165,
          165,
          164,
          164,
          164,
          164,
          164,
          163,
          163,
          163,
          163,
          162,
          162,
          162,
          162,
          161,
          161,
          161,
          161,
          161,
          160,
          160,
          159,
          159,
          159,
          159,
          158,
          158,
          158,
          158,
          158,
          158,
          158,
          158,
          157,
          157,
          157,
          157,
          157,
          157,
          156,
          156,
          156,
          156,
          155,
          155,
          155,
          155,
          155,
          155,
          155,
          154,
          154,
          154,
          154,
          153,
          152,
          152,
          152,
          152,
          152,
          152,
          151,
          151,
          150,
          150,
          150,
          149,
          149,
          149,
          149,
          149,
          149,
          148,
          148,
          148,
          147,
          147,
          147,
          147,
          147,
          146,
          146,
          146,
          145,
          145,
          145,
          145,
          145,
          145,
          145,
          145,
          144,
          144,
          144,
          143,
          143,
          143,
          143,
          143,
          143,
          142,
          142,
          142,
          142,
          141,
          141,
          141,
          140,
          140,
          140,
          140,
          140,
          139,
          139,
          139,
          139,
          138,
          138,
          137,
          137,
          137,
          136,
          136,
          136,
          134,
          133,
          133,
          133,
          133,
          133,
          132,
          132,
          132,
          132,
          132,
          132,
          131,
          131,
          131,
          130,
          130,
          129,
          129,
          129,
          129,
          129,
          128,
          128,
          127,
          127,
          127,
          126,
          125,
          125,
          125,
          123,
          123,
          122,
          122,
          122,
          121,
          121,
          120,
          120,
          120,
          120,
          119,
          119,
          119,
          118,
          117,
          117,
          116,
          116,
          116,
          116,
          116,
          115,
          114,
          114,
          114,
          113,
          112,
          112,
          111,
          111,
          110,
          110,
          110,
          110,
          110,
          109,
          109,
          108,
          108,
          108,
          108,
          106,
          106,
          106,
          105,
          105,
          104,
          103,
          103,
          103,
          103,
          103,
          103,
          103,
          102,
          102,
          102,
          102,
          101,
          101,
          101,
          101,
          100,
          100,
          98,
          98,
          98,
          97,
          96,
          96,
          96,
          94,
          94,
          93,
          93,
          92,
          92,
          92,
          92,
          91,
          91,
          91,
          88,
          87,
          86,
          86,
          86,
          85,
          85,
          85,
          85,
          85,
          84,
          84,
          84,
          84,
          83,
          83,
          82,
          82,
          82,
          82,
          81,
          81,
          81,
          80,
          79,
          78,
          78,
          78,
          77,
          77,
          77,
          76,
          76,
          76,
          75,
          75,
          74,
          74,
          71,
          71,
          71,
          71,
          70,
          70,
          68,
          68,
          68,
          67,
          67,
          66,
          66,
          65,
          64,
          63,
          62,
          62,
          62,
          60,
          60,
          60,
          56,
          56,
          56,
          55,
          54,
          52,
          52,
          51,
          51,
          51,
          50,
          50,
          50,
          48,
          47,
          46,
          45,
          43,
          43,
          41,
          41,
          41,
          40,
          40,
          39,
          38,
          38,
          37,
          37,
          37,
          36,
          35,
          35,
          35,
          34,
          34,
          34,
          33,
          33,
          33,
          33,
          32,
          31,
          31,
          30,
          30,
          30,
          29,
          29,
          28,
          27,
          27,
          24,
          22,
          22,
          22,
          22,
          20,
          20,
          19,
          19,
          19,
          19,
          18,
          18,
          18,
          17,
          15,
          15,
          14,
          13,
          13,
          12,
          12,
          12,
          12,
          12,
          11,
          11,
          11,
          11,
          10,
          10,
          10,
          10,
          9,
          9,
          9,
          9,
          9,
          8,
          8,
          8,
          8,
          8,
          7,
          7,
          7,
          7,
          7,
          7,
          7,
          7,
          7,
          7,
          7,
          6,
          6,
          6,
          6,
          6,
          6,
          6,
          6,
          5,
          5,
          5,
          5,
          5,
          5,
          5,
          4,
          4,
          4,
          4,
          4,
          4,
          4,
          4,
          3,
          3,
          3,
          3,
          3,
          3,
          3,
          2,
          2,
          2,
          2,
          2,
          2,
          2,
          2,
          2,
          1,
          1,
          1,
          1,
          1,
          1,
          1,
          1,
          1,
          1,
          1
         ],
         "yaxis": "y"
        },
        {
         "alignmentgroup": "True",
         "hovertemplate": "Sexo=Mujeres<br>Edad=%{x}<br>Total=%{y}<extra></extra>",
         "legendgroup": "Mujeres",
         "marker": {
          "color": "#EF553B",
          "pattern": {
           "shape": ""
          }
         },
         "name": "Mujeres",
         "offsetgroup": "Mujeres",
         "orientation": "v",
         "showlegend": true,
         "textposition": "auto",
         "type": "bar",
         "x": [
          "De 45 a 49 años",
          "De 50 a 54 años",
          "De 45 a 49 años",
          "De 50 a 54 años",
          "De 55 a 59 años",
          "De 55 a 59 años",
          "De 40 a 44 años",
          "De 50 a 54 años",
          "De 40 a 44 años",
          "De 45 a 49 años",
          "De 65 a 69 años",
          "De 65 a 69 años",
          "De 40 a 44 años",
          "De 50 a 54 años",
          "De 40 a 44 años",
          "De 45 a 49 años",
          "De 50 a 54 años",
          "De 55 a 59 años",
          "De 70 a 74 años  ",
          "De 70 a 74 años  ",
          "De 60 a 64 años",
          "De 50 a 54 años",
          "De 40 a 44 años",
          "De 50 a 54 años",
          "De 65 a 69 años",
          "De 65 a 69 años",
          "De 55 a 59 años",
          "De 70 a 74 años  ",
          "De 70 a 74 años  ",
          "De 70 a 74 años  ",
          "De 70 a 74 años  ",
          "De 70 a 74 años  ",
          "De 65 a 69 años",
          "De 55 a 59 años",
          "De 65 a 69 años",
          "De 65 a 69 años",
          "De 40 a 44 años",
          "De 45 a 49 años",
          "De 65 a 69 años",
          "De 75 a 79 años  ",
          "De 55 a 59 años",
          "De 60 a 64 años",
          "De 35 a 39 años",
          "De 50 a 54 años",
          "De 65 a 69 años",
          "De 55 a 59 años",
          "De 65 a 69 años",
          "De 60 a 64 años",
          "De 70 a 74 años  ",
          "De 55 a 59 años",
          "De 65 a 69 años",
          "De 40 a 44 años",
          "De 75 a 79 años  ",
          "De 60 a 64 años",
          "De 70 a 74 años  ",
          "De 40 a 44 años",
          "De 75 a 79 años  ",
          "De 40 a 44 años",
          "De 60 a 64 años",
          "De 65 a 69 años",
          "De 60 a 64 años",
          "De 65 a 69 años",
          "De 70 a 74 años  ",
          "De 60 a 64 años",
          "De 60 a 64 años",
          "De 55 a 59 años",
          "De 60 a 64 años",
          "De 70 a 74 años  ",
          "De 40 a 44 años",
          "De 70 a 74 años  ",
          "De 65 a 69 años",
          "De 45 a 49 años",
          "De 45 a 49 años",
          "De 65 a 69 años",
          "De 70 a 74 años  ",
          "De 40 a 44 años",
          "De 35 a 39 años",
          "De 60 a 64 años",
          "De 60 a 64 años",
          "De 45 a 49 años",
          "De 60 a 64 años",
          "De 60 a 64 años",
          "De 50 a 54 años",
          "De 70 a 74 años  ",
          "De 60 a 64 años",
          "De 65 a 69 años",
          "De 35 a 39 años",
          "De 35 a 39 años",
          "De 55 a 59 años",
          "De 55 a 59 años",
          "De 50 a 54 años",
          "De 75 a 79 años  ",
          "De 70 a 74 años  ",
          "De 40 a 44 años",
          "De 60 a 64 años",
          "De 70 a 74 años  ",
          "De 35 a 39 años",
          "De 75 a 79 años  ",
          "De 45 a 49 años",
          "De 45 a 49 años",
          "De 35 a 39 años",
          "De 45 a 49 años",
          "De 45 a 49 años",
          "De 65 a 69 años",
          "De 75 a 79 años  ",
          "De 60 a 64 años",
          "De 65 a 69 años",
          "De 55 a 59 años",
          "De 65 a 69 años",
          "De 75 a 79 años  ",
          "De 75 a 79 años  ",
          "De 70 a 74 años  ",
          "De 70 a 74 años  ",
          "De 75 a 79 años  ",
          "De 75 a 79 años  ",
          "De 50 a 54 años",
          "De 65 a 69 años",
          "De 75 a 79 años  ",
          "De 70 a 74 años  ",
          "De 75 a 79 años  ",
          "De 60 a 64 años",
          "De 75 a 79 años  ",
          "De 75 a 79 años  ",
          "De 70 a 74 años  ",
          "De 65 a 69 años",
          "De 65 a 69 años",
          "De 50 a 54 años",
          "De 50 a 54 años",
          "De 35 a 39 años",
          "De 55 a 59 años",
          "De 55 a 59 años",
          "De 45 a 49 años",
          "De 60 a 64 años",
          "De 50 a 54 años",
          "De 40 a 44 años",
          "De 65 a 69 años",
          "De 70 a 74 años  ",
          "De 60 a 64 años",
          "De 70 a 74 años  ",
          "De 35 a 39 años",
          "De 70 a 74 años  ",
          "De 40 a 44 años",
          "De 30 a 34 años",
          "De 70 a 74 años  ",
          "De 40 a 44 años",
          "De 25 a 29 años",
          "De 50 a 54 años",
          "De 70 a 74 años  ",
          "De 55 a 59 años",
          "De 65 a 69 años",
          "De 75 a 79 años  ",
          "De 60 a 64 años",
          "De 70 a 74 años  ",
          "De 65 a 69 años",
          "De 60 a 64 años",
          "De 45 a 49 años",
          "De 75 a 79 años  ",
          "De 70 a 74 años  ",
          "De 50 a 54 años",
          "De 50 a 54 años",
          "De 60 a 64 años",
          "De 75 a 79 años  ",
          "De 50 a 54 años",
          "De 55 a 59 años",
          "De 35 a 39 años",
          "De 70 a 74 años  ",
          "De 55 a 59 años",
          "De 50 a 54 años",
          "De 60 a 64 años",
          "De 60 a 64 años",
          "De 55 a 59 años",
          "De 35 a 39 años",
          "De 75 a 79 años  ",
          "De 70 a 74 años  ",
          "De 35 a 39 años",
          "De 55 a 59 años",
          "De 45 a 49 años",
          "De 60 a 64 años",
          "De 60 a 64 años",
          "De 35 a 39 años",
          "De 65 a 69 años",
          "De 65 a 69 años",
          "De 30 a 34 años",
          "De 60 a 64 años",
          "De 55 a 59 años",
          "De 75 a 79 años  ",
          "De 75 a 79 años  ",
          "De 60 a 64 años",
          "De 75 a 79 años  ",
          "De 70 a 74 años  ",
          "De 50 a 54 años",
          "De 50 a 54 años",
          "De 80 a 84 años  ",
          "De 80 a 84 años  ",
          "De 55 a 59 años",
          "De 60 a 64 años",
          "De 55 a 59 años",
          "De 60 a 64 años",
          "De 65 a 69 años",
          "De 75 a 79 años  ",
          "De 75 a 79 años  ",
          "De 35 a 39 años",
          "De 80 a 84 años  ",
          "De 55 a 59 años",
          "De 55 a 59 años",
          "De 40 a 44 años",
          "De 60 a 64 años",
          "De 45 a 49 años",
          "De 65 a 69 años",
          "De 40 a 44 años",
          "De 30 a 34 años",
          "De 45 a 49 años",
          "De 75 a 79 años  ",
          "De 40 a 44 años",
          "De 80 a 84 años  ",
          "De 65 a 69 años",
          "De 70 a 74 años  ",
          "De 65 a 69 años",
          "De 50 a 54 años",
          "De 75 a 79 años  ",
          "De 50 a 54 años",
          "De 70 a 74 años  ",
          "De 80 a 84 años  ",
          "De 35 a 39 años",
          "De 30 a 34 años",
          "De 75 a 79 años  ",
          "De 35 a 39 años",
          "De 70 a 74 años  ",
          "De 75 a 79 años  ",
          "De 65 a 69 años",
          "De 50 a 54 años",
          "De 70 a 74 años  ",
          "De 35 a 39 años",
          "De 45 a 49 años",
          "De 60 a 64 años",
          "De 55 a 59 años",
          "De 55 a 59 años",
          "De 65 a 69 años",
          "De 80 a 84 años  ",
          "De 65 a 69 años",
          "De 30 a 34 años",
          "De 35 a 39 años",
          "De 40 a 44 años",
          "De 55 a 59 años",
          "De 30 a 34 años",
          "De 35 a 39 años",
          "De 50 a 54 años",
          "De 50 a 54 años",
          "De 80 a 84 años  ",
          "De 50 a 54 años",
          "De 25 a 29 años",
          "De 25 a 29 años",
          "De 80 a 84 años  ",
          "De 75 a 79 años  ",
          "De 55 a 59 años",
          "De 80 a 84 años  ",
          "De 35 a 39 años",
          "De 50 a 54 años",
          "De 80 a 84 años  ",
          "De 35 a 39 años",
          "De 35 a 39 años",
          "De 25 a 29 años",
          "De 55 a 59 años",
          "De 30 a 34 años",
          "De 30 a 34 años",
          "De 55 a 59 años",
          "De 35 a 39 años",
          "De 50 a 54 años",
          "De 60 a 64 años",
          "De 75 a 79 años  ",
          "De 40 a 44 años",
          "De 55 a 59 años",
          "De 60 a 64 años",
          "De 50 a 54 años",
          "De 30 a 34 años",
          "De 75 a 79 años  ",
          "De 55 a 59 años",
          "De 55 a 59 años",
          "De 80 a 84 años  ",
          "De 50 a 54 años",
          "De 45 a 49 años",
          "De 75 a 79 años  ",
          "De 80 a 84 años  ",
          "De 80 a 84 años  ",
          "De 65 a 69 años",
          "De 80 a 84 años  ",
          "De 80 a 84 años  ",
          "De 40 a 44 años",
          "De 55 a 59 años",
          "De 80 a 84 años  ",
          "De 50 a 54 años",
          "De 50 a 54 años",
          "De 75 a 79 años  ",
          "De 55 a 59 años",
          "De 50 a 54 años",
          "De 60 a 64 años",
          "De 80 a 84 años  ",
          "De 80 a 84 años  ",
          "De 65 a 69 años",
          "De 75 a 79 años  ",
          "De 30 a 34 años",
          "De 40 a 44 años",
          "De 50 a 54 años",
          "De 55 a 59 años",
          "De 45 a 49 años",
          "De 45 a 49 años",
          "De 80 a 84 años  ",
          "De 35 a 39 años",
          "De 30 a 34 años",
          "De 50 a 54 años",
          "De 35 a 39 años",
          "De 25 a 29 años",
          "De 20 a 24 años",
          "De 75 a 79 años  ",
          "De 30 a 34 años",
          "De 60 a 64 años",
          "De 30 a 34 años",
          "De 30 a 34 años",
          "De 80 a 84 años  ",
          "De 80 a 84 años  ",
          "De 60 a 64 años",
          "De 70 a 74 años  ",
          "De 80 a 84 años  ",
          "De 25 a 29 años",
          "De 35 a 39 años",
          "De 80 a 84 años  ",
          "De 30 a 34 años",
          "De 80 a 84 años  ",
          "De 25 a 29 años",
          "De 80 a 84 años  ",
          "De 70 a 74 años  ",
          "De 30 a 34 años",
          "De 35 a 39 años",
          "De 45 a 49 años",
          "De 45 a 49 años",
          "De 20 a 24 años",
          "De 80 a 84 años  ",
          "De 35 a 39 años",
          "De 30 a 34 años",
          "De 30 a 34 años",
          "De 75 a 79 años  ",
          "De 30 a 34 años",
          "De 20 a 24 años",
          "De 20 a 24 años",
          "De 80 a 84 años  ",
          "De 25 a 29 años",
          "De 80 a 84 años  ",
          "De 70 a 74 años  ",
          "De 85 a 89 años  ",
          "De 55 a 59 años",
          "De 35 a 39 años",
          "De 60 a 64 años",
          "De 45 a 49 años",
          "De 25 a 29 años",
          "De 40 a 44 años",
          "De 30 a 34 años",
          "De 45 a 49 años",
          "De 65 a 69 años",
          "De 25 a 29 años",
          "De 75 a 79 años  ",
          "De 45 a 49 años",
          "De 30 a 34 años",
          "De 70 a 74 años  ",
          "De 25 a 29 años",
          "De 20 a 24 años",
          "De 40 a 44 años",
          "De 80 a 84 años  ",
          "De 45 a 49 años",
          "De 40 a 44 años",
          "De 55 a 59 años",
          "De 80 a 84 años  ",
          "De 40 a 44 años",
          "De 45 a 49 años",
          "De 50 a 54 años",
          "De 20 a 24 años",
          "De 50 a 54 años",
          "De 45 a 49 años",
          "De 60 a 64 años",
          "De 45 a 49 años",
          "De 25 a 29 años",
          "De 85 a 89 años  ",
          "De 75 a 79 años  ",
          "De 40 a 44 años",
          "De 80 a 84 años  ",
          "De 20 a 24 años",
          "De 25 a 29 años",
          "De 30 a 34 años",
          "De 85 a 89 años  ",
          "De 55 a 59 años",
          "De 25 a 29 años",
          "De 35 a 39 años",
          "De 85 a 89 años  ",
          "De 30 a 34 años",
          "De 45 a 49 años",
          "De 45 a 49 años",
          "De 65 a 69 años",
          "De 80 a 84 años  ",
          "De 30 a 34 años",
          "De 25 a 29 años",
          "De 75 a 79 años  ",
          "De 70 a 74 años  ",
          "De 30 a 34 años",
          "De 25 a 29 años",
          "De 20 a 24 años",
          "De 40 a 44 años",
          "De 85 a 89 años  ",
          "De 80 a 84 años  ",
          "De 40 a 44 años",
          "De 85 a 89 años  ",
          "De 85 a 89 años  ",
          "De 85 a 89 años  ",
          "De 45 a 49 años",
          "De 75 a 79 años  ",
          "De 45 a 49 años",
          "De 35 a 39 años",
          "De 20 a 24 años",
          "De 25 a 29 años",
          "De 85 a 89 años  ",
          "De 85 a 89 años  ",
          "De 20 a 24 años",
          "De 45 a 49 años",
          "De 30 a 34 años",
          "De 30 a 34 años",
          "De 30 a 34 años",
          "De 85 a 89 años  ",
          "De 25 a 29 años",
          "De 25 a 29 años",
          "De 30 a 34 años",
          "De 85 a 89 años  ",
          "De 25 a 29 años",
          "De 20 a 24 años",
          "De 35 a 39 años",
          "De 45 a 49 años",
          "De 45 a 49 años",
          "De 85 a 89 años  ",
          "De 20 a 24 años",
          "De 35 a 39 años",
          "De 85 a 89 años  ",
          "De 85 a 89 años  ",
          "De 45 a 49 años",
          "De 25 a 29 años",
          "De 30 a 34 años",
          "De 40 a 44 años",
          "De 50 a 54 años",
          "De 25 a 29 años",
          "De 25 a 29 años",
          "De 20 a 24 años",
          "De 80 a 84 años  ",
          "De 20 a 24 años",
          "De 35 a 39 años",
          "De 80 a 84 años  ",
          "De 25 a 29 años",
          "De 25 a 29 años",
          "De 25 a 29 años",
          "De 85 a 89 años  ",
          "De 30 a 34 años",
          "De 25 a 29 años",
          "De 25 a 29 años",
          "De 85 a 89 años  ",
          "De 85 a 89 años  ",
          "De 30 a 34 años",
          "De 85 a 89 años  ",
          "De 30 a 34 años",
          "De 85 a 89 años  ",
          "De 85 a 89 años  ",
          "De 35 a 39 años",
          "De 25 a 29 años",
          "De 85 a 89 años  ",
          "De 85 a 89 años  ",
          "De 20 a 24 años",
          "De 35 a 39 años",
          "De 65 a 69 años",
          "De 30 a 34 años",
          "De 80 a 84 años  ",
          "De 40 a 44 años",
          "De 15 a 19 años  ",
          "De 25 a 29 años",
          "De 20 a 24 años",
          "De 40 a 44 años",
          "De 20 a 24 años",
          "De 20 a 24 años",
          "De 30 a 34 años",
          "De 20 a 24 años",
          "De 25 a 29 años",
          "De 20 a 24 años",
          "De 20 a 24 años",
          "De 20 a 24 años",
          "De 25 a 29 años",
          "De 85 a 89 años  ",
          "De 45 a 49 años",
          "De 85 a 89 años  ",
          "De 20 a 24 años",
          "De 85 a 89 años  ",
          "De 85 a 89 años  ",
          "De 25 a 29 años",
          "De 20 a 24 años",
          "De 30 a 34 años",
          "De 15 a 19 años  ",
          "De 40 a 44 años",
          "De 85 a 89 años  ",
          "De 85 a 89 años  ",
          "De 20 a 24 años",
          "De 20 a 24 años",
          "De 40 a 44 años",
          "De 20 a 24 años",
          "De 40 a 44 años",
          "De 20 a 24 años",
          "De 25 a 29 años",
          "De 15 a 19 años  ",
          "De 20 a 24 años",
          "De 40 a 44 años",
          "De 15 a 19 años  ",
          "De 35 a 39 años",
          "De 25 a 29 años",
          "De 85 a 89 años  ",
          "De 25 a 29 años",
          "De 15 a 19 años  ",
          "De 20 a 24 años",
          "De 15 a 19 años  ",
          "De 15 a 19 años  ",
          "De 40 a 44 años",
          "De 85 a 89 años  ",
          "De 40 a 44 años",
          "De 40 a 44 años",
          "De 20 a 24 años",
          "De 80 a 84 años  ",
          "De 35 a 39 años",
          "De 15 a 19 años  ",
          "De 20 a 24 años",
          "De 15 a 19 años  ",
          "De 15 a 19 años  ",
          "De 15 a 19 años  ",
          "De 80 a 84 años  ",
          "De 20 a 24 años",
          "De 15 a 19 años  ",
          "De 85 a 89 años  ",
          "De 15 a 19 años  ",
          "De 20 a 24 años",
          "De 15 a 19 años  ",
          "De 15 a 19 años  ",
          "De 25 a 29 años",
          "De 25 a 29 años",
          "De 90 a 94 años  ",
          "De 85 a 89 años  ",
          "De 85 a 89 años  ",
          "De 15 a 19 años  ",
          "De 20 a 24 años",
          "De 85 a 89 años  ",
          "De 90 a 94 años  ",
          "De 35 a 39 años",
          "De 15 a 19 años  ",
          "De 20 a 24 años",
          "De 15 a 19 años  ",
          "De 15 a 19 años  ",
          "De 30 a 34 años",
          "De 15 a 19 años  ",
          "De 35 a 39 años",
          "De 15 a 19 años  ",
          "De 30 a 34 años",
          "De 15 a 19 años  ",
          "De 90 a 94 años  ",
          "De 90 a 94 años  ",
          "De 15 a 19 años  ",
          "De 20 a 24 años",
          "De 15 a 19 años  ",
          "De 90 a 94 años  ",
          "De 20 a 24 años",
          "De 30 a 34 años",
          "De 15 a 19 años  ",
          "De 15 a 19 años  ",
          "De 15 a 19 años  ",
          "De 15 a 19 años  ",
          "De 15 a 19 años  ",
          "De 25 a 29 años",
          "De 85 a 89 años  ",
          "De 90 a 94 años  ",
          "De 90 a 94 años  ",
          "De 15 a 19 años  ",
          "De 15 a 19 años  ",
          "De 15 a 19 años  ",
          "De 15 a 19 años  ",
          "De 90 a 94 años  ",
          "De 80 a 84 años  ",
          "De 15 a 19 años  ",
          "De 90 a 94 años  ",
          "De 15 a 19 años  ",
          "De 90 a 94 años  ",
          "De 90 a 94 años  ",
          "De 90 a 94 años  ",
          "De 15 a 19 años  ",
          "De 90 a 94 años  ",
          "De 85 a 89 años  ",
          "De 85 a 89 años  ",
          "De 90 a 94 años  ",
          "De 90 a 94 años  ",
          "De 90 a 94 años  ",
          "De 90 a 94 años  ",
          "De 90 a 94 años  ",
          "De 10 a 14 años  ",
          "De 90 a 94 años  ",
          "De 90 a 94 años  ",
          "De 90 a 94 años  ",
          "De 15 a 19 años  ",
          "De 20 a 24 años",
          "De 85 a 89 años  ",
          "De 90 a 94 años  ",
          "De 90 a 94 años  ",
          "De 90 a 94 años  ",
          "De 90 a 94 años  ",
          "De 90 a 94 años  ",
          "De 90 a 94 años  ",
          "De 10 a 14 años  ",
          "De 10 a 14 años  ",
          "95 y más años",
          "De 10 a 14 años  ",
          "De 90 a 94 años  ",
          "De 90 a 94 años  ",
          "De 15 a 19 años  ",
          "De 10 a 14 años  ",
          "De 90 a 94 años  ",
          "De 10 a 14 años  ",
          "De 15 a 19 años  ",
          "De 10 a 14 años  ",
          "De 10 a 14 años  ",
          "De 10 a 14 años  ",
          "95 y más años",
          "95 y más años",
          "De 90 a 94 años  ",
          "De 90 a 94 años  ",
          "De 90 a 94 años  ",
          "De 10 a 14 años  ",
          "De 90 a 94 años  ",
          "De 10 a 14 años  ",
          "De 10 a 14 años  ",
          "De 10 a 14 años  ",
          "95 y más años",
          "95 y más años",
          "95 y más años",
          "95 y más años",
          "95 y más años",
          "95 y más años",
          "De 10 a 14 años  ",
          "De 10 a 14 años  ",
          "De 10 a 14 años  ",
          "De 10 a 14 años  ",
          "95 y más años",
          "95 y más años",
          "De 90 a 94 años  ",
          "De 10 a 14 años  ",
          "95 y más años",
          "De 10 a 14 años  ",
          "De 10 a 14 años  ",
          "95 y más años",
          "95 y más años",
          "95 y más años",
          "De 90 a 94 años  ",
          "95 y más años",
          "95 y más años",
          "95 y más años",
          "95 y más años",
          "De 90 a 94 años  ",
          "95 y más años",
          "95 y más años",
          "De 10 a 14 años  ",
          "De 10 a 14 años  ",
          "De 10 a 14 años  ",
          "De 10 a 14 años  ",
          "De 10 a 14 años  ",
          "De 10 a 14 años  ",
          "95 y más años",
          "De 90 a 94 años  ",
          "De 10 a 14 años  ",
          "De 10 a 14 años  ",
          "De 10 a 14 años  ",
          "95 y más años",
          "95 y más años",
          "De 5 a 9 años",
          "De 10 a 14 años  ",
          "95 y más años",
          "95 y más años",
          "De 10 a 14 años  ",
          "95 y más años",
          "De 10 a 14 años  ",
          "De 10 a 14 años  ",
          "De 10 a 14 años  ",
          "De 10 a 14 años  ",
          "De 10 a 14 años  ",
          "95 y más años",
          "De 5 a 9 años",
          "95 y más años",
          "De 10 a 14 años  ",
          "De 90 a 94 años  ",
          "95 y más años",
          "95 y más años"
         ],
         "xaxis": "x",
         "y": [
          120,
          116,
          111,
          110,
          108,
          106,
          98,
          97,
          96,
          95,
          95,
          94,
          94,
          94,
          93,
          93,
          93,
          92,
          92,
          91,
          91,
          91,
          90,
          89,
          88,
          88,
          87,
          87,
          87,
          87,
          86,
          86,
          86,
          85,
          84,
          84,
          83,
          83,
          82,
          82,
          81,
          81,
          81,
          81,
          81,
          81,
          81,
          81,
          81,
          80,
          80,
          80,
          79,
          79,
          79,
          79,
          79,
          79,
          78,
          78,
          78,
          78,
          78,
          78,
          78,
          77,
          77,
          76,
          76,
          76,
          76,
          76,
          76,
          75,
          75,
          75,
          75,
          75,
          75,
          75,
          74,
          74,
          74,
          74,
          74,
          73,
          73,
          73,
          73,
          73,
          73,
          73,
          72,
          72,
          72,
          72,
          72,
          72,
          72,
          72,
          72,
          71,
          71,
          71,
          71,
          71,
          71,
          71,
          71,
          70,
          70,
          70,
          70,
          70,
          70,
          70,
          70,
          70,
          69,
          69,
          69,
          69,
          69,
          69,
          69,
          68,
          68,
          68,
          67,
          67,
          67,
          67,
          67,
          67,
          67,
          67,
          67,
          67,
          67,
          66,
          66,
          66,
          66,
          66,
          66,
          66,
          66,
          66,
          66,
          66,
          65,
          65,
          65,
          65,
          65,
          65,
          65,
          65,
          64,
          64,
          64,
          64,
          64,
          64,
          64,
          64,
          64,
          64,
          64,
          64,
          63,
          63,
          63,
          63,
          63,
          63,
          63,
          63,
          62,
          62,
          62,
          62,
          62,
          62,
          62,
          62,
          62,
          61,
          61,
          61,
          61,
          61,
          61,
          61,
          61,
          60,
          60,
          60,
          60,
          60,
          60,
          60,
          60,
          60,
          60,
          60,
          60,
          60,
          60,
          59,
          59,
          59,
          59,
          59,
          59,
          59,
          59,
          59,
          59,
          59,
          59,
          59,
          58,
          58,
          58,
          58,
          58,
          58,
          58,
          58,
          58,
          57,
          57,
          57,
          57,
          57,
          57,
          56,
          56,
          56,
          56,
          56,
          56,
          56,
          56,
          56,
          56,
          56,
          55,
          55,
          55,
          55,
          55,
          55,
          55,
          54,
          54,
          54,
          54,
          54,
          54,
          54,
          54,
          54,
          54,
          54,
          53,
          53,
          53,
          53,
          53,
          53,
          53,
          53,
          52,
          52,
          52,
          52,
          52,
          52,
          52,
          52,
          52,
          52,
          52,
          52,
          52,
          51,
          51,
          51,
          51,
          51,
          51,
          51,
          51,
          51,
          50,
          50,
          50,
          50,
          50,
          49,
          49,
          49,
          49,
          49,
          49,
          48,
          48,
          48,
          48,
          48,
          48,
          48,
          48,
          48,
          48,
          48,
          48,
          47,
          47,
          47,
          47,
          47,
          47,
          47,
          47,
          47,
          47,
          46,
          46,
          46,
          46,
          45,
          45,
          45,
          45,
          45,
          45,
          45,
          44,
          44,
          44,
          44,
          44,
          44,
          44,
          43,
          43,
          43,
          43,
          43,
          43,
          43,
          43,
          43,
          43,
          42,
          42,
          42,
          42,
          42,
          42,
          42,
          42,
          42,
          42,
          42,
          41,
          41,
          41,
          41,
          41,
          41,
          41,
          41,
          41,
          41,
          41,
          41,
          41,
          40,
          40,
          40,
          40,
          40,
          40,
          40,
          40,
          40,
          39,
          39,
          39,
          39,
          39,
          39,
          39,
          38,
          38,
          38,
          38,
          38,
          37,
          37,
          37,
          37,
          37,
          37,
          37,
          37,
          37,
          37,
          37,
          36,
          36,
          36,
          36,
          36,
          36,
          36,
          35,
          35,
          35,
          35,
          35,
          35,
          35,
          34,
          34,
          34,
          34,
          34,
          34,
          34,
          34,
          34,
          33,
          33,
          33,
          33,
          33,
          33,
          33,
          33,
          32,
          32,
          32,
          32,
          32,
          32,
          32,
          31,
          31,
          31,
          31,
          31,
          31,
          31,
          31,
          31,
          31,
          31,
          31,
          30,
          30,
          30,
          30,
          30,
          30,
          30,
          30,
          29,
          29,
          29,
          29,
          29,
          29,
          29,
          29,
          28,
          28,
          28,
          28,
          28,
          28,
          28,
          28,
          27,
          27,
          27,
          27,
          27,
          27,
          27,
          26,
          26,
          26,
          26,
          26,
          26,
          26,
          26,
          25,
          25,
          25,
          25,
          25,
          25,
          25,
          25,
          25,
          25,
          25,
          24,
          24,
          24,
          24,
          24,
          24,
          23,
          23,
          23,
          23,
          22,
          22,
          21,
          21,
          21,
          21,
          21,
          21,
          21,
          21,
          20,
          20,
          20,
          20,
          20,
          20,
          20,
          20,
          20,
          19,
          19,
          19,
          19,
          19,
          19,
          19,
          19,
          19,
          18,
          18,
          18,
          18,
          18,
          18,
          17,
          17,
          17,
          17,
          17,
          17,
          17,
          16,
          16,
          16,
          16,
          16,
          16,
          16,
          15,
          15,
          15,
          15,
          14,
          14,
          14,
          13,
          13,
          13,
          13,
          13,
          12,
          12,
          12,
          11,
          11,
          11,
          11,
          10,
          10,
          10,
          10,
          9,
          9,
          9,
          9,
          9,
          9,
          9,
          9,
          9,
          9,
          9,
          8,
          8,
          8,
          8,
          7,
          7,
          7,
          7,
          7,
          6,
          6,
          6,
          6,
          6,
          6,
          6,
          6,
          5,
          5,
          5,
          5,
          5,
          5,
          4,
          4,
          4,
          4,
          4,
          4,
          4,
          4,
          4,
          4,
          4,
          4,
          3,
          3,
          3,
          3,
          3,
          3,
          3,
          3,
          3,
          3,
          3,
          3,
          2,
          2,
          2,
          2,
          2,
          2,
          2,
          2,
          2,
          2,
          2,
          2,
          2,
          2,
          2,
          2,
          2,
          2,
          2,
          1,
          1,
          1,
          1,
          1,
          1,
          1,
          1,
          1,
          1,
          1,
          1,
          1,
          1,
          1,
          1,
          1,
          1,
          1,
          1,
          1,
          1,
          1
         ],
         "yaxis": "y"
        }
       ],
       "layout": {
        "barmode": "group",
        "legend": {
         "title": {
          "text": "Sexo"
         },
         "tracegroupgap": 0
        },
        "template": {
         "data": {
          "bar": [
           {
            "error_x": {
             "color": "#2a3f5f"
            },
            "error_y": {
             "color": "#2a3f5f"
            },
            "marker": {
             "line": {
              "color": "#E5ECF6",
              "width": 0.5
             },
             "pattern": {
              "fillmode": "overlay",
              "size": 10,
              "solidity": 0.2
             }
            },
            "type": "bar"
           }
          ],
          "barpolar": [
           {
            "marker": {
             "line": {
              "color": "#E5ECF6",
              "width": 0.5
             },
             "pattern": {
              "fillmode": "overlay",
              "size": 10,
              "solidity": 0.2
             }
            },
            "type": "barpolar"
           }
          ],
          "carpet": [
           {
            "aaxis": {
             "endlinecolor": "#2a3f5f",
             "gridcolor": "white",
             "linecolor": "white",
             "minorgridcolor": "white",
             "startlinecolor": "#2a3f5f"
            },
            "baxis": {
             "endlinecolor": "#2a3f5f",
             "gridcolor": "white",
             "linecolor": "white",
             "minorgridcolor": "white",
             "startlinecolor": "#2a3f5f"
            },
            "type": "carpet"
           }
          ],
          "choropleth": [
           {
            "colorbar": {
             "outlinewidth": 0,
             "ticks": ""
            },
            "type": "choropleth"
           }
          ],
          "contour": [
           {
            "colorbar": {
             "outlinewidth": 0,
             "ticks": ""
            },
            "colorscale": [
             [
              0,
              "#0d0887"
             ],
             [
              0.1111111111111111,
              "#46039f"
             ],
             [
              0.2222222222222222,
              "#7201a8"
             ],
             [
              0.3333333333333333,
              "#9c179e"
             ],
             [
              0.4444444444444444,
              "#bd3786"
             ],
             [
              0.5555555555555556,
              "#d8576b"
             ],
             [
              0.6666666666666666,
              "#ed7953"
             ],
             [
              0.7777777777777778,
              "#fb9f3a"
             ],
             [
              0.8888888888888888,
              "#fdca26"
             ],
             [
              1,
              "#f0f921"
             ]
            ],
            "type": "contour"
           }
          ],
          "contourcarpet": [
           {
            "colorbar": {
             "outlinewidth": 0,
             "ticks": ""
            },
            "type": "contourcarpet"
           }
          ],
          "heatmap": [
           {
            "colorbar": {
             "outlinewidth": 0,
             "ticks": ""
            },
            "colorscale": [
             [
              0,
              "#0d0887"
             ],
             [
              0.1111111111111111,
              "#46039f"
             ],
             [
              0.2222222222222222,
              "#7201a8"
             ],
             [
              0.3333333333333333,
              "#9c179e"
             ],
             [
              0.4444444444444444,
              "#bd3786"
             ],
             [
              0.5555555555555556,
              "#d8576b"
             ],
             [
              0.6666666666666666,
              "#ed7953"
             ],
             [
              0.7777777777777778,
              "#fb9f3a"
             ],
             [
              0.8888888888888888,
              "#fdca26"
             ],
             [
              1,
              "#f0f921"
             ]
            ],
            "type": "heatmap"
           }
          ],
          "heatmapgl": [
           {
            "colorbar": {
             "outlinewidth": 0,
             "ticks": ""
            },
            "colorscale": [
             [
              0,
              "#0d0887"
             ],
             [
              0.1111111111111111,
              "#46039f"
             ],
             [
              0.2222222222222222,
              "#7201a8"
             ],
             [
              0.3333333333333333,
              "#9c179e"
             ],
             [
              0.4444444444444444,
              "#bd3786"
             ],
             [
              0.5555555555555556,
              "#d8576b"
             ],
             [
              0.6666666666666666,
              "#ed7953"
             ],
             [
              0.7777777777777778,
              "#fb9f3a"
             ],
             [
              0.8888888888888888,
              "#fdca26"
             ],
             [
              1,
              "#f0f921"
             ]
            ],
            "type": "heatmapgl"
           }
          ],
          "histogram": [
           {
            "marker": {
             "pattern": {
              "fillmode": "overlay",
              "size": 10,
              "solidity": 0.2
             }
            },
            "type": "histogram"
           }
          ],
          "histogram2d": [
           {
            "colorbar": {
             "outlinewidth": 0,
             "ticks": ""
            },
            "colorscale": [
             [
              0,
              "#0d0887"
             ],
             [
              0.1111111111111111,
              "#46039f"
             ],
             [
              0.2222222222222222,
              "#7201a8"
             ],
             [
              0.3333333333333333,
              "#9c179e"
             ],
             [
              0.4444444444444444,
              "#bd3786"
             ],
             [
              0.5555555555555556,
              "#d8576b"
             ],
             [
              0.6666666666666666,
              "#ed7953"
             ],
             [
              0.7777777777777778,
              "#fb9f3a"
             ],
             [
              0.8888888888888888,
              "#fdca26"
             ],
             [
              1,
              "#f0f921"
             ]
            ],
            "type": "histogram2d"
           }
          ],
          "histogram2dcontour": [
           {
            "colorbar": {
             "outlinewidth": 0,
             "ticks": ""
            },
            "colorscale": [
             [
              0,
              "#0d0887"
             ],
             [
              0.1111111111111111,
              "#46039f"
             ],
             [
              0.2222222222222222,
              "#7201a8"
             ],
             [
              0.3333333333333333,
              "#9c179e"
             ],
             [
              0.4444444444444444,
              "#bd3786"
             ],
             [
              0.5555555555555556,
              "#d8576b"
             ],
             [
              0.6666666666666666,
              "#ed7953"
             ],
             [
              0.7777777777777778,
              "#fb9f3a"
             ],
             [
              0.8888888888888888,
              "#fdca26"
             ],
             [
              1,
              "#f0f921"
             ]
            ],
            "type": "histogram2dcontour"
           }
          ],
          "mesh3d": [
           {
            "colorbar": {
             "outlinewidth": 0,
             "ticks": ""
            },
            "type": "mesh3d"
           }
          ],
          "parcoords": [
           {
            "line": {
             "colorbar": {
              "outlinewidth": 0,
              "ticks": ""
             }
            },
            "type": "parcoords"
           }
          ],
          "pie": [
           {
            "automargin": true,
            "type": "pie"
           }
          ],
          "scatter": [
           {
            "fillpattern": {
             "fillmode": "overlay",
             "size": 10,
             "solidity": 0.2
            },
            "type": "scatter"
           }
          ],
          "scatter3d": [
           {
            "line": {
             "colorbar": {
              "outlinewidth": 0,
              "ticks": ""
             }
            },
            "marker": {
             "colorbar": {
              "outlinewidth": 0,
              "ticks": ""
             }
            },
            "type": "scatter3d"
           }
          ],
          "scattercarpet": [
           {
            "marker": {
             "colorbar": {
              "outlinewidth": 0,
              "ticks": ""
             }
            },
            "type": "scattercarpet"
           }
          ],
          "scattergeo": [
           {
            "marker": {
             "colorbar": {
              "outlinewidth": 0,
              "ticks": ""
             }
            },
            "type": "scattergeo"
           }
          ],
          "scattergl": [
           {
            "marker": {
             "colorbar": {
              "outlinewidth": 0,
              "ticks": ""
             }
            },
            "type": "scattergl"
           }
          ],
          "scattermapbox": [
           {
            "marker": {
             "colorbar": {
              "outlinewidth": 0,
              "ticks": ""
             }
            },
            "type": "scattermapbox"
           }
          ],
          "scatterpolar": [
           {
            "marker": {
             "colorbar": {
              "outlinewidth": 0,
              "ticks": ""
             }
            },
            "type": "scatterpolar"
           }
          ],
          "scatterpolargl": [
           {
            "marker": {
             "colorbar": {
              "outlinewidth": 0,
              "ticks": ""
             }
            },
            "type": "scatterpolargl"
           }
          ],
          "scatterternary": [
           {
            "marker": {
             "colorbar": {
              "outlinewidth": 0,
              "ticks": ""
             }
            },
            "type": "scatterternary"
           }
          ],
          "surface": [
           {
            "colorbar": {
             "outlinewidth": 0,
             "ticks": ""
            },
            "colorscale": [
             [
              0,
              "#0d0887"
             ],
             [
              0.1111111111111111,
              "#46039f"
             ],
             [
              0.2222222222222222,
              "#7201a8"
             ],
             [
              0.3333333333333333,
              "#9c179e"
             ],
             [
              0.4444444444444444,
              "#bd3786"
             ],
             [
              0.5555555555555556,
              "#d8576b"
             ],
             [
              0.6666666666666666,
              "#ed7953"
             ],
             [
              0.7777777777777778,
              "#fb9f3a"
             ],
             [
              0.8888888888888888,
              "#fdca26"
             ],
             [
              1,
              "#f0f921"
             ]
            ],
            "type": "surface"
           }
          ],
          "table": [
           {
            "cells": {
             "fill": {
              "color": "#EBF0F8"
             },
             "line": {
              "color": "white"
             }
            },
            "header": {
             "fill": {
              "color": "#C8D4E3"
             },
             "line": {
              "color": "white"
             }
            },
            "type": "table"
           }
          ]
         },
         "layout": {
          "annotationdefaults": {
           "arrowcolor": "#2a3f5f",
           "arrowhead": 0,
           "arrowwidth": 1
          },
          "autotypenumbers": "strict",
          "coloraxis": {
           "colorbar": {
            "outlinewidth": 0,
            "ticks": ""
           }
          },
          "colorscale": {
           "diverging": [
            [
             0,
             "#8e0152"
            ],
            [
             0.1,
             "#c51b7d"
            ],
            [
             0.2,
             "#de77ae"
            ],
            [
             0.3,
             "#f1b6da"
            ],
            [
             0.4,
             "#fde0ef"
            ],
            [
             0.5,
             "#f7f7f7"
            ],
            [
             0.6,
             "#e6f5d0"
            ],
            [
             0.7,
             "#b8e186"
            ],
            [
             0.8,
             "#7fbc41"
            ],
            [
             0.9,
             "#4d9221"
            ],
            [
             1,
             "#276419"
            ]
           ],
           "sequential": [
            [
             0,
             "#0d0887"
            ],
            [
             0.1111111111111111,
             "#46039f"
            ],
            [
             0.2222222222222222,
             "#7201a8"
            ],
            [
             0.3333333333333333,
             "#9c179e"
            ],
            [
             0.4444444444444444,
             "#bd3786"
            ],
            [
             0.5555555555555556,
             "#d8576b"
            ],
            [
             0.6666666666666666,
             "#ed7953"
            ],
            [
             0.7777777777777778,
             "#fb9f3a"
            ],
            [
             0.8888888888888888,
             "#fdca26"
            ],
            [
             1,
             "#f0f921"
            ]
           ],
           "sequentialminus": [
            [
             0,
             "#0d0887"
            ],
            [
             0.1111111111111111,
             "#46039f"
            ],
            [
             0.2222222222222222,
             "#7201a8"
            ],
            [
             0.3333333333333333,
             "#9c179e"
            ],
            [
             0.4444444444444444,
             "#bd3786"
            ],
            [
             0.5555555555555556,
             "#d8576b"
            ],
            [
             0.6666666666666666,
             "#ed7953"
            ],
            [
             0.7777777777777778,
             "#fb9f3a"
            ],
            [
             0.8888888888888888,
             "#fdca26"
            ],
            [
             1,
             "#f0f921"
            ]
           ]
          },
          "colorway": [
           "#636efa",
           "#EF553B",
           "#00cc96",
           "#ab63fa",
           "#FFA15A",
           "#19d3f3",
           "#FF6692",
           "#B6E880",
           "#FF97FF",
           "#FECB52"
          ],
          "font": {
           "color": "#2a3f5f"
          },
          "geo": {
           "bgcolor": "white",
           "lakecolor": "white",
           "landcolor": "#E5ECF6",
           "showlakes": true,
           "showland": true,
           "subunitcolor": "white"
          },
          "hoverlabel": {
           "align": "left"
          },
          "hovermode": "closest",
          "mapbox": {
           "style": "light"
          },
          "paper_bgcolor": "white",
          "plot_bgcolor": "#E5ECF6",
          "polar": {
           "angularaxis": {
            "gridcolor": "white",
            "linecolor": "white",
            "ticks": ""
           },
           "bgcolor": "#E5ECF6",
           "radialaxis": {
            "gridcolor": "white",
            "linecolor": "white",
            "ticks": ""
           }
          },
          "scene": {
           "xaxis": {
            "backgroundcolor": "#E5ECF6",
            "gridcolor": "white",
            "gridwidth": 2,
            "linecolor": "white",
            "showbackground": true,
            "ticks": "",
            "zerolinecolor": "white"
           },
           "yaxis": {
            "backgroundcolor": "#E5ECF6",
            "gridcolor": "white",
            "gridwidth": 2,
            "linecolor": "white",
            "showbackground": true,
            "ticks": "",
            "zerolinecolor": "white"
           },
           "zaxis": {
            "backgroundcolor": "#E5ECF6",
            "gridcolor": "white",
            "gridwidth": 2,
            "linecolor": "white",
            "showbackground": true,
            "ticks": "",
            "zerolinecolor": "white"
           }
          },
          "shapedefaults": {
           "line": {
            "color": "#2a3f5f"
           }
          },
          "ternary": {
           "aaxis": {
            "gridcolor": "white",
            "linecolor": "white",
            "ticks": ""
           },
           "baxis": {
            "gridcolor": "white",
            "linecolor": "white",
            "ticks": ""
           },
           "bgcolor": "#E5ECF6",
           "caxis": {
            "gridcolor": "white",
            "linecolor": "white",
            "ticks": ""
           }
          },
          "title": {
           "x": 0.05
          },
          "xaxis": {
           "automargin": true,
           "gridcolor": "white",
           "linecolor": "white",
           "ticks": "",
           "title": {
            "standoff": 15
           },
           "zerolinecolor": "white",
           "zerolinewidth": 2
          },
          "yaxis": {
           "automargin": true,
           "gridcolor": "white",
           "linecolor": "white",
           "ticks": "",
           "title": {
            "standoff": 15
           },
           "zerolinecolor": "white",
           "zerolinewidth": 2
          }
         }
        },
        "title": {
         "text": "Número de Muertes por Edad y Sexo"
        },
        "xaxis": {
         "anchor": "y",
         "domain": [
          0,
          1
         ],
         "title": {
          "text": "Edad"
         }
        },
        "yaxis": {
         "anchor": "x",
         "domain": [
          0,
          1
         ],
         "title": {
          "text": "Total"
         }
        }
       }
      },
      "text/html": [
       "<div>                            <div id=\"f0002343-1f23-4dc8-9b2b-0eb2ff333a70\" class=\"plotly-graph-div\" style=\"height:525px; width:100%;\"></div>            <script type=\"text/javascript\">                require([\"plotly\"], function(Plotly) {                    window.PLOTLYENV=window.PLOTLYENV || {};                                    if (document.getElementById(\"f0002343-1f23-4dc8-9b2b-0eb2ff333a70\")) {                    Plotly.newPlot(                        \"f0002343-1f23-4dc8-9b2b-0eb2ff333a70\",                        [{\"alignmentgroup\":\"True\",\"hovertemplate\":\"Sexo=Hombres<br>Edad=%{x}<br>Total=%{y}<extra></extra>\",\"legendgroup\":\"Hombres\",\"marker\":{\"color\":\"#636efa\",\"pattern\":{\"shape\":\"\"}},\"name\":\"Hombres\",\"offsetgroup\":\"Hombres\",\"orientation\":\"v\",\"showlegend\":true,\"textposition\":\"auto\",\"x\":[\"De 50 a 54 a\\u00f1os\",\"De 50 a 54 a\\u00f1os\",\"De 45 a 49 a\\u00f1os\",\"De 45 a 49 a\\u00f1os\",\"De 50 a 54 a\\u00f1os\",\"De 45 a 49 a\\u00f1os\",\"De 40 a 44 a\\u00f1os\",\"De 45 a 49 a\\u00f1os\",\"De 50 a 54 a\\u00f1os\",\"De 40 a 44 a\\u00f1os\",\"De 30 a 34 a\\u00f1os\",\"De 50 a 54 a\\u00f1os\",\"De 50 a 54 a\\u00f1os\",\"De 45 a 49 a\\u00f1os\",\"De 55 a 59 a\\u00f1os\",\"De 40 a 44 a\\u00f1os\",\"De 40 a 44 a\\u00f1os\",\"De 45 a 49 a\\u00f1os\",\"De 40 a 44 a\\u00f1os\",\"De 45 a 49 a\\u00f1os\",\"De 45 a 49 a\\u00f1os\",\"De 40 a 44 a\\u00f1os\",\"De 40 a 44 a\\u00f1os\",\"De 40 a 44 a\\u00f1os\",\"De 55 a 59 a\\u00f1os\",\"De 55 a 59 a\\u00f1os\",\"De 40 a 44 a\\u00f1os\",\"De 50 a 54 a\\u00f1os\",\"De 40 a 44 a\\u00f1os\",\"De 35 a 39 a\\u00f1os\",\"De 40 a 44 a\\u00f1os\",\"De 50 a 54 a\\u00f1os\",\"De 35 a 39 a\\u00f1os\",\"De 55 a 59 a\\u00f1os\",\"De 40 a 44 a\\u00f1os\",\"De 25 a 29 a\\u00f1os\",\"De 45 a 49 a\\u00f1os\",\"De 45 a 49 a\\u00f1os\",\"De 55 a 59 a\\u00f1os\",\"De 40 a 44 a\\u00f1os\",\"De 55 a 59 a\\u00f1os\",\"De 50 a 54 a\\u00f1os\",\"De 25 a 29 a\\u00f1os\",\"De 35 a 39 a\\u00f1os\",\"De 40 a 44 a\\u00f1os\",\"De 35 a 39 a\\u00f1os\",\"De 45 a 49 a\\u00f1os\",\"De 35 a 39 a\\u00f1os\",\"De 35 a 39 a\\u00f1os\",\"De 55 a 59 a\\u00f1os\",\"De 35 a 39 a\\u00f1os\",\"De 25 a 29 a\\u00f1os\",\"De 35 a 39 a\\u00f1os\",\"De 50 a 54 a\\u00f1os\",\"De 35 a 39 a\\u00f1os\",\"De 70 a 74 a\\u00f1os  \",\"De 30 a 34 a\\u00f1os\",\"De 35 a 39 a\\u00f1os\",\"De 30 a 34 a\\u00f1os\",\"De 35 a 39 a\\u00f1os\",\"De 30 a 34 a\\u00f1os\",\"De 75 a 79 a\\u00f1os  \",\"De 40 a 44 a\\u00f1os\",\"De 45 a 49 a\\u00f1os\",\"De 25 a 29 a\\u00f1os\",\"De 30 a 34 a\\u00f1os\",\"De 45 a 49 a\\u00f1os\",\"De 50 a 54 a\\u00f1os\",\"De 75 a 79 a\\u00f1os  \",\"De 75 a 79 a\\u00f1os  \",\"De 75 a 79 a\\u00f1os  \",\"De 55 a 59 a\\u00f1os\",\"De 75 a 79 a\\u00f1os  \",\"De 35 a 39 a\\u00f1os\",\"De 70 a 74 a\\u00f1os  \",\"De 35 a 39 a\\u00f1os\",\"De 35 a 39 a\\u00f1os\",\"De 30 a 34 a\\u00f1os\",\"De 35 a 39 a\\u00f1os\",\"De 75 a 79 a\\u00f1os  \",\"De 35 a 39 a\\u00f1os\",\"De 30 a 34 a\\u00f1os\",\"De 25 a 29 a\\u00f1os\",\"De 30 a 34 a\\u00f1os\",\"De 45 a 49 a\\u00f1os\",\"De 75 a 79 a\\u00f1os  \",\"De 35 a 39 a\\u00f1os\",\"De 70 a 74 a\\u00f1os  \",\"De 60 a 64 a\\u00f1os\",\"De 80 a 84 a\\u00f1os  \",\"De 70 a 74 a\\u00f1os  \",\"De 65 a 69 a\\u00f1os\",\"De 70 a 74 a\\u00f1os  \",\"De 70 a 74 a\\u00f1os  \",\"De 80 a 84 a\\u00f1os  \",\"De 80 a 84 a\\u00f1os  \",\"De 20 a 24 a\\u00f1os\",\"De 35 a 39 a\\u00f1os\",\"De 30 a 34 a\\u00f1os\",\"De 30 a 34 a\\u00f1os\",\"De 80 a 84 a\\u00f1os  \",\"De 65 a 69 a\\u00f1os\",\"De 25 a 29 a\\u00f1os\",\"De 70 a 74 a\\u00f1os  \",\"De 75 a 79 a\\u00f1os  \",\"De 35 a 39 a\\u00f1os\",\"De 50 a 54 a\\u00f1os\",\"De 65 a 69 a\\u00f1os\",\"De 55 a 59 a\\u00f1os\",\"De 30 a 34 a\\u00f1os\",\"De 55 a 59 a\\u00f1os\",\"De 65 a 69 a\\u00f1os\",\"De 25 a 29 a\\u00f1os\",\"De 30 a 34 a\\u00f1os\",\"De 55 a 59 a\\u00f1os\",\"De 30 a 34 a\\u00f1os\",\"De 40 a 44 a\\u00f1os\",\"De 65 a 69 a\\u00f1os\",\"De 70 a 74 a\\u00f1os  \",\"De 75 a 79 a\\u00f1os  \",\"De 20 a 24 a\\u00f1os\",\"De 55 a 59 a\\u00f1os\",\"De 60 a 64 a\\u00f1os\",\"De 75 a 79 a\\u00f1os  \",\"De 25 a 29 a\\u00f1os\",\"De 70 a 74 a\\u00f1os  \",\"De 50 a 54 a\\u00f1os\",\"De 75 a 79 a\\u00f1os  \",\"De 60 a 64 a\\u00f1os\",\"De 25 a 29 a\\u00f1os\",\"De 40 a 44 a\\u00f1os\",\"De 40 a 44 a\\u00f1os\",\"De 35 a 39 a\\u00f1os\",\"De 75 a 79 a\\u00f1os  \",\"De 60 a 64 a\\u00f1os\",\"De 60 a 64 a\\u00f1os\",\"De 70 a 74 a\\u00f1os  \",\"De 75 a 79 a\\u00f1os  \",\"De 60 a 64 a\\u00f1os\",\"De 65 a 69 a\\u00f1os\",\"De 60 a 64 a\\u00f1os\",\"De 65 a 69 a\\u00f1os\",\"De 55 a 59 a\\u00f1os\",\"De 50 a 54 a\\u00f1os\",\"De 20 a 24 a\\u00f1os\",\"De 20 a 24 a\\u00f1os\",\"De 30 a 34 a\\u00f1os\",\"De 75 a 79 a\\u00f1os  \",\"De 75 a 79 a\\u00f1os  \",\"De 60 a 64 a\\u00f1os\",\"De 65 a 69 a\\u00f1os\",\"De 25 a 29 a\\u00f1os\",\"De 70 a 74 a\\u00f1os  \",\"De 60 a 64 a\\u00f1os\",\"De 50 a 54 a\\u00f1os\",\"De 45 a 49 a\\u00f1os\",\"De 25 a 29 a\\u00f1os\",\"De 60 a 64 a\\u00f1os\",\"De 80 a 84 a\\u00f1os  \",\"De 70 a 74 a\\u00f1os  \",\"De 45 a 49 a\\u00f1os\",\"De 20 a 24 a\\u00f1os\",\"De 25 a 29 a\\u00f1os\",\"De 25 a 29 a\\u00f1os\",\"De 60 a 64 a\\u00f1os\",\"De 20 a 24 a\\u00f1os\",\"De 65 a 69 a\\u00f1os\",\"De 60 a 64 a\\u00f1os\",\"De 70 a 74 a\\u00f1os  \",\"De 50 a 54 a\\u00f1os\",\"De 55 a 59 a\\u00f1os\",\"De 80 a 84 a\\u00f1os  \",\"De 60 a 64 a\\u00f1os\",\"De 55 a 59 a\\u00f1os\",\"De 35 a 39 a\\u00f1os\",\"De 35 a 39 a\\u00f1os\",\"De 75 a 79 a\\u00f1os  \",\"De 65 a 69 a\\u00f1os\",\"De 55 a 59 a\\u00f1os\",\"De 65 a 69 a\\u00f1os\",\"De 65 a 69 a\\u00f1os\",\"De 80 a 84 a\\u00f1os  \",\"De 55 a 59 a\\u00f1os\",\"De 60 a 64 a\\u00f1os\",\"De 70 a 74 a\\u00f1os  \",\"De 80 a 84 a\\u00f1os  \",\"De 25 a 29 a\\u00f1os\",\"De 25 a 29 a\\u00f1os\",\"De 30 a 34 a\\u00f1os\",\"De 30 a 34 a\\u00f1os\",\"De 80 a 84 a\\u00f1os  \",\"De 60 a 64 a\\u00f1os\",\"De 75 a 79 a\\u00f1os  \",\"De 75 a 79 a\\u00f1os  \",\"De 75 a 79 a\\u00f1os  \",\"De 75 a 79 a\\u00f1os  \",\"De 45 a 49 a\\u00f1os\",\"De 25 a 29 a\\u00f1os\",\"De 20 a 24 a\\u00f1os\",\"De 60 a 64 a\\u00f1os\",\"De 60 a 64 a\\u00f1os\",\"De 30 a 34 a\\u00f1os\",\"De 40 a 44 a\\u00f1os\",\"De 35 a 39 a\\u00f1os\",\"De 30 a 34 a\\u00f1os\",\"De 30 a 34 a\\u00f1os\",\"De 65 a 69 a\\u00f1os\",\"De 60 a 64 a\\u00f1os\",\"De 65 a 69 a\\u00f1os\",\"De 55 a 59 a\\u00f1os\",\"De 20 a 24 a\\u00f1os\",\"De 70 a 74 a\\u00f1os  \",\"De 55 a 59 a\\u00f1os\",\"De 60 a 64 a\\u00f1os\",\"De 60 a 64 a\\u00f1os\",\"De 75 a 79 a\\u00f1os  \",\"De 55 a 59 a\\u00f1os\",\"De 45 a 49 a\\u00f1os\",\"De 80 a 84 a\\u00f1os  \",\"De 30 a 34 a\\u00f1os\",\"De 65 a 69 a\\u00f1os\",\"De 50 a 54 a\\u00f1os\",\"De 70 a 74 a\\u00f1os  \",\"De 55 a 59 a\\u00f1os\",\"De 55 a 59 a\\u00f1os\",\"De 60 a 64 a\\u00f1os\",\"De 25 a 29 a\\u00f1os\",\"De 70 a 74 a\\u00f1os  \",\"De 25 a 29 a\\u00f1os\",\"De 60 a 64 a\\u00f1os\",\"De 50 a 54 a\\u00f1os\",\"De 80 a 84 a\\u00f1os  \",\"De 65 a 69 a\\u00f1os\",\"De 55 a 59 a\\u00f1os\",\"De 45 a 49 a\\u00f1os\",\"De 50 a 54 a\\u00f1os\",\"De 40 a 44 a\\u00f1os\",\"De 35 a 39 a\\u00f1os\",\"De 60 a 64 a\\u00f1os\",\"De 50 a 54 a\\u00f1os\",\"De 80 a 84 a\\u00f1os  \",\"De 60 a 64 a\\u00f1os\",\"De 50 a 54 a\\u00f1os\",\"De 65 a 69 a\\u00f1os\",\"De 35 a 39 a\\u00f1os\",\"De 70 a 74 a\\u00f1os  \",\"De 65 a 69 a\\u00f1os\",\"De 65 a 69 a\\u00f1os\",\"De 30 a 34 a\\u00f1os\",\"De 30 a 34 a\\u00f1os\",\"De 75 a 79 a\\u00f1os  \",\"De 55 a 59 a\\u00f1os\",\"De 80 a 84 a\\u00f1os  \",\"De 50 a 54 a\\u00f1os\",\"De 25 a 29 a\\u00f1os\",\"De 45 a 49 a\\u00f1os\",\"De 65 a 69 a\\u00f1os\",\"De 45 a 49 a\\u00f1os\",\"De 55 a 59 a\\u00f1os\",\"De 55 a 59 a\\u00f1os\",\"De 60 a 64 a\\u00f1os\",\"De 70 a 74 a\\u00f1os  \",\"De 55 a 59 a\\u00f1os\",\"De 75 a 79 a\\u00f1os  \",\"De 55 a 59 a\\u00f1os\",\"De 65 a 69 a\\u00f1os\",\"De 65 a 69 a\\u00f1os\",\"De 40 a 44 a\\u00f1os\",\"De 75 a 79 a\\u00f1os  \",\"De 60 a 64 a\\u00f1os\",\"De 65 a 69 a\\u00f1os\",\"De 25 a 29 a\\u00f1os\",\"De 45 a 49 a\\u00f1os\",\"De 70 a 74 a\\u00f1os  \",\"De 50 a 54 a\\u00f1os\",\"De 65 a 69 a\\u00f1os\",\"De 30 a 34 a\\u00f1os\",\"De 50 a 54 a\\u00f1os\",\"De 70 a 74 a\\u00f1os  \",\"De 20 a 24 a\\u00f1os\",\"De 20 a 24 a\\u00f1os\",\"De 20 a 24 a\\u00f1os\",\"De 80 a 84 a\\u00f1os  \",\"De 70 a 74 a\\u00f1os  \",\"De 50 a 54 a\\u00f1os\",\"De 50 a 54 a\\u00f1os\",\"De 50 a 54 a\\u00f1os\",\"De 80 a 84 a\\u00f1os  \",\"De 45 a 49 a\\u00f1os\",\"De 20 a 24 a\\u00f1os\",\"De 55 a 59 a\\u00f1os\",\"De 55 a 59 a\\u00f1os\",\"De 40 a 44 a\\u00f1os\",\"De 80 a 84 a\\u00f1os  \",\"De 65 a 69 a\\u00f1os\",\"De 25 a 29 a\\u00f1os\",\"De 75 a 79 a\\u00f1os  \",\"De 70 a 74 a\\u00f1os  \",\"De 75 a 79 a\\u00f1os  \",\"De 70 a 74 a\\u00f1os  \",\"De 50 a 54 a\\u00f1os\",\"De 30 a 34 a\\u00f1os\",\"De 60 a 64 a\\u00f1os\",\"De 70 a 74 a\\u00f1os  \",\"De 65 a 69 a\\u00f1os\",\"De 70 a 74 a\\u00f1os  \",\"De 20 a 24 a\\u00f1os\",\"De 75 a 79 a\\u00f1os  \",\"De 60 a 64 a\\u00f1os\",\"De 50 a 54 a\\u00f1os\",\"De 80 a 84 a\\u00f1os  \",\"De 75 a 79 a\\u00f1os  \",\"De 85 a 89 a\\u00f1os  \",\"De 40 a 44 a\\u00f1os\",\"De 50 a 54 a\\u00f1os\",\"De 50 a 54 a\\u00f1os\",\"De 45 a 49 a\\u00f1os\",\"De 20 a 24 a\\u00f1os\",\"De 25 a 29 a\\u00f1os\",\"De 20 a 24 a\\u00f1os\",\"De 75 a 79 a\\u00f1os  \",\"De 55 a 59 a\\u00f1os\",\"De 45 a 49 a\\u00f1os\",\"De 60 a 64 a\\u00f1os\",\"De 80 a 84 a\\u00f1os  \",\"De 25 a 29 a\\u00f1os\",\"De 70 a 74 a\\u00f1os  \",\"De 45 a 49 a\\u00f1os\",\"De 55 a 59 a\\u00f1os\",\"De 65 a 69 a\\u00f1os\",\"De 40 a 44 a\\u00f1os\",\"De 80 a 84 a\\u00f1os  \",\"De 65 a 69 a\\u00f1os\",\"De 70 a 74 a\\u00f1os  \",\"De 50 a 54 a\\u00f1os\",\"De 55 a 59 a\\u00f1os\",\"De 60 a 64 a\\u00f1os\",\"De 65 a 69 a\\u00f1os\",\"De 70 a 74 a\\u00f1os  \",\"De 60 a 64 a\\u00f1os\",\"De 60 a 64 a\\u00f1os\",\"De 60 a 64 a\\u00f1os\",\"De 75 a 79 a\\u00f1os  \",\"De 20 a 24 a\\u00f1os\",\"De 45 a 49 a\\u00f1os\",\"De 70 a 74 a\\u00f1os  \",\"De 30 a 34 a\\u00f1os\",\"De 20 a 24 a\\u00f1os\",\"De 30 a 34 a\\u00f1os\",\"De 70 a 74 a\\u00f1os  \",\"De 70 a 74 a\\u00f1os  \",\"De 85 a 89 a\\u00f1os  \",\"De 45 a 49 a\\u00f1os\",\"De 30 a 34 a\\u00f1os\",\"De 25 a 29 a\\u00f1os\",\"De 80 a 84 a\\u00f1os  \",\"De 60 a 64 a\\u00f1os\",\"De 60 a 64 a\\u00f1os\",\"De 80 a 84 a\\u00f1os  \",\"De 75 a 79 a\\u00f1os  \",\"De 70 a 74 a\\u00f1os  \",\"De 80 a 84 a\\u00f1os  \",\"De 30 a 34 a\\u00f1os\",\"De 40 a 44 a\\u00f1os\",\"De 20 a 24 a\\u00f1os\",\"De 80 a 84 a\\u00f1os  \",\"De 65 a 69 a\\u00f1os\",\"De 65 a 69 a\\u00f1os\",\"De 70 a 74 a\\u00f1os  \",\"De 40 a 44 a\\u00f1os\",\"De 70 a 74 a\\u00f1os  \",\"De 20 a 24 a\\u00f1os\",\"De 75 a 79 a\\u00f1os  \",\"De 65 a 69 a\\u00f1os\",\"De 55 a 59 a\\u00f1os\",\"De 80 a 84 a\\u00f1os  \",\"De 50 a 54 a\\u00f1os\",\"De 35 a 39 a\\u00f1os\",\"De 85 a 89 a\\u00f1os  \",\"De 65 a 69 a\\u00f1os\",\"De 75 a 79 a\\u00f1os  \",\"De 45 a 49 a\\u00f1os\",\"De 35 a 39 a\\u00f1os\",\"De 30 a 34 a\\u00f1os\",\"De 55 a 59 a\\u00f1os\",\"De 45 a 49 a\\u00f1os\",\"De 75 a 79 a\\u00f1os  \",\"De 60 a 64 a\\u00f1os\",\"De 75 a 79 a\\u00f1os  \",\"De 30 a 34 a\\u00f1os\",\"De 50 a 54 a\\u00f1os\",\"De 85 a 89 a\\u00f1os  \",\"De 55 a 59 a\\u00f1os\",\"De 40 a 44 a\\u00f1os\",\"De 50 a 54 a\\u00f1os\",\"De 50 a 54 a\\u00f1os\",\"De 55 a 59 a\\u00f1os\",\"De 75 a 79 a\\u00f1os  \",\"De 80 a 84 a\\u00f1os  \",\"De 80 a 84 a\\u00f1os  \",\"De 30 a 34 a\\u00f1os\",\"De 60 a 64 a\\u00f1os\",\"De 45 a 49 a\\u00f1os\",\"De 55 a 59 a\\u00f1os\",\"De 35 a 39 a\\u00f1os\",\"De 80 a 84 a\\u00f1os  \",\"De 40 a 44 a\\u00f1os\",\"De 25 a 29 a\\u00f1os\",\"De 25 a 29 a\\u00f1os\",\"De 30 a 34 a\\u00f1os\",\"De 20 a 24 a\\u00f1os\",\"De 80 a 84 a\\u00f1os  \",\"De 85 a 89 a\\u00f1os  \",\"De 45 a 49 a\\u00f1os\",\"De 70 a 74 a\\u00f1os  \",\"De 80 a 84 a\\u00f1os  \",\"De 35 a 39 a\\u00f1os\",\"De 45 a 49 a\\u00f1os\",\"De 30 a 34 a\\u00f1os\",\"De 50 a 54 a\\u00f1os\",\"De 25 a 29 a\\u00f1os\",\"De 35 a 39 a\\u00f1os\",\"De 20 a 24 a\\u00f1os\",\"De 80 a 84 a\\u00f1os  \",\"De 80 a 84 a\\u00f1os  \",\"De 45 a 49 a\\u00f1os\",\"De 20 a 24 a\\u00f1os\",\"De 45 a 49 a\\u00f1os\",\"De 35 a 39 a\\u00f1os\",\"De 20 a 24 a\\u00f1os\",\"De 50 a 54 a\\u00f1os\",\"De 55 a 59 a\\u00f1os\",\"De 65 a 69 a\\u00f1os\",\"De 80 a 84 a\\u00f1os  \",\"De 40 a 44 a\\u00f1os\",\"De 50 a 54 a\\u00f1os\",\"De 80 a 84 a\\u00f1os  \",\"De 20 a 24 a\\u00f1os\",\"De 85 a 89 a\\u00f1os  \",\"De 70 a 74 a\\u00f1os  \",\"De 40 a 44 a\\u00f1os\",\"De 40 a 44 a\\u00f1os\",\"De 25 a 29 a\\u00f1os\",\"De 85 a 89 a\\u00f1os  \",\"De 65 a 69 a\\u00f1os\",\"De 25 a 29 a\\u00f1os\",\"De 85 a 89 a\\u00f1os  \",\"De 20 a 24 a\\u00f1os\",\"De 35 a 39 a\\u00f1os\",\"De 40 a 44 a\\u00f1os\",\"De 20 a 24 a\\u00f1os\",\"De 85 a 89 a\\u00f1os  \",\"De 85 a 89 a\\u00f1os  \",\"De 65 a 69 a\\u00f1os\",\"De 25 a 29 a\\u00f1os\",\"De 45 a 49 a\\u00f1os\",\"De 85 a 89 a\\u00f1os  \",\"De 25 a 29 a\\u00f1os\",\"De 70 a 74 a\\u00f1os  \",\"De 35 a 39 a\\u00f1os\",\"De 40 a 44 a\\u00f1os\",\"De 85 a 89 a\\u00f1os  \",\"De 60 a 64 a\\u00f1os\",\"De 65 a 69 a\\u00f1os\",\"De 40 a 44 a\\u00f1os\",\"De 35 a 39 a\\u00f1os\",\"De 85 a 89 a\\u00f1os  \",\"De 75 a 79 a\\u00f1os  \",\"De 45 a 49 a\\u00f1os\",\"De 15 a 19 a\\u00f1os  \",\"De 45 a 49 a\\u00f1os\",\"De 45 a 49 a\\u00f1os\",\"De 40 a 44 a\\u00f1os\",\"De 15 a 19 a\\u00f1os  \",\"De 20 a 24 a\\u00f1os\",\"De 80 a 84 a\\u00f1os  \",\"De 20 a 24 a\\u00f1os\",\"De 25 a 29 a\\u00f1os\",\"De 85 a 89 a\\u00f1os  \",\"De 25 a 29 a\\u00f1os\",\"De 85 a 89 a\\u00f1os  \",\"De 25 a 29 a\\u00f1os\",\"De 30 a 34 a\\u00f1os\",\"De 20 a 24 a\\u00f1os\",\"De 25 a 29 a\\u00f1os\",\"De 20 a 24 a\\u00f1os\",\"De 85 a 89 a\\u00f1os  \",\"De 60 a 64 a\\u00f1os\",\"De 35 a 39 a\\u00f1os\",\"De 20 a 24 a\\u00f1os\",\"De 85 a 89 a\\u00f1os  \",\"De 30 a 34 a\\u00f1os\",\"De 85 a 89 a\\u00f1os  \",\"De 75 a 79 a\\u00f1os  \",\"De 85 a 89 a\\u00f1os  \",\"De 80 a 84 a\\u00f1os  \",\"De 35 a 39 a\\u00f1os\",\"De 30 a 34 a\\u00f1os\",\"De 85 a 89 a\\u00f1os  \",\"De 85 a 89 a\\u00f1os  \",\"De 85 a 89 a\\u00f1os  \",\"De 70 a 74 a\\u00f1os  \",\"De 80 a 84 a\\u00f1os  \",\"De 85 a 89 a\\u00f1os  \",\"De 20 a 24 a\\u00f1os\",\"De 20 a 24 a\\u00f1os\",\"De 85 a 89 a\\u00f1os  \",\"De 25 a 29 a\\u00f1os\",\"De 15 a 19 a\\u00f1os  \",\"De 15 a 19 a\\u00f1os  \",\"De 30 a 34 a\\u00f1os\",\"De 40 a 44 a\\u00f1os\",\"De 15 a 19 a\\u00f1os  \",\"De 15 a 19 a\\u00f1os  \",\"De 15 a 19 a\\u00f1os  \",\"De 15 a 19 a\\u00f1os  \",\"De 85 a 89 a\\u00f1os  \",\"De 25 a 29 a\\u00f1os\",\"De 15 a 19 a\\u00f1os  \",\"De 35 a 39 a\\u00f1os\",\"De 20 a 24 a\\u00f1os\",\"De 15 a 19 a\\u00f1os  \",\"De 40 a 44 a\\u00f1os\",\"De 30 a 34 a\\u00f1os\",\"De 75 a 79 a\\u00f1os  \",\"De 35 a 39 a\\u00f1os\",\"De 25 a 29 a\\u00f1os\",\"De 65 a 69 a\\u00f1os\",\"De 25 a 29 a\\u00f1os\",\"De 85 a 89 a\\u00f1os  \",\"De 15 a 19 a\\u00f1os  \",\"De 15 a 19 a\\u00f1os  \",\"De 65 a 69 a\\u00f1os\",\"De 15 a 19 a\\u00f1os  \",\"De 20 a 24 a\\u00f1os\",\"De 15 a 19 a\\u00f1os  \",\"De 20 a 24 a\\u00f1os\",\"De 20 a 24 a\\u00f1os\",\"De 15 a 19 a\\u00f1os  \",\"De 85 a 89 a\\u00f1os  \",\"De 40 a 44 a\\u00f1os\",\"De 35 a 39 a\\u00f1os\",\"De 20 a 24 a\\u00f1os\",\"De 30 a 34 a\\u00f1os\",\"De 85 a 89 a\\u00f1os  \",\"De 40 a 44 a\\u00f1os\",\"De 15 a 19 a\\u00f1os  \",\"De 85 a 89 a\\u00f1os  \",\"De 80 a 84 a\\u00f1os  \",\"De 20 a 24 a\\u00f1os\",\"De 90 a 94 a\\u00f1os  \",\"De 15 a 19 a\\u00f1os  \",\"De 90 a 94 a\\u00f1os  \",\"De 90 a 94 a\\u00f1os  \",\"De 15 a 19 a\\u00f1os  \",\"De 85 a 89 a\\u00f1os  \",\"De 80 a 84 a\\u00f1os  \",\"De 15 a 19 a\\u00f1os  \",\"De 15 a 19 a\\u00f1os  \",\"De 15 a 19 a\\u00f1os  \",\"De 15 a 19 a\\u00f1os  \",\"De 85 a 89 a\\u00f1os  \",\"De 90 a 94 a\\u00f1os  \",\"De 80 a 84 a\\u00f1os  \",\"De 90 a 94 a\\u00f1os  \",\"De 85 a 89 a\\u00f1os  \",\"De 15 a 19 a\\u00f1os  \",\"De 15 a 19 a\\u00f1os  \",\"De 85 a 89 a\\u00f1os  \",\"De 90 a 94 a\\u00f1os  \",\"De 90 a 94 a\\u00f1os  \",\"De 15 a 19 a\\u00f1os  \",\"De 85 a 89 a\\u00f1os  \",\"De 15 a 19 a\\u00f1os  \",\"De 90 a 94 a\\u00f1os  \",\"De 15 a 19 a\\u00f1os  \",\"De 15 a 19 a\\u00f1os  \",\"De 90 a 94 a\\u00f1os  \",\"De 15 a 19 a\\u00f1os  \",\"De 15 a 19 a\\u00f1os  \",\"De 15 a 19 a\\u00f1os  \",\"De 15 a 19 a\\u00f1os  \",\"De 15 a 19 a\\u00f1os  \",\"De 90 a 94 a\\u00f1os  \",\"De 90 a 94 a\\u00f1os  \",\"De 15 a 19 a\\u00f1os  \",\"De 90 a 94 a\\u00f1os  \",\"De 90 a 94 a\\u00f1os  \",\"De 90 a 94 a\\u00f1os  \",\"De 15 a 19 a\\u00f1os  \",\"De 90 a 94 a\\u00f1os  \",\"De 15 a 19 a\\u00f1os  \",\"De 90 a 94 a\\u00f1os  \",\"De 90 a 94 a\\u00f1os  \",\"De 90 a 94 a\\u00f1os  \",\"De 90 a 94 a\\u00f1os  \",\"De 15 a 19 a\\u00f1os  \",\"De 90 a 94 a\\u00f1os  \",\"De 85 a 89 a\\u00f1os  \",\"De 85 a 89 a\\u00f1os  \",\"De 85 a 89 a\\u00f1os  \",\"De 90 a 94 a\\u00f1os  \",\"De 90 a 94 a\\u00f1os  \",\"De 90 a 94 a\\u00f1os  \",\"De 90 a 94 a\\u00f1os  \",\"De 90 a 94 a\\u00f1os  \",\"De 15 a 19 a\\u00f1os  \",\"De 15 a 19 a\\u00f1os  \",\"De 90 a 94 a\\u00f1os  \",\"De 85 a 89 a\\u00f1os  \",\"De 10 a 14 a\\u00f1os  \",\"De 10 a 14 a\\u00f1os  \",\"De 90 a 94 a\\u00f1os  \",\"De 10 a 14 a\\u00f1os  \",\"De 10 a 14 a\\u00f1os  \",\"De 90 a 94 a\\u00f1os  \",\"De 10 a 14 a\\u00f1os  \",\"De 85 a 89 a\\u00f1os  \",\"De 10 a 14 a\\u00f1os  \",\"De 10 a 14 a\\u00f1os  \",\"De 10 a 14 a\\u00f1os  \",\"De 10 a 14 a\\u00f1os  \",\"De 90 a 94 a\\u00f1os  \",\"De 90 a 94 a\\u00f1os  \",\"De 90 a 94 a\\u00f1os  \",\"De 90 a 94 a\\u00f1os  \",\"95 y m\\u00e1s a\\u00f1os\",\"95 y m\\u00e1s a\\u00f1os\",\"95 y m\\u00e1s a\\u00f1os\",\"De 10 a 14 a\\u00f1os  \",\"95 y m\\u00e1s a\\u00f1os\",\"De 10 a 14 a\\u00f1os  \",\"De 10 a 14 a\\u00f1os  \",\"De 10 a 14 a\\u00f1os  \",\"95 y m\\u00e1s a\\u00f1os\",\"De 90 a 94 a\\u00f1os  \",\"De 90 a 94 a\\u00f1os  \",\"De 10 a 14 a\\u00f1os  \",\"95 y m\\u00e1s a\\u00f1os\",\"95 y m\\u00e1s a\\u00f1os\",\"95 y m\\u00e1s a\\u00f1os\",\"De 90 a 94 a\\u00f1os  \",\"95 y m\\u00e1s a\\u00f1os\",\"De 10 a 14 a\\u00f1os  \",\"De 10 a 14 a\\u00f1os  \",\"95 y m\\u00e1s a\\u00f1os\",\"De 90 a 94 a\\u00f1os  \",\"De 90 a 94 a\\u00f1os  \",\"De 10 a 14 a\\u00f1os  \",\"De 10 a 14 a\\u00f1os  \",\"95 y m\\u00e1s a\\u00f1os\",\"95 y m\\u00e1s a\\u00f1os\",\"De 90 a 94 a\\u00f1os  \",\"De 10 a 14 a\\u00f1os  \",\"De 10 a 14 a\\u00f1os  \",\"De 10 a 14 a\\u00f1os  \",\"De 10 a 14 a\\u00f1os  \",\"95 y m\\u00e1s a\\u00f1os\",\"95 y m\\u00e1s a\\u00f1os\",\"De 10 a 14 a\\u00f1os  \",\"95 y m\\u00e1s a\\u00f1os\",\"De 10 a 14 a\\u00f1os  \",\"De 90 a 94 a\\u00f1os  \",\"De 10 a 14 a\\u00f1os  \",\"De 10 a 14 a\\u00f1os  \",\"De 10 a 14 a\\u00f1os  \",\"95 y m\\u00e1s a\\u00f1os\",\"95 y m\\u00e1s a\\u00f1os\",\"95 y m\\u00e1s a\\u00f1os\",\"95 y m\\u00e1s a\\u00f1os\",\"De 10 a 14 a\\u00f1os  \",\"95 y m\\u00e1s a\\u00f1os\",\"95 y m\\u00e1s a\\u00f1os\",\"De 10 a 14 a\\u00f1os  \",\"De 10 a 14 a\\u00f1os  \",\"De 10 a 14 a\\u00f1os  \",\"De 10 a 14 a\\u00f1os  \",\"95 y m\\u00e1s a\\u00f1os\",\"95 y m\\u00e1s a\\u00f1os\",\"95 y m\\u00e1s a\\u00f1os\",\"De 10 a 14 a\\u00f1os  \",\"95 y m\\u00e1s a\\u00f1os\",\"95 y m\\u00e1s a\\u00f1os\",\"95 y m\\u00e1s a\\u00f1os\",\"95 y m\\u00e1s a\\u00f1os\",\"95 y m\\u00e1s a\\u00f1os\",\"95 y m\\u00e1s a\\u00f1os\",\"De 10 a 14 a\\u00f1os  \",\"De 10 a 14 a\\u00f1os  \",\"95 y m\\u00e1s a\\u00f1os\",\"De 10 a 14 a\\u00f1os  \",\"De 10 a 14 a\\u00f1os  \",\"De 10 a 14 a\\u00f1os  \",\"95 y m\\u00e1s a\\u00f1os\",\"95 y m\\u00e1s a\\u00f1os\",\"95 y m\\u00e1s a\\u00f1os\",\"De 5 a 9 a\\u00f1os\",\"95 y m\\u00e1s a\\u00f1os\",\"De 5 a 9 a\\u00f1os\",\"De 5 a 9 a\\u00f1os\",\"De 5 a 9 a\\u00f1os\",\"95 y m\\u00e1s a\\u00f1os\",\"De 5 a 9 a\\u00f1os\",\"De 5 a 9 a\\u00f1os\",\"De 5 a 9 a\\u00f1os\",\"De 5 a 9 a\\u00f1os\",\"De 10 a 14 a\\u00f1os  \",\"95 y m\\u00e1s a\\u00f1os\"],\"xaxis\":\"x\",\"y\":[344,340,337,319,305,298,293,291,288,285,282,280,279,276,275,275,274,269,268,266,264,262,262,259,254,251,249,247,246,246,244,243,243,242,242,241,239,238,237,236,236,234,234,230,230,229,229,228,228,228,226,225,225,225,224,223,223,221,221,221,221,221,219,219,219,218,217,216,216,215,214,214,213,213,212,211,210,210,210,209,209,209,209,209,208,207,206,206,205,205,205,205,205,204,204,203,203,203,202,202,201,201,200,200,200,200,199,199,199,199,199,198,198,198,198,197,197,197,197,197,197,196,196,196,196,195,195,194,194,193,193,193,192,192,192,191,191,191,190,189,189,188,188,188,187,187,187,187,187,187,187,186,186,186,185,185,185,185,184,184,184,183,183,183,183,183,183,182,182,182,182,181,181,181,181,181,181,180,180,180,180,180,179,179,179,179,179,179,179,179,179,179,178,178,177,177,177,177,176,176,176,176,176,176,175,175,175,175,175,175,175,174,174,174,174,173,173,173,172,172,172,172,172,171,171,171,170,170,170,170,170,170,170,170,169,169,169,168,168,168,167,167,167,167,167,166,166,166,166,165,165,165,165,165,165,164,164,164,164,164,163,163,163,163,162,162,162,162,161,161,161,161,161,160,160,159,159,159,159,158,158,158,158,158,158,158,158,157,157,157,157,157,157,156,156,156,156,155,155,155,155,155,155,155,154,154,154,154,153,152,152,152,152,152,152,151,151,150,150,150,149,149,149,149,149,149,148,148,148,147,147,147,147,147,146,146,146,145,145,145,145,145,145,145,145,144,144,144,143,143,143,143,143,143,142,142,142,142,141,141,141,140,140,140,140,140,139,139,139,139,138,138,137,137,137,136,136,136,134,133,133,133,133,133,132,132,132,132,132,132,131,131,131,130,130,129,129,129,129,129,128,128,127,127,127,126,125,125,125,123,123,122,122,122,121,121,120,120,120,120,119,119,119,118,117,117,116,116,116,116,116,115,114,114,114,113,112,112,111,111,110,110,110,110,110,109,109,108,108,108,108,106,106,106,105,105,104,103,103,103,103,103,103,103,102,102,102,102,101,101,101,101,100,100,98,98,98,97,96,96,96,94,94,93,93,92,92,92,92,91,91,91,88,87,86,86,86,85,85,85,85,85,84,84,84,84,83,83,82,82,82,82,81,81,81,80,79,78,78,78,77,77,77,76,76,76,75,75,74,74,71,71,71,71,70,70,68,68,68,67,67,66,66,65,64,63,62,62,62,60,60,60,56,56,56,55,54,52,52,51,51,51,50,50,50,48,47,46,45,43,43,41,41,41,40,40,39,38,38,37,37,37,36,35,35,35,34,34,34,33,33,33,33,32,31,31,30,30,30,29,29,28,27,27,24,22,22,22,22,20,20,19,19,19,19,18,18,18,17,15,15,14,13,13,12,12,12,12,12,11,11,11,11,10,10,10,10,9,9,9,9,9,8,8,8,8,8,7,7,7,7,7,7,7,7,7,7,7,6,6,6,6,6,6,6,6,5,5,5,5,5,5,5,4,4,4,4,4,4,4,4,3,3,3,3,3,3,3,2,2,2,2,2,2,2,2,2,1,1,1,1,1,1,1,1,1,1,1],\"yaxis\":\"y\",\"type\":\"bar\"},{\"alignmentgroup\":\"True\",\"hovertemplate\":\"Sexo=Mujeres<br>Edad=%{x}<br>Total=%{y}<extra></extra>\",\"legendgroup\":\"Mujeres\",\"marker\":{\"color\":\"#EF553B\",\"pattern\":{\"shape\":\"\"}},\"name\":\"Mujeres\",\"offsetgroup\":\"Mujeres\",\"orientation\":\"v\",\"showlegend\":true,\"textposition\":\"auto\",\"x\":[\"De 45 a 49 a\\u00f1os\",\"De 50 a 54 a\\u00f1os\",\"De 45 a 49 a\\u00f1os\",\"De 50 a 54 a\\u00f1os\",\"De 55 a 59 a\\u00f1os\",\"De 55 a 59 a\\u00f1os\",\"De 40 a 44 a\\u00f1os\",\"De 50 a 54 a\\u00f1os\",\"De 40 a 44 a\\u00f1os\",\"De 45 a 49 a\\u00f1os\",\"De 65 a 69 a\\u00f1os\",\"De 65 a 69 a\\u00f1os\",\"De 40 a 44 a\\u00f1os\",\"De 50 a 54 a\\u00f1os\",\"De 40 a 44 a\\u00f1os\",\"De 45 a 49 a\\u00f1os\",\"De 50 a 54 a\\u00f1os\",\"De 55 a 59 a\\u00f1os\",\"De 70 a 74 a\\u00f1os  \",\"De 70 a 74 a\\u00f1os  \",\"De 60 a 64 a\\u00f1os\",\"De 50 a 54 a\\u00f1os\",\"De 40 a 44 a\\u00f1os\",\"De 50 a 54 a\\u00f1os\",\"De 65 a 69 a\\u00f1os\",\"De 65 a 69 a\\u00f1os\",\"De 55 a 59 a\\u00f1os\",\"De 70 a 74 a\\u00f1os  \",\"De 70 a 74 a\\u00f1os  \",\"De 70 a 74 a\\u00f1os  \",\"De 70 a 74 a\\u00f1os  \",\"De 70 a 74 a\\u00f1os  \",\"De 65 a 69 a\\u00f1os\",\"De 55 a 59 a\\u00f1os\",\"De 65 a 69 a\\u00f1os\",\"De 65 a 69 a\\u00f1os\",\"De 40 a 44 a\\u00f1os\",\"De 45 a 49 a\\u00f1os\",\"De 65 a 69 a\\u00f1os\",\"De 75 a 79 a\\u00f1os  \",\"De 55 a 59 a\\u00f1os\",\"De 60 a 64 a\\u00f1os\",\"De 35 a 39 a\\u00f1os\",\"De 50 a 54 a\\u00f1os\",\"De 65 a 69 a\\u00f1os\",\"De 55 a 59 a\\u00f1os\",\"De 65 a 69 a\\u00f1os\",\"De 60 a 64 a\\u00f1os\",\"De 70 a 74 a\\u00f1os  \",\"De 55 a 59 a\\u00f1os\",\"De 65 a 69 a\\u00f1os\",\"De 40 a 44 a\\u00f1os\",\"De 75 a 79 a\\u00f1os  \",\"De 60 a 64 a\\u00f1os\",\"De 70 a 74 a\\u00f1os  \",\"De 40 a 44 a\\u00f1os\",\"De 75 a 79 a\\u00f1os  \",\"De 40 a 44 a\\u00f1os\",\"De 60 a 64 a\\u00f1os\",\"De 65 a 69 a\\u00f1os\",\"De 60 a 64 a\\u00f1os\",\"De 65 a 69 a\\u00f1os\",\"De 70 a 74 a\\u00f1os  \",\"De 60 a 64 a\\u00f1os\",\"De 60 a 64 a\\u00f1os\",\"De 55 a 59 a\\u00f1os\",\"De 60 a 64 a\\u00f1os\",\"De 70 a 74 a\\u00f1os  \",\"De 40 a 44 a\\u00f1os\",\"De 70 a 74 a\\u00f1os  \",\"De 65 a 69 a\\u00f1os\",\"De 45 a 49 a\\u00f1os\",\"De 45 a 49 a\\u00f1os\",\"De 65 a 69 a\\u00f1os\",\"De 70 a 74 a\\u00f1os  \",\"De 40 a 44 a\\u00f1os\",\"De 35 a 39 a\\u00f1os\",\"De 60 a 64 a\\u00f1os\",\"De 60 a 64 a\\u00f1os\",\"De 45 a 49 a\\u00f1os\",\"De 60 a 64 a\\u00f1os\",\"De 60 a 64 a\\u00f1os\",\"De 50 a 54 a\\u00f1os\",\"De 70 a 74 a\\u00f1os  \",\"De 60 a 64 a\\u00f1os\",\"De 65 a 69 a\\u00f1os\",\"De 35 a 39 a\\u00f1os\",\"De 35 a 39 a\\u00f1os\",\"De 55 a 59 a\\u00f1os\",\"De 55 a 59 a\\u00f1os\",\"De 50 a 54 a\\u00f1os\",\"De 75 a 79 a\\u00f1os  \",\"De 70 a 74 a\\u00f1os  \",\"De 40 a 44 a\\u00f1os\",\"De 60 a 64 a\\u00f1os\",\"De 70 a 74 a\\u00f1os  \",\"De 35 a 39 a\\u00f1os\",\"De 75 a 79 a\\u00f1os  \",\"De 45 a 49 a\\u00f1os\",\"De 45 a 49 a\\u00f1os\",\"De 35 a 39 a\\u00f1os\",\"De 45 a 49 a\\u00f1os\",\"De 45 a 49 a\\u00f1os\",\"De 65 a 69 a\\u00f1os\",\"De 75 a 79 a\\u00f1os  \",\"De 60 a 64 a\\u00f1os\",\"De 65 a 69 a\\u00f1os\",\"De 55 a 59 a\\u00f1os\",\"De 65 a 69 a\\u00f1os\",\"De 75 a 79 a\\u00f1os  \",\"De 75 a 79 a\\u00f1os  \",\"De 70 a 74 a\\u00f1os  \",\"De 70 a 74 a\\u00f1os  \",\"De 75 a 79 a\\u00f1os  \",\"De 75 a 79 a\\u00f1os  \",\"De 50 a 54 a\\u00f1os\",\"De 65 a 69 a\\u00f1os\",\"De 75 a 79 a\\u00f1os  \",\"De 70 a 74 a\\u00f1os  \",\"De 75 a 79 a\\u00f1os  \",\"De 60 a 64 a\\u00f1os\",\"De 75 a 79 a\\u00f1os  \",\"De 75 a 79 a\\u00f1os  \",\"De 70 a 74 a\\u00f1os  \",\"De 65 a 69 a\\u00f1os\",\"De 65 a 69 a\\u00f1os\",\"De 50 a 54 a\\u00f1os\",\"De 50 a 54 a\\u00f1os\",\"De 35 a 39 a\\u00f1os\",\"De 55 a 59 a\\u00f1os\",\"De 55 a 59 a\\u00f1os\",\"De 45 a 49 a\\u00f1os\",\"De 60 a 64 a\\u00f1os\",\"De 50 a 54 a\\u00f1os\",\"De 40 a 44 a\\u00f1os\",\"De 65 a 69 a\\u00f1os\",\"De 70 a 74 a\\u00f1os  \",\"De 60 a 64 a\\u00f1os\",\"De 70 a 74 a\\u00f1os  \",\"De 35 a 39 a\\u00f1os\",\"De 70 a 74 a\\u00f1os  \",\"De 40 a 44 a\\u00f1os\",\"De 30 a 34 a\\u00f1os\",\"De 70 a 74 a\\u00f1os  \",\"De 40 a 44 a\\u00f1os\",\"De 25 a 29 a\\u00f1os\",\"De 50 a 54 a\\u00f1os\",\"De 70 a 74 a\\u00f1os  \",\"De 55 a 59 a\\u00f1os\",\"De 65 a 69 a\\u00f1os\",\"De 75 a 79 a\\u00f1os  \",\"De 60 a 64 a\\u00f1os\",\"De 70 a 74 a\\u00f1os  \",\"De 65 a 69 a\\u00f1os\",\"De 60 a 64 a\\u00f1os\",\"De 45 a 49 a\\u00f1os\",\"De 75 a 79 a\\u00f1os  \",\"De 70 a 74 a\\u00f1os  \",\"De 50 a 54 a\\u00f1os\",\"De 50 a 54 a\\u00f1os\",\"De 60 a 64 a\\u00f1os\",\"De 75 a 79 a\\u00f1os  \",\"De 50 a 54 a\\u00f1os\",\"De 55 a 59 a\\u00f1os\",\"De 35 a 39 a\\u00f1os\",\"De 70 a 74 a\\u00f1os  \",\"De 55 a 59 a\\u00f1os\",\"De 50 a 54 a\\u00f1os\",\"De 60 a 64 a\\u00f1os\",\"De 60 a 64 a\\u00f1os\",\"De 55 a 59 a\\u00f1os\",\"De 35 a 39 a\\u00f1os\",\"De 75 a 79 a\\u00f1os  \",\"De 70 a 74 a\\u00f1os  \",\"De 35 a 39 a\\u00f1os\",\"De 55 a 59 a\\u00f1os\",\"De 45 a 49 a\\u00f1os\",\"De 60 a 64 a\\u00f1os\",\"De 60 a 64 a\\u00f1os\",\"De 35 a 39 a\\u00f1os\",\"De 65 a 69 a\\u00f1os\",\"De 65 a 69 a\\u00f1os\",\"De 30 a 34 a\\u00f1os\",\"De 60 a 64 a\\u00f1os\",\"De 55 a 59 a\\u00f1os\",\"De 75 a 79 a\\u00f1os  \",\"De 75 a 79 a\\u00f1os  \",\"De 60 a 64 a\\u00f1os\",\"De 75 a 79 a\\u00f1os  \",\"De 70 a 74 a\\u00f1os  \",\"De 50 a 54 a\\u00f1os\",\"De 50 a 54 a\\u00f1os\",\"De 80 a 84 a\\u00f1os  \",\"De 80 a 84 a\\u00f1os  \",\"De 55 a 59 a\\u00f1os\",\"De 60 a 64 a\\u00f1os\",\"De 55 a 59 a\\u00f1os\",\"De 60 a 64 a\\u00f1os\",\"De 65 a 69 a\\u00f1os\",\"De 75 a 79 a\\u00f1os  \",\"De 75 a 79 a\\u00f1os  \",\"De 35 a 39 a\\u00f1os\",\"De 80 a 84 a\\u00f1os  \",\"De 55 a 59 a\\u00f1os\",\"De 55 a 59 a\\u00f1os\",\"De 40 a 44 a\\u00f1os\",\"De 60 a 64 a\\u00f1os\",\"De 45 a 49 a\\u00f1os\",\"De 65 a 69 a\\u00f1os\",\"De 40 a 44 a\\u00f1os\",\"De 30 a 34 a\\u00f1os\",\"De 45 a 49 a\\u00f1os\",\"De 75 a 79 a\\u00f1os  \",\"De 40 a 44 a\\u00f1os\",\"De 80 a 84 a\\u00f1os  \",\"De 65 a 69 a\\u00f1os\",\"De 70 a 74 a\\u00f1os  \",\"De 65 a 69 a\\u00f1os\",\"De 50 a 54 a\\u00f1os\",\"De 75 a 79 a\\u00f1os  \",\"De 50 a 54 a\\u00f1os\",\"De 70 a 74 a\\u00f1os  \",\"De 80 a 84 a\\u00f1os  \",\"De 35 a 39 a\\u00f1os\",\"De 30 a 34 a\\u00f1os\",\"De 75 a 79 a\\u00f1os  \",\"De 35 a 39 a\\u00f1os\",\"De 70 a 74 a\\u00f1os  \",\"De 75 a 79 a\\u00f1os  \",\"De 65 a 69 a\\u00f1os\",\"De 50 a 54 a\\u00f1os\",\"De 70 a 74 a\\u00f1os  \",\"De 35 a 39 a\\u00f1os\",\"De 45 a 49 a\\u00f1os\",\"De 60 a 64 a\\u00f1os\",\"De 55 a 59 a\\u00f1os\",\"De 55 a 59 a\\u00f1os\",\"De 65 a 69 a\\u00f1os\",\"De 80 a 84 a\\u00f1os  \",\"De 65 a 69 a\\u00f1os\",\"De 30 a 34 a\\u00f1os\",\"De 35 a 39 a\\u00f1os\",\"De 40 a 44 a\\u00f1os\",\"De 55 a 59 a\\u00f1os\",\"De 30 a 34 a\\u00f1os\",\"De 35 a 39 a\\u00f1os\",\"De 50 a 54 a\\u00f1os\",\"De 50 a 54 a\\u00f1os\",\"De 80 a 84 a\\u00f1os  \",\"De 50 a 54 a\\u00f1os\",\"De 25 a 29 a\\u00f1os\",\"De 25 a 29 a\\u00f1os\",\"De 80 a 84 a\\u00f1os  \",\"De 75 a 79 a\\u00f1os  \",\"De 55 a 59 a\\u00f1os\",\"De 80 a 84 a\\u00f1os  \",\"De 35 a 39 a\\u00f1os\",\"De 50 a 54 a\\u00f1os\",\"De 80 a 84 a\\u00f1os  \",\"De 35 a 39 a\\u00f1os\",\"De 35 a 39 a\\u00f1os\",\"De 25 a 29 a\\u00f1os\",\"De 55 a 59 a\\u00f1os\",\"De 30 a 34 a\\u00f1os\",\"De 30 a 34 a\\u00f1os\",\"De 55 a 59 a\\u00f1os\",\"De 35 a 39 a\\u00f1os\",\"De 50 a 54 a\\u00f1os\",\"De 60 a 64 a\\u00f1os\",\"De 75 a 79 a\\u00f1os  \",\"De 40 a 44 a\\u00f1os\",\"De 55 a 59 a\\u00f1os\",\"De 60 a 64 a\\u00f1os\",\"De 50 a 54 a\\u00f1os\",\"De 30 a 34 a\\u00f1os\",\"De 75 a 79 a\\u00f1os  \",\"De 55 a 59 a\\u00f1os\",\"De 55 a 59 a\\u00f1os\",\"De 80 a 84 a\\u00f1os  \",\"De 50 a 54 a\\u00f1os\",\"De 45 a 49 a\\u00f1os\",\"De 75 a 79 a\\u00f1os  \",\"De 80 a 84 a\\u00f1os  \",\"De 80 a 84 a\\u00f1os  \",\"De 65 a 69 a\\u00f1os\",\"De 80 a 84 a\\u00f1os  \",\"De 80 a 84 a\\u00f1os  \",\"De 40 a 44 a\\u00f1os\",\"De 55 a 59 a\\u00f1os\",\"De 80 a 84 a\\u00f1os  \",\"De 50 a 54 a\\u00f1os\",\"De 50 a 54 a\\u00f1os\",\"De 75 a 79 a\\u00f1os  \",\"De 55 a 59 a\\u00f1os\",\"De 50 a 54 a\\u00f1os\",\"De 60 a 64 a\\u00f1os\",\"De 80 a 84 a\\u00f1os  \",\"De 80 a 84 a\\u00f1os  \",\"De 65 a 69 a\\u00f1os\",\"De 75 a 79 a\\u00f1os  \",\"De 30 a 34 a\\u00f1os\",\"De 40 a 44 a\\u00f1os\",\"De 50 a 54 a\\u00f1os\",\"De 55 a 59 a\\u00f1os\",\"De 45 a 49 a\\u00f1os\",\"De 45 a 49 a\\u00f1os\",\"De 80 a 84 a\\u00f1os  \",\"De 35 a 39 a\\u00f1os\",\"De 30 a 34 a\\u00f1os\",\"De 50 a 54 a\\u00f1os\",\"De 35 a 39 a\\u00f1os\",\"De 25 a 29 a\\u00f1os\",\"De 20 a 24 a\\u00f1os\",\"De 75 a 79 a\\u00f1os  \",\"De 30 a 34 a\\u00f1os\",\"De 60 a 64 a\\u00f1os\",\"De 30 a 34 a\\u00f1os\",\"De 30 a 34 a\\u00f1os\",\"De 80 a 84 a\\u00f1os  \",\"De 80 a 84 a\\u00f1os  \",\"De 60 a 64 a\\u00f1os\",\"De 70 a 74 a\\u00f1os  \",\"De 80 a 84 a\\u00f1os  \",\"De 25 a 29 a\\u00f1os\",\"De 35 a 39 a\\u00f1os\",\"De 80 a 84 a\\u00f1os  \",\"De 30 a 34 a\\u00f1os\",\"De 80 a 84 a\\u00f1os  \",\"De 25 a 29 a\\u00f1os\",\"De 80 a 84 a\\u00f1os  \",\"De 70 a 74 a\\u00f1os  \",\"De 30 a 34 a\\u00f1os\",\"De 35 a 39 a\\u00f1os\",\"De 45 a 49 a\\u00f1os\",\"De 45 a 49 a\\u00f1os\",\"De 20 a 24 a\\u00f1os\",\"De 80 a 84 a\\u00f1os  \",\"De 35 a 39 a\\u00f1os\",\"De 30 a 34 a\\u00f1os\",\"De 30 a 34 a\\u00f1os\",\"De 75 a 79 a\\u00f1os  \",\"De 30 a 34 a\\u00f1os\",\"De 20 a 24 a\\u00f1os\",\"De 20 a 24 a\\u00f1os\",\"De 80 a 84 a\\u00f1os  \",\"De 25 a 29 a\\u00f1os\",\"De 80 a 84 a\\u00f1os  \",\"De 70 a 74 a\\u00f1os  \",\"De 85 a 89 a\\u00f1os  \",\"De 55 a 59 a\\u00f1os\",\"De 35 a 39 a\\u00f1os\",\"De 60 a 64 a\\u00f1os\",\"De 45 a 49 a\\u00f1os\",\"De 25 a 29 a\\u00f1os\",\"De 40 a 44 a\\u00f1os\",\"De 30 a 34 a\\u00f1os\",\"De 45 a 49 a\\u00f1os\",\"De 65 a 69 a\\u00f1os\",\"De 25 a 29 a\\u00f1os\",\"De 75 a 79 a\\u00f1os  \",\"De 45 a 49 a\\u00f1os\",\"De 30 a 34 a\\u00f1os\",\"De 70 a 74 a\\u00f1os  \",\"De 25 a 29 a\\u00f1os\",\"De 20 a 24 a\\u00f1os\",\"De 40 a 44 a\\u00f1os\",\"De 80 a 84 a\\u00f1os  \",\"De 45 a 49 a\\u00f1os\",\"De 40 a 44 a\\u00f1os\",\"De 55 a 59 a\\u00f1os\",\"De 80 a 84 a\\u00f1os  \",\"De 40 a 44 a\\u00f1os\",\"De 45 a 49 a\\u00f1os\",\"De 50 a 54 a\\u00f1os\",\"De 20 a 24 a\\u00f1os\",\"De 50 a 54 a\\u00f1os\",\"De 45 a 49 a\\u00f1os\",\"De 60 a 64 a\\u00f1os\",\"De 45 a 49 a\\u00f1os\",\"De 25 a 29 a\\u00f1os\",\"De 85 a 89 a\\u00f1os  \",\"De 75 a 79 a\\u00f1os  \",\"De 40 a 44 a\\u00f1os\",\"De 80 a 84 a\\u00f1os  \",\"De 20 a 24 a\\u00f1os\",\"De 25 a 29 a\\u00f1os\",\"De 30 a 34 a\\u00f1os\",\"De 85 a 89 a\\u00f1os  \",\"De 55 a 59 a\\u00f1os\",\"De 25 a 29 a\\u00f1os\",\"De 35 a 39 a\\u00f1os\",\"De 85 a 89 a\\u00f1os  \",\"De 30 a 34 a\\u00f1os\",\"De 45 a 49 a\\u00f1os\",\"De 45 a 49 a\\u00f1os\",\"De 65 a 69 a\\u00f1os\",\"De 80 a 84 a\\u00f1os  \",\"De 30 a 34 a\\u00f1os\",\"De 25 a 29 a\\u00f1os\",\"De 75 a 79 a\\u00f1os  \",\"De 70 a 74 a\\u00f1os  \",\"De 30 a 34 a\\u00f1os\",\"De 25 a 29 a\\u00f1os\",\"De 20 a 24 a\\u00f1os\",\"De 40 a 44 a\\u00f1os\",\"De 85 a 89 a\\u00f1os  \",\"De 80 a 84 a\\u00f1os  \",\"De 40 a 44 a\\u00f1os\",\"De 85 a 89 a\\u00f1os  \",\"De 85 a 89 a\\u00f1os  \",\"De 85 a 89 a\\u00f1os  \",\"De 45 a 49 a\\u00f1os\",\"De 75 a 79 a\\u00f1os  \",\"De 45 a 49 a\\u00f1os\",\"De 35 a 39 a\\u00f1os\",\"De 20 a 24 a\\u00f1os\",\"De 25 a 29 a\\u00f1os\",\"De 85 a 89 a\\u00f1os  \",\"De 85 a 89 a\\u00f1os  \",\"De 20 a 24 a\\u00f1os\",\"De 45 a 49 a\\u00f1os\",\"De 30 a 34 a\\u00f1os\",\"De 30 a 34 a\\u00f1os\",\"De 30 a 34 a\\u00f1os\",\"De 85 a 89 a\\u00f1os  \",\"De 25 a 29 a\\u00f1os\",\"De 25 a 29 a\\u00f1os\",\"De 30 a 34 a\\u00f1os\",\"De 85 a 89 a\\u00f1os  \",\"De 25 a 29 a\\u00f1os\",\"De 20 a 24 a\\u00f1os\",\"De 35 a 39 a\\u00f1os\",\"De 45 a 49 a\\u00f1os\",\"De 45 a 49 a\\u00f1os\",\"De 85 a 89 a\\u00f1os  \",\"De 20 a 24 a\\u00f1os\",\"De 35 a 39 a\\u00f1os\",\"De 85 a 89 a\\u00f1os  \",\"De 85 a 89 a\\u00f1os  \",\"De 45 a 49 a\\u00f1os\",\"De 25 a 29 a\\u00f1os\",\"De 30 a 34 a\\u00f1os\",\"De 40 a 44 a\\u00f1os\",\"De 50 a 54 a\\u00f1os\",\"De 25 a 29 a\\u00f1os\",\"De 25 a 29 a\\u00f1os\",\"De 20 a 24 a\\u00f1os\",\"De 80 a 84 a\\u00f1os  \",\"De 20 a 24 a\\u00f1os\",\"De 35 a 39 a\\u00f1os\",\"De 80 a 84 a\\u00f1os  \",\"De 25 a 29 a\\u00f1os\",\"De 25 a 29 a\\u00f1os\",\"De 25 a 29 a\\u00f1os\",\"De 85 a 89 a\\u00f1os  \",\"De 30 a 34 a\\u00f1os\",\"De 25 a 29 a\\u00f1os\",\"De 25 a 29 a\\u00f1os\",\"De 85 a 89 a\\u00f1os  \",\"De 85 a 89 a\\u00f1os  \",\"De 30 a 34 a\\u00f1os\",\"De 85 a 89 a\\u00f1os  \",\"De 30 a 34 a\\u00f1os\",\"De 85 a 89 a\\u00f1os  \",\"De 85 a 89 a\\u00f1os  \",\"De 35 a 39 a\\u00f1os\",\"De 25 a 29 a\\u00f1os\",\"De 85 a 89 a\\u00f1os  \",\"De 85 a 89 a\\u00f1os  \",\"De 20 a 24 a\\u00f1os\",\"De 35 a 39 a\\u00f1os\",\"De 65 a 69 a\\u00f1os\",\"De 30 a 34 a\\u00f1os\",\"De 80 a 84 a\\u00f1os  \",\"De 40 a 44 a\\u00f1os\",\"De 15 a 19 a\\u00f1os  \",\"De 25 a 29 a\\u00f1os\",\"De 20 a 24 a\\u00f1os\",\"De 40 a 44 a\\u00f1os\",\"De 20 a 24 a\\u00f1os\",\"De 20 a 24 a\\u00f1os\",\"De 30 a 34 a\\u00f1os\",\"De 20 a 24 a\\u00f1os\",\"De 25 a 29 a\\u00f1os\",\"De 20 a 24 a\\u00f1os\",\"De 20 a 24 a\\u00f1os\",\"De 20 a 24 a\\u00f1os\",\"De 25 a 29 a\\u00f1os\",\"De 85 a 89 a\\u00f1os  \",\"De 45 a 49 a\\u00f1os\",\"De 85 a 89 a\\u00f1os  \",\"De 20 a 24 a\\u00f1os\",\"De 85 a 89 a\\u00f1os  \",\"De 85 a 89 a\\u00f1os  \",\"De 25 a 29 a\\u00f1os\",\"De 20 a 24 a\\u00f1os\",\"De 30 a 34 a\\u00f1os\",\"De 15 a 19 a\\u00f1os  \",\"De 40 a 44 a\\u00f1os\",\"De 85 a 89 a\\u00f1os  \",\"De 85 a 89 a\\u00f1os  \",\"De 20 a 24 a\\u00f1os\",\"De 20 a 24 a\\u00f1os\",\"De 40 a 44 a\\u00f1os\",\"De 20 a 24 a\\u00f1os\",\"De 40 a 44 a\\u00f1os\",\"De 20 a 24 a\\u00f1os\",\"De 25 a 29 a\\u00f1os\",\"De 15 a 19 a\\u00f1os  \",\"De 20 a 24 a\\u00f1os\",\"De 40 a 44 a\\u00f1os\",\"De 15 a 19 a\\u00f1os  \",\"De 35 a 39 a\\u00f1os\",\"De 25 a 29 a\\u00f1os\",\"De 85 a 89 a\\u00f1os  \",\"De 25 a 29 a\\u00f1os\",\"De 15 a 19 a\\u00f1os  \",\"De 20 a 24 a\\u00f1os\",\"De 15 a 19 a\\u00f1os  \",\"De 15 a 19 a\\u00f1os  \",\"De 40 a 44 a\\u00f1os\",\"De 85 a 89 a\\u00f1os  \",\"De 40 a 44 a\\u00f1os\",\"De 40 a 44 a\\u00f1os\",\"De 20 a 24 a\\u00f1os\",\"De 80 a 84 a\\u00f1os  \",\"De 35 a 39 a\\u00f1os\",\"De 15 a 19 a\\u00f1os  \",\"De 20 a 24 a\\u00f1os\",\"De 15 a 19 a\\u00f1os  \",\"De 15 a 19 a\\u00f1os  \",\"De 15 a 19 a\\u00f1os  \",\"De 80 a 84 a\\u00f1os  \",\"De 20 a 24 a\\u00f1os\",\"De 15 a 19 a\\u00f1os  \",\"De 85 a 89 a\\u00f1os  \",\"De 15 a 19 a\\u00f1os  \",\"De 20 a 24 a\\u00f1os\",\"De 15 a 19 a\\u00f1os  \",\"De 15 a 19 a\\u00f1os  \",\"De 25 a 29 a\\u00f1os\",\"De 25 a 29 a\\u00f1os\",\"De 90 a 94 a\\u00f1os  \",\"De 85 a 89 a\\u00f1os  \",\"De 85 a 89 a\\u00f1os  \",\"De 15 a 19 a\\u00f1os  \",\"De 20 a 24 a\\u00f1os\",\"De 85 a 89 a\\u00f1os  \",\"De 90 a 94 a\\u00f1os  \",\"De 35 a 39 a\\u00f1os\",\"De 15 a 19 a\\u00f1os  \",\"De 20 a 24 a\\u00f1os\",\"De 15 a 19 a\\u00f1os  \",\"De 15 a 19 a\\u00f1os  \",\"De 30 a 34 a\\u00f1os\",\"De 15 a 19 a\\u00f1os  \",\"De 35 a 39 a\\u00f1os\",\"De 15 a 19 a\\u00f1os  \",\"De 30 a 34 a\\u00f1os\",\"De 15 a 19 a\\u00f1os  \",\"De 90 a 94 a\\u00f1os  \",\"De 90 a 94 a\\u00f1os  \",\"De 15 a 19 a\\u00f1os  \",\"De 20 a 24 a\\u00f1os\",\"De 15 a 19 a\\u00f1os  \",\"De 90 a 94 a\\u00f1os  \",\"De 20 a 24 a\\u00f1os\",\"De 30 a 34 a\\u00f1os\",\"De 15 a 19 a\\u00f1os  \",\"De 15 a 19 a\\u00f1os  \",\"De 15 a 19 a\\u00f1os  \",\"De 15 a 19 a\\u00f1os  \",\"De 15 a 19 a\\u00f1os  \",\"De 25 a 29 a\\u00f1os\",\"De 85 a 89 a\\u00f1os  \",\"De 90 a 94 a\\u00f1os  \",\"De 90 a 94 a\\u00f1os  \",\"De 15 a 19 a\\u00f1os  \",\"De 15 a 19 a\\u00f1os  \",\"De 15 a 19 a\\u00f1os  \",\"De 15 a 19 a\\u00f1os  \",\"De 90 a 94 a\\u00f1os  \",\"De 80 a 84 a\\u00f1os  \",\"De 15 a 19 a\\u00f1os  \",\"De 90 a 94 a\\u00f1os  \",\"De 15 a 19 a\\u00f1os  \",\"De 90 a 94 a\\u00f1os  \",\"De 90 a 94 a\\u00f1os  \",\"De 90 a 94 a\\u00f1os  \",\"De 15 a 19 a\\u00f1os  \",\"De 90 a 94 a\\u00f1os  \",\"De 85 a 89 a\\u00f1os  \",\"De 85 a 89 a\\u00f1os  \",\"De 90 a 94 a\\u00f1os  \",\"De 90 a 94 a\\u00f1os  \",\"De 90 a 94 a\\u00f1os  \",\"De 90 a 94 a\\u00f1os  \",\"De 90 a 94 a\\u00f1os  \",\"De 10 a 14 a\\u00f1os  \",\"De 90 a 94 a\\u00f1os  \",\"De 90 a 94 a\\u00f1os  \",\"De 90 a 94 a\\u00f1os  \",\"De 15 a 19 a\\u00f1os  \",\"De 20 a 24 a\\u00f1os\",\"De 85 a 89 a\\u00f1os  \",\"De 90 a 94 a\\u00f1os  \",\"De 90 a 94 a\\u00f1os  \",\"De 90 a 94 a\\u00f1os  \",\"De 90 a 94 a\\u00f1os  \",\"De 90 a 94 a\\u00f1os  \",\"De 90 a 94 a\\u00f1os  \",\"De 10 a 14 a\\u00f1os  \",\"De 10 a 14 a\\u00f1os  \",\"95 y m\\u00e1s a\\u00f1os\",\"De 10 a 14 a\\u00f1os  \",\"De 90 a 94 a\\u00f1os  \",\"De 90 a 94 a\\u00f1os  \",\"De 15 a 19 a\\u00f1os  \",\"De 10 a 14 a\\u00f1os  \",\"De 90 a 94 a\\u00f1os  \",\"De 10 a 14 a\\u00f1os  \",\"De 15 a 19 a\\u00f1os  \",\"De 10 a 14 a\\u00f1os  \",\"De 10 a 14 a\\u00f1os  \",\"De 10 a 14 a\\u00f1os  \",\"95 y m\\u00e1s a\\u00f1os\",\"95 y m\\u00e1s a\\u00f1os\",\"De 90 a 94 a\\u00f1os  \",\"De 90 a 94 a\\u00f1os  \",\"De 90 a 94 a\\u00f1os  \",\"De 10 a 14 a\\u00f1os  \",\"De 90 a 94 a\\u00f1os  \",\"De 10 a 14 a\\u00f1os  \",\"De 10 a 14 a\\u00f1os  \",\"De 10 a 14 a\\u00f1os  \",\"95 y m\\u00e1s a\\u00f1os\",\"95 y m\\u00e1s a\\u00f1os\",\"95 y m\\u00e1s a\\u00f1os\",\"95 y m\\u00e1s a\\u00f1os\",\"95 y m\\u00e1s a\\u00f1os\",\"95 y m\\u00e1s a\\u00f1os\",\"De 10 a 14 a\\u00f1os  \",\"De 10 a 14 a\\u00f1os  \",\"De 10 a 14 a\\u00f1os  \",\"De 10 a 14 a\\u00f1os  \",\"95 y m\\u00e1s a\\u00f1os\",\"95 y m\\u00e1s a\\u00f1os\",\"De 90 a 94 a\\u00f1os  \",\"De 10 a 14 a\\u00f1os  \",\"95 y m\\u00e1s a\\u00f1os\",\"De 10 a 14 a\\u00f1os  \",\"De 10 a 14 a\\u00f1os  \",\"95 y m\\u00e1s a\\u00f1os\",\"95 y m\\u00e1s a\\u00f1os\",\"95 y m\\u00e1s a\\u00f1os\",\"De 90 a 94 a\\u00f1os  \",\"95 y m\\u00e1s a\\u00f1os\",\"95 y m\\u00e1s a\\u00f1os\",\"95 y m\\u00e1s a\\u00f1os\",\"95 y m\\u00e1s a\\u00f1os\",\"De 90 a 94 a\\u00f1os  \",\"95 y m\\u00e1s a\\u00f1os\",\"95 y m\\u00e1s a\\u00f1os\",\"De 10 a 14 a\\u00f1os  \",\"De 10 a 14 a\\u00f1os  \",\"De 10 a 14 a\\u00f1os  \",\"De 10 a 14 a\\u00f1os  \",\"De 10 a 14 a\\u00f1os  \",\"De 10 a 14 a\\u00f1os  \",\"95 y m\\u00e1s a\\u00f1os\",\"De 90 a 94 a\\u00f1os  \",\"De 10 a 14 a\\u00f1os  \",\"De 10 a 14 a\\u00f1os  \",\"De 10 a 14 a\\u00f1os  \",\"95 y m\\u00e1s a\\u00f1os\",\"95 y m\\u00e1s a\\u00f1os\",\"De 5 a 9 a\\u00f1os\",\"De 10 a 14 a\\u00f1os  \",\"95 y m\\u00e1s a\\u00f1os\",\"95 y m\\u00e1s a\\u00f1os\",\"De 10 a 14 a\\u00f1os  \",\"95 y m\\u00e1s a\\u00f1os\",\"De 10 a 14 a\\u00f1os  \",\"De 10 a 14 a\\u00f1os  \",\"De 10 a 14 a\\u00f1os  \",\"De 10 a 14 a\\u00f1os  \",\"De 10 a 14 a\\u00f1os  \",\"95 y m\\u00e1s a\\u00f1os\",\"De 5 a 9 a\\u00f1os\",\"95 y m\\u00e1s a\\u00f1os\",\"De 10 a 14 a\\u00f1os  \",\"De 90 a 94 a\\u00f1os  \",\"95 y m\\u00e1s a\\u00f1os\",\"95 y m\\u00e1s a\\u00f1os\"],\"xaxis\":\"x\",\"y\":[120,116,111,110,108,106,98,97,96,95,95,94,94,94,93,93,93,92,92,91,91,91,90,89,88,88,87,87,87,87,86,86,86,85,84,84,83,83,82,82,81,81,81,81,81,81,81,81,81,80,80,80,79,79,79,79,79,79,78,78,78,78,78,78,78,77,77,76,76,76,76,76,76,75,75,75,75,75,75,75,74,74,74,74,74,73,73,73,73,73,73,73,72,72,72,72,72,72,72,72,72,71,71,71,71,71,71,71,71,70,70,70,70,70,70,70,70,70,69,69,69,69,69,69,69,68,68,68,67,67,67,67,67,67,67,67,67,67,67,66,66,66,66,66,66,66,66,66,66,66,65,65,65,65,65,65,65,65,64,64,64,64,64,64,64,64,64,64,64,64,63,63,63,63,63,63,63,63,62,62,62,62,62,62,62,62,62,61,61,61,61,61,61,61,61,60,60,60,60,60,60,60,60,60,60,60,60,60,60,59,59,59,59,59,59,59,59,59,59,59,59,59,58,58,58,58,58,58,58,58,58,57,57,57,57,57,57,56,56,56,56,56,56,56,56,56,56,56,55,55,55,55,55,55,55,54,54,54,54,54,54,54,54,54,54,54,53,53,53,53,53,53,53,53,52,52,52,52,52,52,52,52,52,52,52,52,52,51,51,51,51,51,51,51,51,51,50,50,50,50,50,49,49,49,49,49,49,48,48,48,48,48,48,48,48,48,48,48,48,47,47,47,47,47,47,47,47,47,47,46,46,46,46,45,45,45,45,45,45,45,44,44,44,44,44,44,44,43,43,43,43,43,43,43,43,43,43,42,42,42,42,42,42,42,42,42,42,42,41,41,41,41,41,41,41,41,41,41,41,41,41,40,40,40,40,40,40,40,40,40,39,39,39,39,39,39,39,38,38,38,38,38,37,37,37,37,37,37,37,37,37,37,37,36,36,36,36,36,36,36,35,35,35,35,35,35,35,34,34,34,34,34,34,34,34,34,33,33,33,33,33,33,33,33,32,32,32,32,32,32,32,31,31,31,31,31,31,31,31,31,31,31,31,30,30,30,30,30,30,30,30,29,29,29,29,29,29,29,29,28,28,28,28,28,28,28,28,27,27,27,27,27,27,27,26,26,26,26,26,26,26,26,25,25,25,25,25,25,25,25,25,25,25,24,24,24,24,24,24,23,23,23,23,22,22,21,21,21,21,21,21,21,21,20,20,20,20,20,20,20,20,20,19,19,19,19,19,19,19,19,19,18,18,18,18,18,18,17,17,17,17,17,17,17,16,16,16,16,16,16,16,15,15,15,15,14,14,14,13,13,13,13,13,12,12,12,11,11,11,11,10,10,10,10,9,9,9,9,9,9,9,9,9,9,9,8,8,8,8,7,7,7,7,7,6,6,6,6,6,6,6,6,5,5,5,5,5,5,4,4,4,4,4,4,4,4,4,4,4,4,3,3,3,3,3,3,3,3,3,3,3,3,2,2,2,2,2,2,2,2,2,2,2,2,2,2,2,2,2,2,2,1,1,1,1,1,1,1,1,1,1,1,1,1,1,1,1,1,1,1,1,1,1,1],\"yaxis\":\"y\",\"type\":\"bar\"}],                        {\"template\":{\"data\":{\"histogram2dcontour\":[{\"type\":\"histogram2dcontour\",\"colorbar\":{\"outlinewidth\":0,\"ticks\":\"\"},\"colorscale\":[[0.0,\"#0d0887\"],[0.1111111111111111,\"#46039f\"],[0.2222222222222222,\"#7201a8\"],[0.3333333333333333,\"#9c179e\"],[0.4444444444444444,\"#bd3786\"],[0.5555555555555556,\"#d8576b\"],[0.6666666666666666,\"#ed7953\"],[0.7777777777777778,\"#fb9f3a\"],[0.8888888888888888,\"#fdca26\"],[1.0,\"#f0f921\"]]}],\"choropleth\":[{\"type\":\"choropleth\",\"colorbar\":{\"outlinewidth\":0,\"ticks\":\"\"}}],\"histogram2d\":[{\"type\":\"histogram2d\",\"colorbar\":{\"outlinewidth\":0,\"ticks\":\"\"},\"colorscale\":[[0.0,\"#0d0887\"],[0.1111111111111111,\"#46039f\"],[0.2222222222222222,\"#7201a8\"],[0.3333333333333333,\"#9c179e\"],[0.4444444444444444,\"#bd3786\"],[0.5555555555555556,\"#d8576b\"],[0.6666666666666666,\"#ed7953\"],[0.7777777777777778,\"#fb9f3a\"],[0.8888888888888888,\"#fdca26\"],[1.0,\"#f0f921\"]]}],\"heatmap\":[{\"type\":\"heatmap\",\"colorbar\":{\"outlinewidth\":0,\"ticks\":\"\"},\"colorscale\":[[0.0,\"#0d0887\"],[0.1111111111111111,\"#46039f\"],[0.2222222222222222,\"#7201a8\"],[0.3333333333333333,\"#9c179e\"],[0.4444444444444444,\"#bd3786\"],[0.5555555555555556,\"#d8576b\"],[0.6666666666666666,\"#ed7953\"],[0.7777777777777778,\"#fb9f3a\"],[0.8888888888888888,\"#fdca26\"],[1.0,\"#f0f921\"]]}],\"heatmapgl\":[{\"type\":\"heatmapgl\",\"colorbar\":{\"outlinewidth\":0,\"ticks\":\"\"},\"colorscale\":[[0.0,\"#0d0887\"],[0.1111111111111111,\"#46039f\"],[0.2222222222222222,\"#7201a8\"],[0.3333333333333333,\"#9c179e\"],[0.4444444444444444,\"#bd3786\"],[0.5555555555555556,\"#d8576b\"],[0.6666666666666666,\"#ed7953\"],[0.7777777777777778,\"#fb9f3a\"],[0.8888888888888888,\"#fdca26\"],[1.0,\"#f0f921\"]]}],\"contourcarpet\":[{\"type\":\"contourcarpet\",\"colorbar\":{\"outlinewidth\":0,\"ticks\":\"\"}}],\"contour\":[{\"type\":\"contour\",\"colorbar\":{\"outlinewidth\":0,\"ticks\":\"\"},\"colorscale\":[[0.0,\"#0d0887\"],[0.1111111111111111,\"#46039f\"],[0.2222222222222222,\"#7201a8\"],[0.3333333333333333,\"#9c179e\"],[0.4444444444444444,\"#bd3786\"],[0.5555555555555556,\"#d8576b\"],[0.6666666666666666,\"#ed7953\"],[0.7777777777777778,\"#fb9f3a\"],[0.8888888888888888,\"#fdca26\"],[1.0,\"#f0f921\"]]}],\"surface\":[{\"type\":\"surface\",\"colorbar\":{\"outlinewidth\":0,\"ticks\":\"\"},\"colorscale\":[[0.0,\"#0d0887\"],[0.1111111111111111,\"#46039f\"],[0.2222222222222222,\"#7201a8\"],[0.3333333333333333,\"#9c179e\"],[0.4444444444444444,\"#bd3786\"],[0.5555555555555556,\"#d8576b\"],[0.6666666666666666,\"#ed7953\"],[0.7777777777777778,\"#fb9f3a\"],[0.8888888888888888,\"#fdca26\"],[1.0,\"#f0f921\"]]}],\"mesh3d\":[{\"type\":\"mesh3d\",\"colorbar\":{\"outlinewidth\":0,\"ticks\":\"\"}}],\"scatter\":[{\"fillpattern\":{\"fillmode\":\"overlay\",\"size\":10,\"solidity\":0.2},\"type\":\"scatter\"}],\"parcoords\":[{\"type\":\"parcoords\",\"line\":{\"colorbar\":{\"outlinewidth\":0,\"ticks\":\"\"}}}],\"scatterpolargl\":[{\"type\":\"scatterpolargl\",\"marker\":{\"colorbar\":{\"outlinewidth\":0,\"ticks\":\"\"}}}],\"bar\":[{\"error_x\":{\"color\":\"#2a3f5f\"},\"error_y\":{\"color\":\"#2a3f5f\"},\"marker\":{\"line\":{\"color\":\"#E5ECF6\",\"width\":0.5},\"pattern\":{\"fillmode\":\"overlay\",\"size\":10,\"solidity\":0.2}},\"type\":\"bar\"}],\"scattergeo\":[{\"type\":\"scattergeo\",\"marker\":{\"colorbar\":{\"outlinewidth\":0,\"ticks\":\"\"}}}],\"scatterpolar\":[{\"type\":\"scatterpolar\",\"marker\":{\"colorbar\":{\"outlinewidth\":0,\"ticks\":\"\"}}}],\"histogram\":[{\"marker\":{\"pattern\":{\"fillmode\":\"overlay\",\"size\":10,\"solidity\":0.2}},\"type\":\"histogram\"}],\"scattergl\":[{\"type\":\"scattergl\",\"marker\":{\"colorbar\":{\"outlinewidth\":0,\"ticks\":\"\"}}}],\"scatter3d\":[{\"type\":\"scatter3d\",\"line\":{\"colorbar\":{\"outlinewidth\":0,\"ticks\":\"\"}},\"marker\":{\"colorbar\":{\"outlinewidth\":0,\"ticks\":\"\"}}}],\"scattermapbox\":[{\"type\":\"scattermapbox\",\"marker\":{\"colorbar\":{\"outlinewidth\":0,\"ticks\":\"\"}}}],\"scatterternary\":[{\"type\":\"scatterternary\",\"marker\":{\"colorbar\":{\"outlinewidth\":0,\"ticks\":\"\"}}}],\"scattercarpet\":[{\"type\":\"scattercarpet\",\"marker\":{\"colorbar\":{\"outlinewidth\":0,\"ticks\":\"\"}}}],\"carpet\":[{\"aaxis\":{\"endlinecolor\":\"#2a3f5f\",\"gridcolor\":\"white\",\"linecolor\":\"white\",\"minorgridcolor\":\"white\",\"startlinecolor\":\"#2a3f5f\"},\"baxis\":{\"endlinecolor\":\"#2a3f5f\",\"gridcolor\":\"white\",\"linecolor\":\"white\",\"minorgridcolor\":\"white\",\"startlinecolor\":\"#2a3f5f\"},\"type\":\"carpet\"}],\"table\":[{\"cells\":{\"fill\":{\"color\":\"#EBF0F8\"},\"line\":{\"color\":\"white\"}},\"header\":{\"fill\":{\"color\":\"#C8D4E3\"},\"line\":{\"color\":\"white\"}},\"type\":\"table\"}],\"barpolar\":[{\"marker\":{\"line\":{\"color\":\"#E5ECF6\",\"width\":0.5},\"pattern\":{\"fillmode\":\"overlay\",\"size\":10,\"solidity\":0.2}},\"type\":\"barpolar\"}],\"pie\":[{\"automargin\":true,\"type\":\"pie\"}]},\"layout\":{\"autotypenumbers\":\"strict\",\"colorway\":[\"#636efa\",\"#EF553B\",\"#00cc96\",\"#ab63fa\",\"#FFA15A\",\"#19d3f3\",\"#FF6692\",\"#B6E880\",\"#FF97FF\",\"#FECB52\"],\"font\":{\"color\":\"#2a3f5f\"},\"hovermode\":\"closest\",\"hoverlabel\":{\"align\":\"left\"},\"paper_bgcolor\":\"white\",\"plot_bgcolor\":\"#E5ECF6\",\"polar\":{\"bgcolor\":\"#E5ECF6\",\"angularaxis\":{\"gridcolor\":\"white\",\"linecolor\":\"white\",\"ticks\":\"\"},\"radialaxis\":{\"gridcolor\":\"white\",\"linecolor\":\"white\",\"ticks\":\"\"}},\"ternary\":{\"bgcolor\":\"#E5ECF6\",\"aaxis\":{\"gridcolor\":\"white\",\"linecolor\":\"white\",\"ticks\":\"\"},\"baxis\":{\"gridcolor\":\"white\",\"linecolor\":\"white\",\"ticks\":\"\"},\"caxis\":{\"gridcolor\":\"white\",\"linecolor\":\"white\",\"ticks\":\"\"}},\"coloraxis\":{\"colorbar\":{\"outlinewidth\":0,\"ticks\":\"\"}},\"colorscale\":{\"sequential\":[[0.0,\"#0d0887\"],[0.1111111111111111,\"#46039f\"],[0.2222222222222222,\"#7201a8\"],[0.3333333333333333,\"#9c179e\"],[0.4444444444444444,\"#bd3786\"],[0.5555555555555556,\"#d8576b\"],[0.6666666666666666,\"#ed7953\"],[0.7777777777777778,\"#fb9f3a\"],[0.8888888888888888,\"#fdca26\"],[1.0,\"#f0f921\"]],\"sequentialminus\":[[0.0,\"#0d0887\"],[0.1111111111111111,\"#46039f\"],[0.2222222222222222,\"#7201a8\"],[0.3333333333333333,\"#9c179e\"],[0.4444444444444444,\"#bd3786\"],[0.5555555555555556,\"#d8576b\"],[0.6666666666666666,\"#ed7953\"],[0.7777777777777778,\"#fb9f3a\"],[0.8888888888888888,\"#fdca26\"],[1.0,\"#f0f921\"]],\"diverging\":[[0,\"#8e0152\"],[0.1,\"#c51b7d\"],[0.2,\"#de77ae\"],[0.3,\"#f1b6da\"],[0.4,\"#fde0ef\"],[0.5,\"#f7f7f7\"],[0.6,\"#e6f5d0\"],[0.7,\"#b8e186\"],[0.8,\"#7fbc41\"],[0.9,\"#4d9221\"],[1,\"#276419\"]]},\"xaxis\":{\"gridcolor\":\"white\",\"linecolor\":\"white\",\"ticks\":\"\",\"title\":{\"standoff\":15},\"zerolinecolor\":\"white\",\"automargin\":true,\"zerolinewidth\":2},\"yaxis\":{\"gridcolor\":\"white\",\"linecolor\":\"white\",\"ticks\":\"\",\"title\":{\"standoff\":15},\"zerolinecolor\":\"white\",\"automargin\":true,\"zerolinewidth\":2},\"scene\":{\"xaxis\":{\"backgroundcolor\":\"#E5ECF6\",\"gridcolor\":\"white\",\"linecolor\":\"white\",\"showbackground\":true,\"ticks\":\"\",\"zerolinecolor\":\"white\",\"gridwidth\":2},\"yaxis\":{\"backgroundcolor\":\"#E5ECF6\",\"gridcolor\":\"white\",\"linecolor\":\"white\",\"showbackground\":true,\"ticks\":\"\",\"zerolinecolor\":\"white\",\"gridwidth\":2},\"zaxis\":{\"backgroundcolor\":\"#E5ECF6\",\"gridcolor\":\"white\",\"linecolor\":\"white\",\"showbackground\":true,\"ticks\":\"\",\"zerolinecolor\":\"white\",\"gridwidth\":2}},\"shapedefaults\":{\"line\":{\"color\":\"#2a3f5f\"}},\"annotationdefaults\":{\"arrowcolor\":\"#2a3f5f\",\"arrowhead\":0,\"arrowwidth\":1},\"geo\":{\"bgcolor\":\"white\",\"landcolor\":\"#E5ECF6\",\"subunitcolor\":\"white\",\"showland\":true,\"showlakes\":true,\"lakecolor\":\"white\"},\"title\":{\"x\":0.05},\"mapbox\":{\"style\":\"light\"}}},\"xaxis\":{\"anchor\":\"y\",\"domain\":[0.0,1.0],\"title\":{\"text\":\"Edad\"}},\"yaxis\":{\"anchor\":\"x\",\"domain\":[0.0,1.0],\"title\":{\"text\":\"Total\"}},\"legend\":{\"title\":{\"text\":\"Sexo\"},\"tracegroupgap\":0},\"title\":{\"text\":\"N\\u00famero de Muertes por Edad y Sexo\"},\"barmode\":\"group\"},                        {\"responsive\": true}                    ).then(function(){\n",
       "                            \n",
       "var gd = document.getElementById('f0002343-1f23-4dc8-9b2b-0eb2ff333a70');\n",
       "var x = new MutationObserver(function (mutations, observer) {{\n",
       "        var display = window.getComputedStyle(gd).display;\n",
       "        if (!display || display === 'none') {{\n",
       "            console.log([gd, 'removed!']);\n",
       "            Plotly.purge(gd);\n",
       "            observer.disconnect();\n",
       "        }}\n",
       "}});\n",
       "\n",
       "// Listen for the removal of the full notebook cells\n",
       "var notebookContainer = gd.closest('#notebook-container');\n",
       "if (notebookContainer) {{\n",
       "    x.observe(notebookContainer, {childList: true});\n",
       "}}\n",
       "\n",
       "// Listen for the clearing of the current output cell\n",
       "var outputEl = gd.closest('.output');\n",
       "if (outputEl) {{\n",
       "    x.observe(outputEl, {childList: true});\n",
       "}}\n",
       "\n",
       "                        })                };                });            </script>        </div>"
      ]
     },
     "metadata": {},
     "output_type": "display_data"
    }
   ],
   "source": [
    "fig2 = px.bar(deaths, x=\"Edad\", y=\"Total\", color=\"Sexo\", barmode=\"group\", \\\n",
    "              title='Número de Muertes por Edad y Sexo')\n",
    "fig2.show()"
   ]
  },
  {
   "cell_type": "code",
   "execution_count": 37,
   "metadata": {},
   "outputs": [
    {
     "data": {
      "application/vnd.plotly.v1+json": {
       "config": {
        "plotlyServerURL": "https://plot.ly"
       },
       "data": [
        {
         "hovertemplate": "Sexo=Hombres<br>Periodo=%{x}<br>Total=%{y}<extra></extra>",
         "legendgroup": "Hombres",
         "line": {
          "color": "#636efa",
          "dash": "solid"
         },
         "marker": {
          "symbol": "circle"
         },
         "mode": "lines",
         "name": "Hombres",
         "orientation": "v",
         "showlegend": true,
         "type": "scatter",
         "x": [
          1980,
          1981,
          1982,
          1983,
          1984,
          1985,
          1986,
          1987,
          1988,
          1989,
          1990,
          1991,
          1992,
          1993,
          1994,
          1995,
          1996,
          1997,
          1998,
          1999,
          2000,
          2001,
          2002,
          2003,
          2004,
          2005,
          2006,
          2007,
          2008,
          2009,
          2010,
          2011,
          2012,
          2013,
          2014,
          2015,
          2016,
          2017,
          2018
         ],
         "xaxis": "x",
         "y": [
          1237,
          1268,
          1336,
          1593,
          1836,
          1829,
          2032,
          2017,
          2150,
          2213,
          2135,
          2139,
          2104,
          2283,
          2429,
          2408,
          2451,
          2526,
          2499,
          2410,
          2574,
          2430,
          2554,
          2650,
          2651,
          2570,
          2512,
          2463,
          2676,
          2666,
          2468,
          2435,
          2724,
          2911,
          2938,
          2680,
          2662,
          2718,
          2619
         ],
         "yaxis": "y"
        },
        {
         "hovertemplate": "Sexo=Mujeres<br>Periodo=%{x}<br>Total=%{y}<extra></extra>",
         "legendgroup": "Mujeres",
         "line": {
          "color": "#EF553B",
          "dash": "solid"
         },
         "marker": {
          "symbol": "circle"
         },
         "mode": "lines",
         "name": "Mujeres",
         "orientation": "v",
         "showlegend": true,
         "type": "scatter",
         "x": [
          1980,
          1981,
          1982,
          1983,
          1984,
          1985,
          1986,
          1987,
          1988,
          1989,
          1990,
          1991,
          1992,
          1993,
          1994,
          1995,
          1996,
          1997,
          1998,
          1999,
          2000,
          2001,
          2002,
          2003,
          2004,
          2005,
          2006,
          2007,
          2008,
          2009,
          2010,
          2011,
          2012,
          2013,
          2014,
          2015,
          2016,
          2017,
          2018
         ],
         "xaxis": "x",
         "y": [
          415,
          450,
          515,
          588,
          657,
          685,
          723,
          787,
          810,
          774,
          804,
          777,
          682,
          754,
          742,
          749,
          869,
          847,
          762,
          808,
          819,
          759,
          817,
          828,
          856,
          829,
          734,
          800,
          781,
          763,
          690,
          745,
          815,
          959,
          972,
          922,
          907,
          961,
          920
         ],
         "yaxis": "y"
        }
       ],
       "layout": {
        "legend": {
         "title": {
          "text": "Sexo"
         },
         "tracegroupgap": 0
        },
        "template": {
         "data": {
          "bar": [
           {
            "error_x": {
             "color": "#2a3f5f"
            },
            "error_y": {
             "color": "#2a3f5f"
            },
            "marker": {
             "line": {
              "color": "#E5ECF6",
              "width": 0.5
             },
             "pattern": {
              "fillmode": "overlay",
              "size": 10,
              "solidity": 0.2
             }
            },
            "type": "bar"
           }
          ],
          "barpolar": [
           {
            "marker": {
             "line": {
              "color": "#E5ECF6",
              "width": 0.5
             },
             "pattern": {
              "fillmode": "overlay",
              "size": 10,
              "solidity": 0.2
             }
            },
            "type": "barpolar"
           }
          ],
          "carpet": [
           {
            "aaxis": {
             "endlinecolor": "#2a3f5f",
             "gridcolor": "white",
             "linecolor": "white",
             "minorgridcolor": "white",
             "startlinecolor": "#2a3f5f"
            },
            "baxis": {
             "endlinecolor": "#2a3f5f",
             "gridcolor": "white",
             "linecolor": "white",
             "minorgridcolor": "white",
             "startlinecolor": "#2a3f5f"
            },
            "type": "carpet"
           }
          ],
          "choropleth": [
           {
            "colorbar": {
             "outlinewidth": 0,
             "ticks": ""
            },
            "type": "choropleth"
           }
          ],
          "contour": [
           {
            "colorbar": {
             "outlinewidth": 0,
             "ticks": ""
            },
            "colorscale": [
             [
              0,
              "#0d0887"
             ],
             [
              0.1111111111111111,
              "#46039f"
             ],
             [
              0.2222222222222222,
              "#7201a8"
             ],
             [
              0.3333333333333333,
              "#9c179e"
             ],
             [
              0.4444444444444444,
              "#bd3786"
             ],
             [
              0.5555555555555556,
              "#d8576b"
             ],
             [
              0.6666666666666666,
              "#ed7953"
             ],
             [
              0.7777777777777778,
              "#fb9f3a"
             ],
             [
              0.8888888888888888,
              "#fdca26"
             ],
             [
              1,
              "#f0f921"
             ]
            ],
            "type": "contour"
           }
          ],
          "contourcarpet": [
           {
            "colorbar": {
             "outlinewidth": 0,
             "ticks": ""
            },
            "type": "contourcarpet"
           }
          ],
          "heatmap": [
           {
            "colorbar": {
             "outlinewidth": 0,
             "ticks": ""
            },
            "colorscale": [
             [
              0,
              "#0d0887"
             ],
             [
              0.1111111111111111,
              "#46039f"
             ],
             [
              0.2222222222222222,
              "#7201a8"
             ],
             [
              0.3333333333333333,
              "#9c179e"
             ],
             [
              0.4444444444444444,
              "#bd3786"
             ],
             [
              0.5555555555555556,
              "#d8576b"
             ],
             [
              0.6666666666666666,
              "#ed7953"
             ],
             [
              0.7777777777777778,
              "#fb9f3a"
             ],
             [
              0.8888888888888888,
              "#fdca26"
             ],
             [
              1,
              "#f0f921"
             ]
            ],
            "type": "heatmap"
           }
          ],
          "heatmapgl": [
           {
            "colorbar": {
             "outlinewidth": 0,
             "ticks": ""
            },
            "colorscale": [
             [
              0,
              "#0d0887"
             ],
             [
              0.1111111111111111,
              "#46039f"
             ],
             [
              0.2222222222222222,
              "#7201a8"
             ],
             [
              0.3333333333333333,
              "#9c179e"
             ],
             [
              0.4444444444444444,
              "#bd3786"
             ],
             [
              0.5555555555555556,
              "#d8576b"
             ],
             [
              0.6666666666666666,
              "#ed7953"
             ],
             [
              0.7777777777777778,
              "#fb9f3a"
             ],
             [
              0.8888888888888888,
              "#fdca26"
             ],
             [
              1,
              "#f0f921"
             ]
            ],
            "type": "heatmapgl"
           }
          ],
          "histogram": [
           {
            "marker": {
             "pattern": {
              "fillmode": "overlay",
              "size": 10,
              "solidity": 0.2
             }
            },
            "type": "histogram"
           }
          ],
          "histogram2d": [
           {
            "colorbar": {
             "outlinewidth": 0,
             "ticks": ""
            },
            "colorscale": [
             [
              0,
              "#0d0887"
             ],
             [
              0.1111111111111111,
              "#46039f"
             ],
             [
              0.2222222222222222,
              "#7201a8"
             ],
             [
              0.3333333333333333,
              "#9c179e"
             ],
             [
              0.4444444444444444,
              "#bd3786"
             ],
             [
              0.5555555555555556,
              "#d8576b"
             ],
             [
              0.6666666666666666,
              "#ed7953"
             ],
             [
              0.7777777777777778,
              "#fb9f3a"
             ],
             [
              0.8888888888888888,
              "#fdca26"
             ],
             [
              1,
              "#f0f921"
             ]
            ],
            "type": "histogram2d"
           }
          ],
          "histogram2dcontour": [
           {
            "colorbar": {
             "outlinewidth": 0,
             "ticks": ""
            },
            "colorscale": [
             [
              0,
              "#0d0887"
             ],
             [
              0.1111111111111111,
              "#46039f"
             ],
             [
              0.2222222222222222,
              "#7201a8"
             ],
             [
              0.3333333333333333,
              "#9c179e"
             ],
             [
              0.4444444444444444,
              "#bd3786"
             ],
             [
              0.5555555555555556,
              "#d8576b"
             ],
             [
              0.6666666666666666,
              "#ed7953"
             ],
             [
              0.7777777777777778,
              "#fb9f3a"
             ],
             [
              0.8888888888888888,
              "#fdca26"
             ],
             [
              1,
              "#f0f921"
             ]
            ],
            "type": "histogram2dcontour"
           }
          ],
          "mesh3d": [
           {
            "colorbar": {
             "outlinewidth": 0,
             "ticks": ""
            },
            "type": "mesh3d"
           }
          ],
          "parcoords": [
           {
            "line": {
             "colorbar": {
              "outlinewidth": 0,
              "ticks": ""
             }
            },
            "type": "parcoords"
           }
          ],
          "pie": [
           {
            "automargin": true,
            "type": "pie"
           }
          ],
          "scatter": [
           {
            "fillpattern": {
             "fillmode": "overlay",
             "size": 10,
             "solidity": 0.2
            },
            "type": "scatter"
           }
          ],
          "scatter3d": [
           {
            "line": {
             "colorbar": {
              "outlinewidth": 0,
              "ticks": ""
             }
            },
            "marker": {
             "colorbar": {
              "outlinewidth": 0,
              "ticks": ""
             }
            },
            "type": "scatter3d"
           }
          ],
          "scattercarpet": [
           {
            "marker": {
             "colorbar": {
              "outlinewidth": 0,
              "ticks": ""
             }
            },
            "type": "scattercarpet"
           }
          ],
          "scattergeo": [
           {
            "marker": {
             "colorbar": {
              "outlinewidth": 0,
              "ticks": ""
             }
            },
            "type": "scattergeo"
           }
          ],
          "scattergl": [
           {
            "marker": {
             "colorbar": {
              "outlinewidth": 0,
              "ticks": ""
             }
            },
            "type": "scattergl"
           }
          ],
          "scattermapbox": [
           {
            "marker": {
             "colorbar": {
              "outlinewidth": 0,
              "ticks": ""
             }
            },
            "type": "scattermapbox"
           }
          ],
          "scatterpolar": [
           {
            "marker": {
             "colorbar": {
              "outlinewidth": 0,
              "ticks": ""
             }
            },
            "type": "scatterpolar"
           }
          ],
          "scatterpolargl": [
           {
            "marker": {
             "colorbar": {
              "outlinewidth": 0,
              "ticks": ""
             }
            },
            "type": "scatterpolargl"
           }
          ],
          "scatterternary": [
           {
            "marker": {
             "colorbar": {
              "outlinewidth": 0,
              "ticks": ""
             }
            },
            "type": "scatterternary"
           }
          ],
          "surface": [
           {
            "colorbar": {
             "outlinewidth": 0,
             "ticks": ""
            },
            "colorscale": [
             [
              0,
              "#0d0887"
             ],
             [
              0.1111111111111111,
              "#46039f"
             ],
             [
              0.2222222222222222,
              "#7201a8"
             ],
             [
              0.3333333333333333,
              "#9c179e"
             ],
             [
              0.4444444444444444,
              "#bd3786"
             ],
             [
              0.5555555555555556,
              "#d8576b"
             ],
             [
              0.6666666666666666,
              "#ed7953"
             ],
             [
              0.7777777777777778,
              "#fb9f3a"
             ],
             [
              0.8888888888888888,
              "#fdca26"
             ],
             [
              1,
              "#f0f921"
             ]
            ],
            "type": "surface"
           }
          ],
          "table": [
           {
            "cells": {
             "fill": {
              "color": "#EBF0F8"
             },
             "line": {
              "color": "white"
             }
            },
            "header": {
             "fill": {
              "color": "#C8D4E3"
             },
             "line": {
              "color": "white"
             }
            },
            "type": "table"
           }
          ]
         },
         "layout": {
          "annotationdefaults": {
           "arrowcolor": "#2a3f5f",
           "arrowhead": 0,
           "arrowwidth": 1
          },
          "autotypenumbers": "strict",
          "coloraxis": {
           "colorbar": {
            "outlinewidth": 0,
            "ticks": ""
           }
          },
          "colorscale": {
           "diverging": [
            [
             0,
             "#8e0152"
            ],
            [
             0.1,
             "#c51b7d"
            ],
            [
             0.2,
             "#de77ae"
            ],
            [
             0.3,
             "#f1b6da"
            ],
            [
             0.4,
             "#fde0ef"
            ],
            [
             0.5,
             "#f7f7f7"
            ],
            [
             0.6,
             "#e6f5d0"
            ],
            [
             0.7,
             "#b8e186"
            ],
            [
             0.8,
             "#7fbc41"
            ],
            [
             0.9,
             "#4d9221"
            ],
            [
             1,
             "#276419"
            ]
           ],
           "sequential": [
            [
             0,
             "#0d0887"
            ],
            [
             0.1111111111111111,
             "#46039f"
            ],
            [
             0.2222222222222222,
             "#7201a8"
            ],
            [
             0.3333333333333333,
             "#9c179e"
            ],
            [
             0.4444444444444444,
             "#bd3786"
            ],
            [
             0.5555555555555556,
             "#d8576b"
            ],
            [
             0.6666666666666666,
             "#ed7953"
            ],
            [
             0.7777777777777778,
             "#fb9f3a"
            ],
            [
             0.8888888888888888,
             "#fdca26"
            ],
            [
             1,
             "#f0f921"
            ]
           ],
           "sequentialminus": [
            [
             0,
             "#0d0887"
            ],
            [
             0.1111111111111111,
             "#46039f"
            ],
            [
             0.2222222222222222,
             "#7201a8"
            ],
            [
             0.3333333333333333,
             "#9c179e"
            ],
            [
             0.4444444444444444,
             "#bd3786"
            ],
            [
             0.5555555555555556,
             "#d8576b"
            ],
            [
             0.6666666666666666,
             "#ed7953"
            ],
            [
             0.7777777777777778,
             "#fb9f3a"
            ],
            [
             0.8888888888888888,
             "#fdca26"
            ],
            [
             1,
             "#f0f921"
            ]
           ]
          },
          "colorway": [
           "#636efa",
           "#EF553B",
           "#00cc96",
           "#ab63fa",
           "#FFA15A",
           "#19d3f3",
           "#FF6692",
           "#B6E880",
           "#FF97FF",
           "#FECB52"
          ],
          "font": {
           "color": "#2a3f5f"
          },
          "geo": {
           "bgcolor": "white",
           "lakecolor": "white",
           "landcolor": "#E5ECF6",
           "showlakes": true,
           "showland": true,
           "subunitcolor": "white"
          },
          "hoverlabel": {
           "align": "left"
          },
          "hovermode": "closest",
          "mapbox": {
           "style": "light"
          },
          "paper_bgcolor": "white",
          "plot_bgcolor": "#E5ECF6",
          "polar": {
           "angularaxis": {
            "gridcolor": "white",
            "linecolor": "white",
            "ticks": ""
           },
           "bgcolor": "#E5ECF6",
           "radialaxis": {
            "gridcolor": "white",
            "linecolor": "white",
            "ticks": ""
           }
          },
          "scene": {
           "xaxis": {
            "backgroundcolor": "#E5ECF6",
            "gridcolor": "white",
            "gridwidth": 2,
            "linecolor": "white",
            "showbackground": true,
            "ticks": "",
            "zerolinecolor": "white"
           },
           "yaxis": {
            "backgroundcolor": "#E5ECF6",
            "gridcolor": "white",
            "gridwidth": 2,
            "linecolor": "white",
            "showbackground": true,
            "ticks": "",
            "zerolinecolor": "white"
           },
           "zaxis": {
            "backgroundcolor": "#E5ECF6",
            "gridcolor": "white",
            "gridwidth": 2,
            "linecolor": "white",
            "showbackground": true,
            "ticks": "",
            "zerolinecolor": "white"
           }
          },
          "shapedefaults": {
           "line": {
            "color": "#2a3f5f"
           }
          },
          "ternary": {
           "aaxis": {
            "gridcolor": "white",
            "linecolor": "white",
            "ticks": ""
           },
           "baxis": {
            "gridcolor": "white",
            "linecolor": "white",
            "ticks": ""
           },
           "bgcolor": "#E5ECF6",
           "caxis": {
            "gridcolor": "white",
            "linecolor": "white",
            "ticks": ""
           }
          },
          "title": {
           "x": 0.05
          },
          "xaxis": {
           "automargin": true,
           "gridcolor": "white",
           "linecolor": "white",
           "ticks": "",
           "title": {
            "standoff": 15
           },
           "zerolinecolor": "white",
           "zerolinewidth": 2
          },
          "yaxis": {
           "automargin": true,
           "gridcolor": "white",
           "linecolor": "white",
           "ticks": "",
           "title": {
            "standoff": 15
           },
           "zerolinecolor": "white",
           "zerolinewidth": 2
          }
         }
        },
        "title": {
         "text": "Total de Muertes por Sexo y Año"
        },
        "xaxis": {
         "anchor": "y",
         "domain": [
          0,
          1
         ],
         "title": {
          "text": "Periodo"
         }
        },
        "yaxis": {
         "anchor": "x",
         "domain": [
          0,
          1
         ],
         "title": {
          "text": "Total"
         }
        }
       }
      },
      "text/html": [
       "<div>                            <div id=\"d1473ab5-7d8f-4358-a9d2-f13cde6e2c64\" class=\"plotly-graph-div\" style=\"height:525px; width:100%;\"></div>            <script type=\"text/javascript\">                require([\"plotly\"], function(Plotly) {                    window.PLOTLYENV=window.PLOTLYENV || {};                                    if (document.getElementById(\"d1473ab5-7d8f-4358-a9d2-f13cde6e2c64\")) {                    Plotly.newPlot(                        \"d1473ab5-7d8f-4358-a9d2-f13cde6e2c64\",                        [{\"hovertemplate\":\"Sexo=Hombres<br>Periodo=%{x}<br>Total=%{y}<extra></extra>\",\"legendgroup\":\"Hombres\",\"line\":{\"color\":\"#636efa\",\"dash\":\"solid\"},\"marker\":{\"symbol\":\"circle\"},\"mode\":\"lines\",\"name\":\"Hombres\",\"orientation\":\"v\",\"showlegend\":true,\"x\":[1980,1981,1982,1983,1984,1985,1986,1987,1988,1989,1990,1991,1992,1993,1994,1995,1996,1997,1998,1999,2000,2001,2002,2003,2004,2005,2006,2007,2008,2009,2010,2011,2012,2013,2014,2015,2016,2017,2018],\"xaxis\":\"x\",\"y\":[1237,1268,1336,1593,1836,1829,2032,2017,2150,2213,2135,2139,2104,2283,2429,2408,2451,2526,2499,2410,2574,2430,2554,2650,2651,2570,2512,2463,2676,2666,2468,2435,2724,2911,2938,2680,2662,2718,2619],\"yaxis\":\"y\",\"type\":\"scatter\"},{\"hovertemplate\":\"Sexo=Mujeres<br>Periodo=%{x}<br>Total=%{y}<extra></extra>\",\"legendgroup\":\"Mujeres\",\"line\":{\"color\":\"#EF553B\",\"dash\":\"solid\"},\"marker\":{\"symbol\":\"circle\"},\"mode\":\"lines\",\"name\":\"Mujeres\",\"orientation\":\"v\",\"showlegend\":true,\"x\":[1980,1981,1982,1983,1984,1985,1986,1987,1988,1989,1990,1991,1992,1993,1994,1995,1996,1997,1998,1999,2000,2001,2002,2003,2004,2005,2006,2007,2008,2009,2010,2011,2012,2013,2014,2015,2016,2017,2018],\"xaxis\":\"x\",\"y\":[415,450,515,588,657,685,723,787,810,774,804,777,682,754,742,749,869,847,762,808,819,759,817,828,856,829,734,800,781,763,690,745,815,959,972,922,907,961,920],\"yaxis\":\"y\",\"type\":\"scatter\"}],                        {\"template\":{\"data\":{\"histogram2dcontour\":[{\"type\":\"histogram2dcontour\",\"colorbar\":{\"outlinewidth\":0,\"ticks\":\"\"},\"colorscale\":[[0.0,\"#0d0887\"],[0.1111111111111111,\"#46039f\"],[0.2222222222222222,\"#7201a8\"],[0.3333333333333333,\"#9c179e\"],[0.4444444444444444,\"#bd3786\"],[0.5555555555555556,\"#d8576b\"],[0.6666666666666666,\"#ed7953\"],[0.7777777777777778,\"#fb9f3a\"],[0.8888888888888888,\"#fdca26\"],[1.0,\"#f0f921\"]]}],\"choropleth\":[{\"type\":\"choropleth\",\"colorbar\":{\"outlinewidth\":0,\"ticks\":\"\"}}],\"histogram2d\":[{\"type\":\"histogram2d\",\"colorbar\":{\"outlinewidth\":0,\"ticks\":\"\"},\"colorscale\":[[0.0,\"#0d0887\"],[0.1111111111111111,\"#46039f\"],[0.2222222222222222,\"#7201a8\"],[0.3333333333333333,\"#9c179e\"],[0.4444444444444444,\"#bd3786\"],[0.5555555555555556,\"#d8576b\"],[0.6666666666666666,\"#ed7953\"],[0.7777777777777778,\"#fb9f3a\"],[0.8888888888888888,\"#fdca26\"],[1.0,\"#f0f921\"]]}],\"heatmap\":[{\"type\":\"heatmap\",\"colorbar\":{\"outlinewidth\":0,\"ticks\":\"\"},\"colorscale\":[[0.0,\"#0d0887\"],[0.1111111111111111,\"#46039f\"],[0.2222222222222222,\"#7201a8\"],[0.3333333333333333,\"#9c179e\"],[0.4444444444444444,\"#bd3786\"],[0.5555555555555556,\"#d8576b\"],[0.6666666666666666,\"#ed7953\"],[0.7777777777777778,\"#fb9f3a\"],[0.8888888888888888,\"#fdca26\"],[1.0,\"#f0f921\"]]}],\"heatmapgl\":[{\"type\":\"heatmapgl\",\"colorbar\":{\"outlinewidth\":0,\"ticks\":\"\"},\"colorscale\":[[0.0,\"#0d0887\"],[0.1111111111111111,\"#46039f\"],[0.2222222222222222,\"#7201a8\"],[0.3333333333333333,\"#9c179e\"],[0.4444444444444444,\"#bd3786\"],[0.5555555555555556,\"#d8576b\"],[0.6666666666666666,\"#ed7953\"],[0.7777777777777778,\"#fb9f3a\"],[0.8888888888888888,\"#fdca26\"],[1.0,\"#f0f921\"]]}],\"contourcarpet\":[{\"type\":\"contourcarpet\",\"colorbar\":{\"outlinewidth\":0,\"ticks\":\"\"}}],\"contour\":[{\"type\":\"contour\",\"colorbar\":{\"outlinewidth\":0,\"ticks\":\"\"},\"colorscale\":[[0.0,\"#0d0887\"],[0.1111111111111111,\"#46039f\"],[0.2222222222222222,\"#7201a8\"],[0.3333333333333333,\"#9c179e\"],[0.4444444444444444,\"#bd3786\"],[0.5555555555555556,\"#d8576b\"],[0.6666666666666666,\"#ed7953\"],[0.7777777777777778,\"#fb9f3a\"],[0.8888888888888888,\"#fdca26\"],[1.0,\"#f0f921\"]]}],\"surface\":[{\"type\":\"surface\",\"colorbar\":{\"outlinewidth\":0,\"ticks\":\"\"},\"colorscale\":[[0.0,\"#0d0887\"],[0.1111111111111111,\"#46039f\"],[0.2222222222222222,\"#7201a8\"],[0.3333333333333333,\"#9c179e\"],[0.4444444444444444,\"#bd3786\"],[0.5555555555555556,\"#d8576b\"],[0.6666666666666666,\"#ed7953\"],[0.7777777777777778,\"#fb9f3a\"],[0.8888888888888888,\"#fdca26\"],[1.0,\"#f0f921\"]]}],\"mesh3d\":[{\"type\":\"mesh3d\",\"colorbar\":{\"outlinewidth\":0,\"ticks\":\"\"}}],\"scatter\":[{\"fillpattern\":{\"fillmode\":\"overlay\",\"size\":10,\"solidity\":0.2},\"type\":\"scatter\"}],\"parcoords\":[{\"type\":\"parcoords\",\"line\":{\"colorbar\":{\"outlinewidth\":0,\"ticks\":\"\"}}}],\"scatterpolargl\":[{\"type\":\"scatterpolargl\",\"marker\":{\"colorbar\":{\"outlinewidth\":0,\"ticks\":\"\"}}}],\"bar\":[{\"error_x\":{\"color\":\"#2a3f5f\"},\"error_y\":{\"color\":\"#2a3f5f\"},\"marker\":{\"line\":{\"color\":\"#E5ECF6\",\"width\":0.5},\"pattern\":{\"fillmode\":\"overlay\",\"size\":10,\"solidity\":0.2}},\"type\":\"bar\"}],\"scattergeo\":[{\"type\":\"scattergeo\",\"marker\":{\"colorbar\":{\"outlinewidth\":0,\"ticks\":\"\"}}}],\"scatterpolar\":[{\"type\":\"scatterpolar\",\"marker\":{\"colorbar\":{\"outlinewidth\":0,\"ticks\":\"\"}}}],\"histogram\":[{\"marker\":{\"pattern\":{\"fillmode\":\"overlay\",\"size\":10,\"solidity\":0.2}},\"type\":\"histogram\"}],\"scattergl\":[{\"type\":\"scattergl\",\"marker\":{\"colorbar\":{\"outlinewidth\":0,\"ticks\":\"\"}}}],\"scatter3d\":[{\"type\":\"scatter3d\",\"line\":{\"colorbar\":{\"outlinewidth\":0,\"ticks\":\"\"}},\"marker\":{\"colorbar\":{\"outlinewidth\":0,\"ticks\":\"\"}}}],\"scattermapbox\":[{\"type\":\"scattermapbox\",\"marker\":{\"colorbar\":{\"outlinewidth\":0,\"ticks\":\"\"}}}],\"scatterternary\":[{\"type\":\"scatterternary\",\"marker\":{\"colorbar\":{\"outlinewidth\":0,\"ticks\":\"\"}}}],\"scattercarpet\":[{\"type\":\"scattercarpet\",\"marker\":{\"colorbar\":{\"outlinewidth\":0,\"ticks\":\"\"}}}],\"carpet\":[{\"aaxis\":{\"endlinecolor\":\"#2a3f5f\",\"gridcolor\":\"white\",\"linecolor\":\"white\",\"minorgridcolor\":\"white\",\"startlinecolor\":\"#2a3f5f\"},\"baxis\":{\"endlinecolor\":\"#2a3f5f\",\"gridcolor\":\"white\",\"linecolor\":\"white\",\"minorgridcolor\":\"white\",\"startlinecolor\":\"#2a3f5f\"},\"type\":\"carpet\"}],\"table\":[{\"cells\":{\"fill\":{\"color\":\"#EBF0F8\"},\"line\":{\"color\":\"white\"}},\"header\":{\"fill\":{\"color\":\"#C8D4E3\"},\"line\":{\"color\":\"white\"}},\"type\":\"table\"}],\"barpolar\":[{\"marker\":{\"line\":{\"color\":\"#E5ECF6\",\"width\":0.5},\"pattern\":{\"fillmode\":\"overlay\",\"size\":10,\"solidity\":0.2}},\"type\":\"barpolar\"}],\"pie\":[{\"automargin\":true,\"type\":\"pie\"}]},\"layout\":{\"autotypenumbers\":\"strict\",\"colorway\":[\"#636efa\",\"#EF553B\",\"#00cc96\",\"#ab63fa\",\"#FFA15A\",\"#19d3f3\",\"#FF6692\",\"#B6E880\",\"#FF97FF\",\"#FECB52\"],\"font\":{\"color\":\"#2a3f5f\"},\"hovermode\":\"closest\",\"hoverlabel\":{\"align\":\"left\"},\"paper_bgcolor\":\"white\",\"plot_bgcolor\":\"#E5ECF6\",\"polar\":{\"bgcolor\":\"#E5ECF6\",\"angularaxis\":{\"gridcolor\":\"white\",\"linecolor\":\"white\",\"ticks\":\"\"},\"radialaxis\":{\"gridcolor\":\"white\",\"linecolor\":\"white\",\"ticks\":\"\"}},\"ternary\":{\"bgcolor\":\"#E5ECF6\",\"aaxis\":{\"gridcolor\":\"white\",\"linecolor\":\"white\",\"ticks\":\"\"},\"baxis\":{\"gridcolor\":\"white\",\"linecolor\":\"white\",\"ticks\":\"\"},\"caxis\":{\"gridcolor\":\"white\",\"linecolor\":\"white\",\"ticks\":\"\"}},\"coloraxis\":{\"colorbar\":{\"outlinewidth\":0,\"ticks\":\"\"}},\"colorscale\":{\"sequential\":[[0.0,\"#0d0887\"],[0.1111111111111111,\"#46039f\"],[0.2222222222222222,\"#7201a8\"],[0.3333333333333333,\"#9c179e\"],[0.4444444444444444,\"#bd3786\"],[0.5555555555555556,\"#d8576b\"],[0.6666666666666666,\"#ed7953\"],[0.7777777777777778,\"#fb9f3a\"],[0.8888888888888888,\"#fdca26\"],[1.0,\"#f0f921\"]],\"sequentialminus\":[[0.0,\"#0d0887\"],[0.1111111111111111,\"#46039f\"],[0.2222222222222222,\"#7201a8\"],[0.3333333333333333,\"#9c179e\"],[0.4444444444444444,\"#bd3786\"],[0.5555555555555556,\"#d8576b\"],[0.6666666666666666,\"#ed7953\"],[0.7777777777777778,\"#fb9f3a\"],[0.8888888888888888,\"#fdca26\"],[1.0,\"#f0f921\"]],\"diverging\":[[0,\"#8e0152\"],[0.1,\"#c51b7d\"],[0.2,\"#de77ae\"],[0.3,\"#f1b6da\"],[0.4,\"#fde0ef\"],[0.5,\"#f7f7f7\"],[0.6,\"#e6f5d0\"],[0.7,\"#b8e186\"],[0.8,\"#7fbc41\"],[0.9,\"#4d9221\"],[1,\"#276419\"]]},\"xaxis\":{\"gridcolor\":\"white\",\"linecolor\":\"white\",\"ticks\":\"\",\"title\":{\"standoff\":15},\"zerolinecolor\":\"white\",\"automargin\":true,\"zerolinewidth\":2},\"yaxis\":{\"gridcolor\":\"white\",\"linecolor\":\"white\",\"ticks\":\"\",\"title\":{\"standoff\":15},\"zerolinecolor\":\"white\",\"automargin\":true,\"zerolinewidth\":2},\"scene\":{\"xaxis\":{\"backgroundcolor\":\"#E5ECF6\",\"gridcolor\":\"white\",\"linecolor\":\"white\",\"showbackground\":true,\"ticks\":\"\",\"zerolinecolor\":\"white\",\"gridwidth\":2},\"yaxis\":{\"backgroundcolor\":\"#E5ECF6\",\"gridcolor\":\"white\",\"linecolor\":\"white\",\"showbackground\":true,\"ticks\":\"\",\"zerolinecolor\":\"white\",\"gridwidth\":2},\"zaxis\":{\"backgroundcolor\":\"#E5ECF6\",\"gridcolor\":\"white\",\"linecolor\":\"white\",\"showbackground\":true,\"ticks\":\"\",\"zerolinecolor\":\"white\",\"gridwidth\":2}},\"shapedefaults\":{\"line\":{\"color\":\"#2a3f5f\"}},\"annotationdefaults\":{\"arrowcolor\":\"#2a3f5f\",\"arrowhead\":0,\"arrowwidth\":1},\"geo\":{\"bgcolor\":\"white\",\"landcolor\":\"#E5ECF6\",\"subunitcolor\":\"white\",\"showland\":true,\"showlakes\":true,\"lakecolor\":\"white\"},\"title\":{\"x\":0.05},\"mapbox\":{\"style\":\"light\"}}},\"xaxis\":{\"anchor\":\"y\",\"domain\":[0.0,1.0],\"title\":{\"text\":\"Periodo\"}},\"yaxis\":{\"anchor\":\"x\",\"domain\":[0.0,1.0],\"title\":{\"text\":\"Total\"}},\"legend\":{\"title\":{\"text\":\"Sexo\"},\"tracegroupgap\":0},\"title\":{\"text\":\"Total de Muertes por Sexo y A\\u00f1o\"}},                        {\"responsive\": true}                    ).then(function(){\n",
       "                            \n",
       "var gd = document.getElementById('d1473ab5-7d8f-4358-a9d2-f13cde6e2c64');\n",
       "var x = new MutationObserver(function (mutations, observer) {{\n",
       "        var display = window.getComputedStyle(gd).display;\n",
       "        if (!display || display === 'none') {{\n",
       "            console.log([gd, 'removed!']);\n",
       "            Plotly.purge(gd);\n",
       "            observer.disconnect();\n",
       "        }}\n",
       "}});\n",
       "\n",
       "// Listen for the removal of the full notebook cells\n",
       "var notebookContainer = gd.closest('#notebook-container');\n",
       "if (notebookContainer) {{\n",
       "    x.observe(notebookContainer, {childList: true});\n",
       "}}\n",
       "\n",
       "// Listen for the clearing of the current output cell\n",
       "var outputEl = gd.closest('.output');\n",
       "if (outputEl) {{\n",
       "    x.observe(outputEl, {childList: true});\n",
       "}}\n",
       "\n",
       "                        })                };                });            </script>        </div>"
      ]
     },
     "metadata": {},
     "output_type": "display_data"
    }
   ],
   "source": [
    "fig3 = px.line(deaths_year_sex, x='Periodo', y='Total', color='Sexo', title='Total de Muertes por Sexo y Año')\n",
    "fig3.show()"
   ]
  },
  {
   "cell_type": "code",
   "execution_count": 46,
   "metadata": {},
   "outputs": [
    {
     "data": {
      "application/vnd.plotly.v1+json": {
       "config": {
        "plotlyServerURL": "https://plot.ly"
       },
       "data": [
        {
         "alignmentgroup": "True",
         "hovertemplate": "Edad=%{x}<br>Total=%{y}<extra></extra>",
         "legendgroup": "",
         "marker": {
          "color": "#636efa",
          "pattern": {
           "shape": ""
          }
         },
         "name": "",
         "offsetgroup": "",
         "orientation": "v",
         "showlegend": false,
         "textposition": "auto",
         "type": "bar",
         "x": [
          "De 5 a 9 años",
          "95 y más años",
          "De 10 a 14 años  ",
          "De 90 a 94 años  ",
          "De 15 a 19 años  ",
          "De 85 a 89 años  ",
          "De 20 a 24 años",
          "De 80 a 84 años  ",
          "De 25 a 29 años",
          "De 30 a 34 años",
          "De 35 a 39 años",
          "De 65 a 69 años",
          "De 75 a 79 años  ",
          "De 60 a 64 años",
          "De 70 a 74 años  ",
          "De 40 a 44 años",
          "De 45 a 49 años",
          "De 55 a 59 años",
          "De 50 a 54 años"
         ],
         "xaxis": "x",
         "y": [
          11,
          282,
          449,
          1440,
          2878,
          4340,
          6131,
          7325,
          7335,
          8003,
          8695,
          8847,
          8943,
          9053,
          9094,
          9102,
          9448,
          9555,
          9940
         ],
         "yaxis": "y"
        }
       ],
       "layout": {
        "barmode": "relative",
        "legend": {
         "tracegroupgap": 0
        },
        "template": {
         "data": {
          "bar": [
           {
            "error_x": {
             "color": "#2a3f5f"
            },
            "error_y": {
             "color": "#2a3f5f"
            },
            "marker": {
             "line": {
              "color": "#E5ECF6",
              "width": 0.5
             },
             "pattern": {
              "fillmode": "overlay",
              "size": 10,
              "solidity": 0.2
             }
            },
            "type": "bar"
           }
          ],
          "barpolar": [
           {
            "marker": {
             "line": {
              "color": "#E5ECF6",
              "width": 0.5
             },
             "pattern": {
              "fillmode": "overlay",
              "size": 10,
              "solidity": 0.2
             }
            },
            "type": "barpolar"
           }
          ],
          "carpet": [
           {
            "aaxis": {
             "endlinecolor": "#2a3f5f",
             "gridcolor": "white",
             "linecolor": "white",
             "minorgridcolor": "white",
             "startlinecolor": "#2a3f5f"
            },
            "baxis": {
             "endlinecolor": "#2a3f5f",
             "gridcolor": "white",
             "linecolor": "white",
             "minorgridcolor": "white",
             "startlinecolor": "#2a3f5f"
            },
            "type": "carpet"
           }
          ],
          "choropleth": [
           {
            "colorbar": {
             "outlinewidth": 0,
             "ticks": ""
            },
            "type": "choropleth"
           }
          ],
          "contour": [
           {
            "colorbar": {
             "outlinewidth": 0,
             "ticks": ""
            },
            "colorscale": [
             [
              0,
              "#0d0887"
             ],
             [
              0.1111111111111111,
              "#46039f"
             ],
             [
              0.2222222222222222,
              "#7201a8"
             ],
             [
              0.3333333333333333,
              "#9c179e"
             ],
             [
              0.4444444444444444,
              "#bd3786"
             ],
             [
              0.5555555555555556,
              "#d8576b"
             ],
             [
              0.6666666666666666,
              "#ed7953"
             ],
             [
              0.7777777777777778,
              "#fb9f3a"
             ],
             [
              0.8888888888888888,
              "#fdca26"
             ],
             [
              1,
              "#f0f921"
             ]
            ],
            "type": "contour"
           }
          ],
          "contourcarpet": [
           {
            "colorbar": {
             "outlinewidth": 0,
             "ticks": ""
            },
            "type": "contourcarpet"
           }
          ],
          "heatmap": [
           {
            "colorbar": {
             "outlinewidth": 0,
             "ticks": ""
            },
            "colorscale": [
             [
              0,
              "#0d0887"
             ],
             [
              0.1111111111111111,
              "#46039f"
             ],
             [
              0.2222222222222222,
              "#7201a8"
             ],
             [
              0.3333333333333333,
              "#9c179e"
             ],
             [
              0.4444444444444444,
              "#bd3786"
             ],
             [
              0.5555555555555556,
              "#d8576b"
             ],
             [
              0.6666666666666666,
              "#ed7953"
             ],
             [
              0.7777777777777778,
              "#fb9f3a"
             ],
             [
              0.8888888888888888,
              "#fdca26"
             ],
             [
              1,
              "#f0f921"
             ]
            ],
            "type": "heatmap"
           }
          ],
          "heatmapgl": [
           {
            "colorbar": {
             "outlinewidth": 0,
             "ticks": ""
            },
            "colorscale": [
             [
              0,
              "#0d0887"
             ],
             [
              0.1111111111111111,
              "#46039f"
             ],
             [
              0.2222222222222222,
              "#7201a8"
             ],
             [
              0.3333333333333333,
              "#9c179e"
             ],
             [
              0.4444444444444444,
              "#bd3786"
             ],
             [
              0.5555555555555556,
              "#d8576b"
             ],
             [
              0.6666666666666666,
              "#ed7953"
             ],
             [
              0.7777777777777778,
              "#fb9f3a"
             ],
             [
              0.8888888888888888,
              "#fdca26"
             ],
             [
              1,
              "#f0f921"
             ]
            ],
            "type": "heatmapgl"
           }
          ],
          "histogram": [
           {
            "marker": {
             "pattern": {
              "fillmode": "overlay",
              "size": 10,
              "solidity": 0.2
             }
            },
            "type": "histogram"
           }
          ],
          "histogram2d": [
           {
            "colorbar": {
             "outlinewidth": 0,
             "ticks": ""
            },
            "colorscale": [
             [
              0,
              "#0d0887"
             ],
             [
              0.1111111111111111,
              "#46039f"
             ],
             [
              0.2222222222222222,
              "#7201a8"
             ],
             [
              0.3333333333333333,
              "#9c179e"
             ],
             [
              0.4444444444444444,
              "#bd3786"
             ],
             [
              0.5555555555555556,
              "#d8576b"
             ],
             [
              0.6666666666666666,
              "#ed7953"
             ],
             [
              0.7777777777777778,
              "#fb9f3a"
             ],
             [
              0.8888888888888888,
              "#fdca26"
             ],
             [
              1,
              "#f0f921"
             ]
            ],
            "type": "histogram2d"
           }
          ],
          "histogram2dcontour": [
           {
            "colorbar": {
             "outlinewidth": 0,
             "ticks": ""
            },
            "colorscale": [
             [
              0,
              "#0d0887"
             ],
             [
              0.1111111111111111,
              "#46039f"
             ],
             [
              0.2222222222222222,
              "#7201a8"
             ],
             [
              0.3333333333333333,
              "#9c179e"
             ],
             [
              0.4444444444444444,
              "#bd3786"
             ],
             [
              0.5555555555555556,
              "#d8576b"
             ],
             [
              0.6666666666666666,
              "#ed7953"
             ],
             [
              0.7777777777777778,
              "#fb9f3a"
             ],
             [
              0.8888888888888888,
              "#fdca26"
             ],
             [
              1,
              "#f0f921"
             ]
            ],
            "type": "histogram2dcontour"
           }
          ],
          "mesh3d": [
           {
            "colorbar": {
             "outlinewidth": 0,
             "ticks": ""
            },
            "type": "mesh3d"
           }
          ],
          "parcoords": [
           {
            "line": {
             "colorbar": {
              "outlinewidth": 0,
              "ticks": ""
             }
            },
            "type": "parcoords"
           }
          ],
          "pie": [
           {
            "automargin": true,
            "type": "pie"
           }
          ],
          "scatter": [
           {
            "fillpattern": {
             "fillmode": "overlay",
             "size": 10,
             "solidity": 0.2
            },
            "type": "scatter"
           }
          ],
          "scatter3d": [
           {
            "line": {
             "colorbar": {
              "outlinewidth": 0,
              "ticks": ""
             }
            },
            "marker": {
             "colorbar": {
              "outlinewidth": 0,
              "ticks": ""
             }
            },
            "type": "scatter3d"
           }
          ],
          "scattercarpet": [
           {
            "marker": {
             "colorbar": {
              "outlinewidth": 0,
              "ticks": ""
             }
            },
            "type": "scattercarpet"
           }
          ],
          "scattergeo": [
           {
            "marker": {
             "colorbar": {
              "outlinewidth": 0,
              "ticks": ""
             }
            },
            "type": "scattergeo"
           }
          ],
          "scattergl": [
           {
            "marker": {
             "colorbar": {
              "outlinewidth": 0,
              "ticks": ""
             }
            },
            "type": "scattergl"
           }
          ],
          "scattermapbox": [
           {
            "marker": {
             "colorbar": {
              "outlinewidth": 0,
              "ticks": ""
             }
            },
            "type": "scattermapbox"
           }
          ],
          "scatterpolar": [
           {
            "marker": {
             "colorbar": {
              "outlinewidth": 0,
              "ticks": ""
             }
            },
            "type": "scatterpolar"
           }
          ],
          "scatterpolargl": [
           {
            "marker": {
             "colorbar": {
              "outlinewidth": 0,
              "ticks": ""
             }
            },
            "type": "scatterpolargl"
           }
          ],
          "scatterternary": [
           {
            "marker": {
             "colorbar": {
              "outlinewidth": 0,
              "ticks": ""
             }
            },
            "type": "scatterternary"
           }
          ],
          "surface": [
           {
            "colorbar": {
             "outlinewidth": 0,
             "ticks": ""
            },
            "colorscale": [
             [
              0,
              "#0d0887"
             ],
             [
              0.1111111111111111,
              "#46039f"
             ],
             [
              0.2222222222222222,
              "#7201a8"
             ],
             [
              0.3333333333333333,
              "#9c179e"
             ],
             [
              0.4444444444444444,
              "#bd3786"
             ],
             [
              0.5555555555555556,
              "#d8576b"
             ],
             [
              0.6666666666666666,
              "#ed7953"
             ],
             [
              0.7777777777777778,
              "#fb9f3a"
             ],
             [
              0.8888888888888888,
              "#fdca26"
             ],
             [
              1,
              "#f0f921"
             ]
            ],
            "type": "surface"
           }
          ],
          "table": [
           {
            "cells": {
             "fill": {
              "color": "#EBF0F8"
             },
             "line": {
              "color": "white"
             }
            },
            "header": {
             "fill": {
              "color": "#C8D4E3"
             },
             "line": {
              "color": "white"
             }
            },
            "type": "table"
           }
          ]
         },
         "layout": {
          "annotationdefaults": {
           "arrowcolor": "#2a3f5f",
           "arrowhead": 0,
           "arrowwidth": 1
          },
          "autotypenumbers": "strict",
          "coloraxis": {
           "colorbar": {
            "outlinewidth": 0,
            "ticks": ""
           }
          },
          "colorscale": {
           "diverging": [
            [
             0,
             "#8e0152"
            ],
            [
             0.1,
             "#c51b7d"
            ],
            [
             0.2,
             "#de77ae"
            ],
            [
             0.3,
             "#f1b6da"
            ],
            [
             0.4,
             "#fde0ef"
            ],
            [
             0.5,
             "#f7f7f7"
            ],
            [
             0.6,
             "#e6f5d0"
            ],
            [
             0.7,
             "#b8e186"
            ],
            [
             0.8,
             "#7fbc41"
            ],
            [
             0.9,
             "#4d9221"
            ],
            [
             1,
             "#276419"
            ]
           ],
           "sequential": [
            [
             0,
             "#0d0887"
            ],
            [
             0.1111111111111111,
             "#46039f"
            ],
            [
             0.2222222222222222,
             "#7201a8"
            ],
            [
             0.3333333333333333,
             "#9c179e"
            ],
            [
             0.4444444444444444,
             "#bd3786"
            ],
            [
             0.5555555555555556,
             "#d8576b"
            ],
            [
             0.6666666666666666,
             "#ed7953"
            ],
            [
             0.7777777777777778,
             "#fb9f3a"
            ],
            [
             0.8888888888888888,
             "#fdca26"
            ],
            [
             1,
             "#f0f921"
            ]
           ],
           "sequentialminus": [
            [
             0,
             "#0d0887"
            ],
            [
             0.1111111111111111,
             "#46039f"
            ],
            [
             0.2222222222222222,
             "#7201a8"
            ],
            [
             0.3333333333333333,
             "#9c179e"
            ],
            [
             0.4444444444444444,
             "#bd3786"
            ],
            [
             0.5555555555555556,
             "#d8576b"
            ],
            [
             0.6666666666666666,
             "#ed7953"
            ],
            [
             0.7777777777777778,
             "#fb9f3a"
            ],
            [
             0.8888888888888888,
             "#fdca26"
            ],
            [
             1,
             "#f0f921"
            ]
           ]
          },
          "colorway": [
           "#636efa",
           "#EF553B",
           "#00cc96",
           "#ab63fa",
           "#FFA15A",
           "#19d3f3",
           "#FF6692",
           "#B6E880",
           "#FF97FF",
           "#FECB52"
          ],
          "font": {
           "color": "#2a3f5f"
          },
          "geo": {
           "bgcolor": "white",
           "lakecolor": "white",
           "landcolor": "#E5ECF6",
           "showlakes": true,
           "showland": true,
           "subunitcolor": "white"
          },
          "hoverlabel": {
           "align": "left"
          },
          "hovermode": "closest",
          "mapbox": {
           "style": "light"
          },
          "paper_bgcolor": "white",
          "plot_bgcolor": "#E5ECF6",
          "polar": {
           "angularaxis": {
            "gridcolor": "white",
            "linecolor": "white",
            "ticks": ""
           },
           "bgcolor": "#E5ECF6",
           "radialaxis": {
            "gridcolor": "white",
            "linecolor": "white",
            "ticks": ""
           }
          },
          "scene": {
           "xaxis": {
            "backgroundcolor": "#E5ECF6",
            "gridcolor": "white",
            "gridwidth": 2,
            "linecolor": "white",
            "showbackground": true,
            "ticks": "",
            "zerolinecolor": "white"
           },
           "yaxis": {
            "backgroundcolor": "#E5ECF6",
            "gridcolor": "white",
            "gridwidth": 2,
            "linecolor": "white",
            "showbackground": true,
            "ticks": "",
            "zerolinecolor": "white"
           },
           "zaxis": {
            "backgroundcolor": "#E5ECF6",
            "gridcolor": "white",
            "gridwidth": 2,
            "linecolor": "white",
            "showbackground": true,
            "ticks": "",
            "zerolinecolor": "white"
           }
          },
          "shapedefaults": {
           "line": {
            "color": "#2a3f5f"
           }
          },
          "ternary": {
           "aaxis": {
            "gridcolor": "white",
            "linecolor": "white",
            "ticks": ""
           },
           "baxis": {
            "gridcolor": "white",
            "linecolor": "white",
            "ticks": ""
           },
           "bgcolor": "#E5ECF6",
           "caxis": {
            "gridcolor": "white",
            "linecolor": "white",
            "ticks": ""
           }
          },
          "title": {
           "x": 0.05
          },
          "xaxis": {
           "automargin": true,
           "gridcolor": "white",
           "linecolor": "white",
           "ticks": "",
           "title": {
            "standoff": 15
           },
           "zerolinecolor": "white",
           "zerolinewidth": 2
          },
          "yaxis": {
           "automargin": true,
           "gridcolor": "white",
           "linecolor": "white",
           "ticks": "",
           "title": {
            "standoff": 15
           },
           "zerolinecolor": "white",
           "zerolinewidth": 2
          }
         }
        },
        "title": {
         "text": "Número de Muertes por Edad"
        },
        "xaxis": {
         "anchor": "y",
         "domain": [
          0,
          1
         ],
         "title": {
          "text": "Edad"
         }
        },
        "yaxis": {
         "anchor": "x",
         "domain": [
          0,
          1
         ],
         "title": {
          "text": "Total"
         }
        }
       }
      },
      "text/html": [
       "<div>                            <div id=\"be3c21d3-713d-44bc-bca8-8794a3f33d6c\" class=\"plotly-graph-div\" style=\"height:525px; width:100%;\"></div>            <script type=\"text/javascript\">                require([\"plotly\"], function(Plotly) {                    window.PLOTLYENV=window.PLOTLYENV || {};                                    if (document.getElementById(\"be3c21d3-713d-44bc-bca8-8794a3f33d6c\")) {                    Plotly.newPlot(                        \"be3c21d3-713d-44bc-bca8-8794a3f33d6c\",                        [{\"alignmentgroup\":\"True\",\"hovertemplate\":\"Edad=%{x}<br>Total=%{y}<extra></extra>\",\"legendgroup\":\"\",\"marker\":{\"color\":\"#636efa\",\"pattern\":{\"shape\":\"\"}},\"name\":\"\",\"offsetgroup\":\"\",\"orientation\":\"v\",\"showlegend\":false,\"textposition\":\"auto\",\"x\":[\"De 5 a 9 a\\u00f1os\",\"95 y m\\u00e1s a\\u00f1os\",\"De 10 a 14 a\\u00f1os  \",\"De 90 a 94 a\\u00f1os  \",\"De 15 a 19 a\\u00f1os  \",\"De 85 a 89 a\\u00f1os  \",\"De 20 a 24 a\\u00f1os\",\"De 80 a 84 a\\u00f1os  \",\"De 25 a 29 a\\u00f1os\",\"De 30 a 34 a\\u00f1os\",\"De 35 a 39 a\\u00f1os\",\"De 65 a 69 a\\u00f1os\",\"De 75 a 79 a\\u00f1os  \",\"De 60 a 64 a\\u00f1os\",\"De 70 a 74 a\\u00f1os  \",\"De 40 a 44 a\\u00f1os\",\"De 45 a 49 a\\u00f1os\",\"De 55 a 59 a\\u00f1os\",\"De 50 a 54 a\\u00f1os\"],\"xaxis\":\"x\",\"y\":[11,282,449,1440,2878,4340,6131,7325,7335,8003,8695,8847,8943,9053,9094,9102,9448,9555,9940],\"yaxis\":\"y\",\"type\":\"bar\"}],                        {\"template\":{\"data\":{\"histogram2dcontour\":[{\"type\":\"histogram2dcontour\",\"colorbar\":{\"outlinewidth\":0,\"ticks\":\"\"},\"colorscale\":[[0.0,\"#0d0887\"],[0.1111111111111111,\"#46039f\"],[0.2222222222222222,\"#7201a8\"],[0.3333333333333333,\"#9c179e\"],[0.4444444444444444,\"#bd3786\"],[0.5555555555555556,\"#d8576b\"],[0.6666666666666666,\"#ed7953\"],[0.7777777777777778,\"#fb9f3a\"],[0.8888888888888888,\"#fdca26\"],[1.0,\"#f0f921\"]]}],\"choropleth\":[{\"type\":\"choropleth\",\"colorbar\":{\"outlinewidth\":0,\"ticks\":\"\"}}],\"histogram2d\":[{\"type\":\"histogram2d\",\"colorbar\":{\"outlinewidth\":0,\"ticks\":\"\"},\"colorscale\":[[0.0,\"#0d0887\"],[0.1111111111111111,\"#46039f\"],[0.2222222222222222,\"#7201a8\"],[0.3333333333333333,\"#9c179e\"],[0.4444444444444444,\"#bd3786\"],[0.5555555555555556,\"#d8576b\"],[0.6666666666666666,\"#ed7953\"],[0.7777777777777778,\"#fb9f3a\"],[0.8888888888888888,\"#fdca26\"],[1.0,\"#f0f921\"]]}],\"heatmap\":[{\"type\":\"heatmap\",\"colorbar\":{\"outlinewidth\":0,\"ticks\":\"\"},\"colorscale\":[[0.0,\"#0d0887\"],[0.1111111111111111,\"#46039f\"],[0.2222222222222222,\"#7201a8\"],[0.3333333333333333,\"#9c179e\"],[0.4444444444444444,\"#bd3786\"],[0.5555555555555556,\"#d8576b\"],[0.6666666666666666,\"#ed7953\"],[0.7777777777777778,\"#fb9f3a\"],[0.8888888888888888,\"#fdca26\"],[1.0,\"#f0f921\"]]}],\"heatmapgl\":[{\"type\":\"heatmapgl\",\"colorbar\":{\"outlinewidth\":0,\"ticks\":\"\"},\"colorscale\":[[0.0,\"#0d0887\"],[0.1111111111111111,\"#46039f\"],[0.2222222222222222,\"#7201a8\"],[0.3333333333333333,\"#9c179e\"],[0.4444444444444444,\"#bd3786\"],[0.5555555555555556,\"#d8576b\"],[0.6666666666666666,\"#ed7953\"],[0.7777777777777778,\"#fb9f3a\"],[0.8888888888888888,\"#fdca26\"],[1.0,\"#f0f921\"]]}],\"contourcarpet\":[{\"type\":\"contourcarpet\",\"colorbar\":{\"outlinewidth\":0,\"ticks\":\"\"}}],\"contour\":[{\"type\":\"contour\",\"colorbar\":{\"outlinewidth\":0,\"ticks\":\"\"},\"colorscale\":[[0.0,\"#0d0887\"],[0.1111111111111111,\"#46039f\"],[0.2222222222222222,\"#7201a8\"],[0.3333333333333333,\"#9c179e\"],[0.4444444444444444,\"#bd3786\"],[0.5555555555555556,\"#d8576b\"],[0.6666666666666666,\"#ed7953\"],[0.7777777777777778,\"#fb9f3a\"],[0.8888888888888888,\"#fdca26\"],[1.0,\"#f0f921\"]]}],\"surface\":[{\"type\":\"surface\",\"colorbar\":{\"outlinewidth\":0,\"ticks\":\"\"},\"colorscale\":[[0.0,\"#0d0887\"],[0.1111111111111111,\"#46039f\"],[0.2222222222222222,\"#7201a8\"],[0.3333333333333333,\"#9c179e\"],[0.4444444444444444,\"#bd3786\"],[0.5555555555555556,\"#d8576b\"],[0.6666666666666666,\"#ed7953\"],[0.7777777777777778,\"#fb9f3a\"],[0.8888888888888888,\"#fdca26\"],[1.0,\"#f0f921\"]]}],\"mesh3d\":[{\"type\":\"mesh3d\",\"colorbar\":{\"outlinewidth\":0,\"ticks\":\"\"}}],\"scatter\":[{\"fillpattern\":{\"fillmode\":\"overlay\",\"size\":10,\"solidity\":0.2},\"type\":\"scatter\"}],\"parcoords\":[{\"type\":\"parcoords\",\"line\":{\"colorbar\":{\"outlinewidth\":0,\"ticks\":\"\"}}}],\"scatterpolargl\":[{\"type\":\"scatterpolargl\",\"marker\":{\"colorbar\":{\"outlinewidth\":0,\"ticks\":\"\"}}}],\"bar\":[{\"error_x\":{\"color\":\"#2a3f5f\"},\"error_y\":{\"color\":\"#2a3f5f\"},\"marker\":{\"line\":{\"color\":\"#E5ECF6\",\"width\":0.5},\"pattern\":{\"fillmode\":\"overlay\",\"size\":10,\"solidity\":0.2}},\"type\":\"bar\"}],\"scattergeo\":[{\"type\":\"scattergeo\",\"marker\":{\"colorbar\":{\"outlinewidth\":0,\"ticks\":\"\"}}}],\"scatterpolar\":[{\"type\":\"scatterpolar\",\"marker\":{\"colorbar\":{\"outlinewidth\":0,\"ticks\":\"\"}}}],\"histogram\":[{\"marker\":{\"pattern\":{\"fillmode\":\"overlay\",\"size\":10,\"solidity\":0.2}},\"type\":\"histogram\"}],\"scattergl\":[{\"type\":\"scattergl\",\"marker\":{\"colorbar\":{\"outlinewidth\":0,\"ticks\":\"\"}}}],\"scatter3d\":[{\"type\":\"scatter3d\",\"line\":{\"colorbar\":{\"outlinewidth\":0,\"ticks\":\"\"}},\"marker\":{\"colorbar\":{\"outlinewidth\":0,\"ticks\":\"\"}}}],\"scattermapbox\":[{\"type\":\"scattermapbox\",\"marker\":{\"colorbar\":{\"outlinewidth\":0,\"ticks\":\"\"}}}],\"scatterternary\":[{\"type\":\"scatterternary\",\"marker\":{\"colorbar\":{\"outlinewidth\":0,\"ticks\":\"\"}}}],\"scattercarpet\":[{\"type\":\"scattercarpet\",\"marker\":{\"colorbar\":{\"outlinewidth\":0,\"ticks\":\"\"}}}],\"carpet\":[{\"aaxis\":{\"endlinecolor\":\"#2a3f5f\",\"gridcolor\":\"white\",\"linecolor\":\"white\",\"minorgridcolor\":\"white\",\"startlinecolor\":\"#2a3f5f\"},\"baxis\":{\"endlinecolor\":\"#2a3f5f\",\"gridcolor\":\"white\",\"linecolor\":\"white\",\"minorgridcolor\":\"white\",\"startlinecolor\":\"#2a3f5f\"},\"type\":\"carpet\"}],\"table\":[{\"cells\":{\"fill\":{\"color\":\"#EBF0F8\"},\"line\":{\"color\":\"white\"}},\"header\":{\"fill\":{\"color\":\"#C8D4E3\"},\"line\":{\"color\":\"white\"}},\"type\":\"table\"}],\"barpolar\":[{\"marker\":{\"line\":{\"color\":\"#E5ECF6\",\"width\":0.5},\"pattern\":{\"fillmode\":\"overlay\",\"size\":10,\"solidity\":0.2}},\"type\":\"barpolar\"}],\"pie\":[{\"automargin\":true,\"type\":\"pie\"}]},\"layout\":{\"autotypenumbers\":\"strict\",\"colorway\":[\"#636efa\",\"#EF553B\",\"#00cc96\",\"#ab63fa\",\"#FFA15A\",\"#19d3f3\",\"#FF6692\",\"#B6E880\",\"#FF97FF\",\"#FECB52\"],\"font\":{\"color\":\"#2a3f5f\"},\"hovermode\":\"closest\",\"hoverlabel\":{\"align\":\"left\"},\"paper_bgcolor\":\"white\",\"plot_bgcolor\":\"#E5ECF6\",\"polar\":{\"bgcolor\":\"#E5ECF6\",\"angularaxis\":{\"gridcolor\":\"white\",\"linecolor\":\"white\",\"ticks\":\"\"},\"radialaxis\":{\"gridcolor\":\"white\",\"linecolor\":\"white\",\"ticks\":\"\"}},\"ternary\":{\"bgcolor\":\"#E5ECF6\",\"aaxis\":{\"gridcolor\":\"white\",\"linecolor\":\"white\",\"ticks\":\"\"},\"baxis\":{\"gridcolor\":\"white\",\"linecolor\":\"white\",\"ticks\":\"\"},\"caxis\":{\"gridcolor\":\"white\",\"linecolor\":\"white\",\"ticks\":\"\"}},\"coloraxis\":{\"colorbar\":{\"outlinewidth\":0,\"ticks\":\"\"}},\"colorscale\":{\"sequential\":[[0.0,\"#0d0887\"],[0.1111111111111111,\"#46039f\"],[0.2222222222222222,\"#7201a8\"],[0.3333333333333333,\"#9c179e\"],[0.4444444444444444,\"#bd3786\"],[0.5555555555555556,\"#d8576b\"],[0.6666666666666666,\"#ed7953\"],[0.7777777777777778,\"#fb9f3a\"],[0.8888888888888888,\"#fdca26\"],[1.0,\"#f0f921\"]],\"sequentialminus\":[[0.0,\"#0d0887\"],[0.1111111111111111,\"#46039f\"],[0.2222222222222222,\"#7201a8\"],[0.3333333333333333,\"#9c179e\"],[0.4444444444444444,\"#bd3786\"],[0.5555555555555556,\"#d8576b\"],[0.6666666666666666,\"#ed7953\"],[0.7777777777777778,\"#fb9f3a\"],[0.8888888888888888,\"#fdca26\"],[1.0,\"#f0f921\"]],\"diverging\":[[0,\"#8e0152\"],[0.1,\"#c51b7d\"],[0.2,\"#de77ae\"],[0.3,\"#f1b6da\"],[0.4,\"#fde0ef\"],[0.5,\"#f7f7f7\"],[0.6,\"#e6f5d0\"],[0.7,\"#b8e186\"],[0.8,\"#7fbc41\"],[0.9,\"#4d9221\"],[1,\"#276419\"]]},\"xaxis\":{\"gridcolor\":\"white\",\"linecolor\":\"white\",\"ticks\":\"\",\"title\":{\"standoff\":15},\"zerolinecolor\":\"white\",\"automargin\":true,\"zerolinewidth\":2},\"yaxis\":{\"gridcolor\":\"white\",\"linecolor\":\"white\",\"ticks\":\"\",\"title\":{\"standoff\":15},\"zerolinecolor\":\"white\",\"automargin\":true,\"zerolinewidth\":2},\"scene\":{\"xaxis\":{\"backgroundcolor\":\"#E5ECF6\",\"gridcolor\":\"white\",\"linecolor\":\"white\",\"showbackground\":true,\"ticks\":\"\",\"zerolinecolor\":\"white\",\"gridwidth\":2},\"yaxis\":{\"backgroundcolor\":\"#E5ECF6\",\"gridcolor\":\"white\",\"linecolor\":\"white\",\"showbackground\":true,\"ticks\":\"\",\"zerolinecolor\":\"white\",\"gridwidth\":2},\"zaxis\":{\"backgroundcolor\":\"#E5ECF6\",\"gridcolor\":\"white\",\"linecolor\":\"white\",\"showbackground\":true,\"ticks\":\"\",\"zerolinecolor\":\"white\",\"gridwidth\":2}},\"shapedefaults\":{\"line\":{\"color\":\"#2a3f5f\"}},\"annotationdefaults\":{\"arrowcolor\":\"#2a3f5f\",\"arrowhead\":0,\"arrowwidth\":1},\"geo\":{\"bgcolor\":\"white\",\"landcolor\":\"#E5ECF6\",\"subunitcolor\":\"white\",\"showland\":true,\"showlakes\":true,\"lakecolor\":\"white\"},\"title\":{\"x\":0.05},\"mapbox\":{\"style\":\"light\"}}},\"xaxis\":{\"anchor\":\"y\",\"domain\":[0.0,1.0],\"title\":{\"text\":\"Edad\"}},\"yaxis\":{\"anchor\":\"x\",\"domain\":[0.0,1.0],\"title\":{\"text\":\"Total\"}},\"legend\":{\"tracegroupgap\":0},\"title\":{\"text\":\"N\\u00famero de Muertes por Edad\"},\"barmode\":\"relative\"},                        {\"responsive\": true}                    ).then(function(){\n",
       "                            \n",
       "var gd = document.getElementById('be3c21d3-713d-44bc-bca8-8794a3f33d6c');\n",
       "var x = new MutationObserver(function (mutations, observer) {{\n",
       "        var display = window.getComputedStyle(gd).display;\n",
       "        if (!display || display === 'none') {{\n",
       "            console.log([gd, 'removed!']);\n",
       "            Plotly.purge(gd);\n",
       "            observer.disconnect();\n",
       "        }}\n",
       "}});\n",
       "\n",
       "// Listen for the removal of the full notebook cells\n",
       "var notebookContainer = gd.closest('#notebook-container');\n",
       "if (notebookContainer) {{\n",
       "    x.observe(notebookContainer, {childList: true});\n",
       "}}\n",
       "\n",
       "// Listen for the clearing of the current output cell\n",
       "var outputEl = gd.closest('.output');\n",
       "if (outputEl) {{\n",
       "    x.observe(outputEl, {childList: true});\n",
       "}}\n",
       "\n",
       "                        })                };                });            </script>        </div>"
      ]
     },
     "metadata": {},
     "output_type": "display_data"
    }
   ],
   "source": [
    "fig4 = px.bar(deaths_cause, x=\"Edad\", y=\"Total\", title='Número de Muertes por Edad')\n",
    "fig4.show()"
   ]
  }
 ],
 "metadata": {
  "kernelspec": {
   "display_name": "Python [conda env:m2_env]",
   "language": "python",
   "name": "conda-env-m2_env-py"
  },
  "language_info": {
   "codemirror_mode": {
    "name": "ipython",
    "version": 3
   },
   "file_extension": ".py",
   "mimetype": "text/x-python",
   "name": "python",
   "nbconvert_exporter": "python",
   "pygments_lexer": "ipython3",
   "version": "3.11.2"
  }
 },
 "nbformat": 4,
 "nbformat_minor": 2
}
