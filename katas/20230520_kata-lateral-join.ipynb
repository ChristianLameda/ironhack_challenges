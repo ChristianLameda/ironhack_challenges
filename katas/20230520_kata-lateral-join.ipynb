SELECT c.id AS category_id,
       c.category,
       p.title,
       p.views,
       p.post_id
FROM categories c
LEFT JOIN LATERAL
(SELECT id as post_id,
        category_id,
        title,
        views
FROM posts WHERE category_id = c.id
ORDER BY views DESC, id
LIMIT 2) p
ON c.id = p.category_id
ORDER BY c.category, p.views desc, p.post_id;