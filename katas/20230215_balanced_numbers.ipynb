{
 "cells": [
  {
   "cell_type": "code",
   "execution_count": 1,
   "id": "cbedcf69",
   "metadata": {},
   "outputs": [],
   "source": [
    "def balanced_num(number):\n",
    "    n_string = str(number)\n",
    "    n_digit = 0\n",
    "    mitad_1 = 0\n",
    "    mitad_2 = 0\n",
    "\n",
    "\n",
    "    if len(n_string) < 3:\n",
    "        return 'Balanced'\n",
    "\n",
    "    else:\n",
    "        if len(n_string) % 2 == 1:\n",
    "            n_digit = int((len(n_string))/2)\n",
    "        elif len(n_string) % 2 == 0:\n",
    "            n_digit = int((len(n_string)/2)-1)\n",
    "            \n",
    "        for i in n_string[0:n_digit]:\n",
    "            mitad_1 += int(i)\n",
    "    \n",
    "        for i in n_string[-n_digit:len(n_string)]:\n",
    "            mitad_2 += int(i)\n",
    "    \n",
    "        if mitad_1 == mitad_2:\n",
    "            return \"Balanced\"\n",
    "        elif mitad_1 != mitad_2:\n",
    "            return \"Not Balanced\""
   ]
  }
 ],
 "metadata": {
  "kernelspec": {
   "display_name": "Python [conda env:m1_env]",
   "language": "python",
   "name": "conda-env-m1_env-py"
  },
  "language_info": {
   "codemirror_mode": {
    "name": "ipython",
    "version": 3
   },
   "file_extension": ".py",
   "mimetype": "text/x-python",
   "name": "python",
   "nbconvert_exporter": "python",
   "pygments_lexer": "ipython3",
   "version": "3.9.16"
  }
 },
 "nbformat": 4,
 "nbformat_minor": 5
}
