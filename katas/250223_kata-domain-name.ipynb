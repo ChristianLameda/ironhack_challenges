{
 "cells": [
  {
   "cell_type": "code",
   "execution_count": 8,
   "id": "917d440d",
   "metadata": {},
   "outputs": [],
   "source": [
    "sample_url = \"https://www.dominio.com\""
   ]
  },
  {
   "cell_type": "code",
   "execution_count": 11,
   "id": "0cf5dda1",
   "metadata": {},
   "outputs": [],
   "source": [
    "def domain_name(url):\n",
    "\n",
    "    return url.split(\"//\")[-1].split(\"www.\")[-1].split(\".\")[0]"
   ]
  },
  {
   "cell_type": "code",
   "execution_count": 10,
   "id": "4d213251",
   "metadata": {},
   "outputs": [
    {
     "data": {
      "text/plain": [
       "'dominio'"
      ]
     },
     "execution_count": 10,
     "metadata": {},
     "output_type": "execute_result"
    }
   ],
   "source": [
    "domain_name(sample_url)"
   ]
  }
 ],
 "metadata": {
  "kernelspec": {
   "display_name": "Python [conda env:m1_env]",
   "language": "python",
   "name": "conda-env-m1_env-py"
  },
  "language_info": {
   "codemirror_mode": {
    "name": "ipython",
    "version": 3
   },
   "file_extension": ".py",
   "mimetype": "text/x-python",
   "name": "python",
   "nbconvert_exporter": "python",
   "pygments_lexer": "ipython3",
   "version": "3.9.16"
  }
 },
 "nbformat": 4,
 "nbformat_minor": 5
}
