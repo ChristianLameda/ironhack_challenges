{
 "cells": [
  {
   "cell_type": "code",
   "execution_count": 30,
   "id": "7c90a0ac",
   "metadata": {},
   "outputs": [],
   "source": [
    "n = 2 \n",
    "customers = [2,2,3,3,4,4]"
   ]
  },
  {
   "cell_type": "code",
   "execution_count": 31,
   "id": "ddd7a98e",
   "metadata": {},
   "outputs": [
    {
     "data": {
      "text/plain": [
       "[0, 0]"
      ]
     },
     "execution_count": 31,
     "metadata": {},
     "output_type": "execute_result"
    }
   ],
   "source": [
    "queue = [0] * n\n",
    "queue"
   ]
  },
  {
   "cell_type": "code",
   "execution_count": 32,
   "id": "bc22c486",
   "metadata": {},
   "outputs": [],
   "source": [
    "# This is my code, but it doesnt pass the last test\n",
    "def queue_time(customers, n):\n",
    "    if customers == []:\n",
    "            return 0\n",
    "    for number in customers:\n",
    "        if len(customers) == 1:\n",
    "            return customers[0]\n",
    "        elif len(customers) > 1:\n",
    "            if n == 1:\n",
    "                return sum(customers)\n",
    "            elif n >= len(customers):\n",
    "                return max(customers)\n",
    "            else:\n",
    "                queue = [0] * n\n",
    "                for c in customers:\n",
    "                    queue = sorted(queue)\n",
    "                    queue[0] += c\n",
    "                    return max(queue)"
   ]
  },
  {
   "cell_type": "code",
   "execution_count": 33,
   "id": "574168cc",
   "metadata": {},
   "outputs": [
    {
     "data": {
      "text/plain": [
       "2"
      ]
     },
     "execution_count": 33,
     "metadata": {},
     "output_type": "execute_result"
    }
   ],
   "source": [
    "queue_time([2,2,3,3,4,4],2)"
   ]
  },
  {
   "cell_type": "code",
   "execution_count": 34,
   "id": "8c5d08cb",
   "metadata": {},
   "outputs": [],
   "source": [
    "# This is the code that we saw in classroom\n",
    "def queue_time(customers, n):\n",
    "    queue = [0] * n\n",
    "    for c in customers:\n",
    "        queue = sorted(queue)\n",
    "        queue[0] += c\n",
    "    return max(queue)"
   ]
  },
  {
   "cell_type": "code",
   "execution_count": 35,
   "id": "69fcd20b",
   "metadata": {},
   "outputs": [
    {
     "data": {
      "text/plain": [
       "9"
      ]
     },
     "execution_count": 35,
     "metadata": {},
     "output_type": "execute_result"
    }
   ],
   "source": [
    "queue_time([2,2,3,3,4,4],2)"
   ]
  }
 ],
 "metadata": {
  "kernelspec": {
   "display_name": "Python [conda env:m1_env]",
   "language": "python",
   "name": "conda-env-m1_env-py"
  },
  "language_info": {
   "codemirror_mode": {
    "name": "ipython",
    "version": 3
   },
   "file_extension": ".py",
   "mimetype": "text/x-python",
   "name": "python",
   "nbconvert_exporter": "python",
   "pygments_lexer": "ipython3",
   "version": "3.9.16"
  }
 },
 "nbformat": 4,
 "nbformat_minor": 5
}
