{
 "cells": [
  {
   "cell_type": "code",
   "execution_count": 9,
   "id": "243b7bb9",
   "metadata": {},
   "outputs": [],
   "source": [
    "def get_count(sentence):\n",
    "    string=str(sentence)\n",
    "    return(string.count(\"a\")+string.count(\"e\")+string.count(\"i\")+string.count(\"o\")+string.count(\"u\"))"
   ]
  },
  {
   "cell_type": "code",
   "execution_count": 10,
   "id": "d942d18c",
   "metadata": {},
   "outputs": [
    {
     "data": {
      "text/plain": [
       "5"
      ]
     },
     "execution_count": 10,
     "metadata": {},
     "output_type": "execute_result"
    }
   ],
   "source": [
    "get_count(\"abracadabra\")"
   ]
  },
  {
   "cell_type": "code",
   "execution_count": 11,
   "id": "c6f49b0b",
   "metadata": {},
   "outputs": [
    {
     "data": {
      "text/plain": [
       "7"
      ]
     },
     "execution_count": 11,
     "metadata": {},
     "output_type": "execute_result"
    }
   ],
   "source": [
    "get_count(\"paralelepipedo\")"
   ]
  },
  {
   "cell_type": "code",
   "execution_count": 12,
   "id": "da46f92d",
   "metadata": {},
   "outputs": [
    {
     "data": {
      "text/plain": [
       "4"
      ]
     },
     "execution_count": 12,
     "metadata": {},
     "output_type": "execute_result"
    }
   ],
   "source": [
    "get_count(\"el avion\")"
   ]
  },
  {
   "cell_type": "code",
   "execution_count": 13,
   "id": "29caa4c5",
   "metadata": {},
   "outputs": [
    {
     "data": {
      "text/plain": [
       "3"
      ]
     },
     "execution_count": 13,
     "metadata": {},
     "output_type": "execute_result"
    }
   ],
   "source": [
    "get_count(\"El avion\")"
   ]
  },
  {
   "cell_type": "code",
   "execution_count": null,
   "id": "41754d4b",
   "metadata": {},
   "outputs": [],
   "source": []
  }
 ],
 "metadata": {
  "kernelspec": {
   "display_name": "Python [conda env:m1_env]",
   "language": "python",
   "name": "conda-env-m1_env-py"
  },
  "language_info": {
   "codemirror_mode": {
    "name": "ipython",
    "version": 3
   },
   "file_extension": ".py",
   "mimetype": "text/x-python",
   "name": "python",
   "nbconvert_exporter": "python",
   "pygments_lexer": "ipython3",
   "version": "3.9.16"
  }
 },
 "nbformat": 4,
 "nbformat_minor": 5
}
