{
 "cells": [
  {
   "cell_type": "markdown",
   "id": "441780d9",
   "metadata": {},
   "source": [
    "Write a simple parser that will parse and run Deadfish.\n",
    "\n",
    "Deadfish has 4 commands, each 1 character long:\n",
    "\n",
    "i increments the value (initially 0)\n",
    "d decrements the value\n",
    "s squares the value\n",
    "o outputs the value into the return array\n",
    "Invalid characters should be ignored."
   ]
  },
  {
   "cell_type": "code",
   "execution_count": 6,
   "id": "3da28171",
   "metadata": {},
   "outputs": [],
   "source": [
    "st = \"isoisoiso\"\n",
    "\n",
    "lista = []\n",
    "\n",
    "inicio = 0\n",
    "\n",
    "\n",
    "for x in st:\n",
    "    if x == \"i\":\n",
    "        inicio += 1\n",
    "    elif x == \"d\":\n",
    "        inicio += -1\n",
    "    elif x == \"s\":\n",
    "        inicio = inicio **2\n",
    "    elif x == \"o\":\n",
    "        lista.append(inicio)"
   ]
  },
  {
   "cell_type": "code",
   "execution_count": 7,
   "id": "34e25ce2",
   "metadata": {},
   "outputs": [
    {
     "data": {
      "text/plain": [
       "[1, 4, 25]"
      ]
     },
     "execution_count": 7,
     "metadata": {},
     "output_type": "execute_result"
    }
   ],
   "source": [
    "lista"
   ]
  },
  {
   "cell_type": "code",
   "execution_count": 14,
   "id": "54a88371",
   "metadata": {},
   "outputs": [],
   "source": [
    "def parse(st):\n",
    "    lista = []\n",
    "    \n",
    "    inicio = 0\n",
    "\n",
    "\n",
    "    for x in st:\n",
    "        if x == \"i\":\n",
    "            inicio += 1\n",
    "        elif x == \"d\":\n",
    "            inicio += -1\n",
    "        elif x == \"s\":\n",
    "            inicio = inicio **2\n",
    "        elif x == \"o\":\n",
    "            lista.append(inicio)\n",
    "    \n",
    "    return lista"
   ]
  },
  {
   "cell_type": "code",
   "execution_count": null,
   "id": "dde0abfe",
   "metadata": {},
   "outputs": [],
   "source": [
    "parse()"
   ]
  }
 ],
 "metadata": {
  "kernelspec": {
   "display_name": "Python [conda env:m1_env]",
   "language": "python",
   "name": "conda-env-m1_env-py"
  },
  "language_info": {
   "codemirror_mode": {
    "name": "ipython",
    "version": 3
   },
   "file_extension": ".py",
   "mimetype": "text/x-python",
   "name": "python",
   "nbconvert_exporter": "python",
   "pygments_lexer": "ipython3",
   "version": "3.9.16"
  }
 },
 "nbformat": 4,
 "nbformat_minor": 5
}
