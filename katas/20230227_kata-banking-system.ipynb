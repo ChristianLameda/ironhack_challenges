{
 "cells": [
  {
   "cell_type": "code",
   "execution_count": 26,
   "id": "be385afe",
   "metadata": {},
   "outputs": [],
   "source": [
    "class User(object):\n",
    "    def __init__(self, name, balance, checking_account):\n",
    "        self.name = name\n",
    "        self.balance = balance\n",
    "        self.checking_account = checking_account\n",
    "        \n",
    "    def withdraw(self, money):\n",
    "        if money > self.balance:\n",
    "            raise ValueError ('Insufficient Balance.')\n",
    "        else:\n",
    "            new_balance = self.balance - money\n",
    "        return f'{self.name} has {new_balance}.'\n",
    "    \n",
    "    def check(self, other, money):\n",
    "        if other.checking_account:\n",
    "            if other.balance >= money:\n",
    "                other.balance -= money\n",
    "                self.balance += money\n",
    "            else:\n",
    "                raise ValueError(f\"{other.name} doesn't have enough money.\")\n",
    "        else:\n",
    "            raise ValueError(f'Could not check account for {other.name}.')\n",
    "        return f'{self.name} has {self.balance} and {other.name} has {other.balance}.'\n",
    "     \n",
    "    def add_cash(self, money):\n",
    "        new_balance = self.balance + money\n",
    "        return f'{self.name} has {new_balance}.'"
   ]
  },
  {
   "cell_type": "code",
   "execution_count": 27,
   "id": "f4860fb6",
   "metadata": {},
   "outputs": [],
   "source": [
    "Jeff = User('Jeff', 70, True)\n",
    "Joe = User('Joe', 70, True)"
   ]
  },
  {
   "cell_type": "code",
   "execution_count": 28,
   "id": "55a5bc06",
   "metadata": {},
   "outputs": [
    {
     "data": {
      "text/plain": [
       "'Jeff has 50.'"
      ]
     },
     "execution_count": 28,
     "metadata": {},
     "output_type": "execute_result"
    }
   ],
   "source": [
    "Jeff.withdraw(20)"
   ]
  },
  {
   "cell_type": "code",
   "execution_count": 30,
   "id": "1e4bd533",
   "metadata": {},
   "outputs": [
    {
     "data": {
      "text/plain": [
       "'Jeff has 90 and Joe has 50.'"
      ]
     },
     "execution_count": 30,
     "metadata": {},
     "output_type": "execute_result"
    }
   ],
   "source": [
    "Jeff.check(Joe,20)"
   ]
  },
  {
   "cell_type": "code",
   "execution_count": 32,
   "id": "c4bdeaf9",
   "metadata": {},
   "outputs": [
    {
     "data": {
      "text/plain": [
       "'Joe has 65.'"
      ]
     },
     "execution_count": 32,
     "metadata": {},
     "output_type": "execute_result"
    }
   ],
   "source": [
    "Joe.add_cash(15)"
   ]
  }
 ],
 "metadata": {
  "kernelspec": {
   "display_name": "Python [conda env:m1_env]",
   "language": "python",
   "name": "conda-env-m1_env-py"
  },
  "language_info": {
   "codemirror_mode": {
    "name": "ipython",
    "version": 3
   },
   "file_extension": ".py",
   "mimetype": "text/x-python",
   "name": "python",
   "nbconvert_exporter": "python",
   "pygments_lexer": "ipython3",
   "version": "3.9.16"
  }
 },
 "nbformat": 4,
 "nbformat_minor": 5
}
